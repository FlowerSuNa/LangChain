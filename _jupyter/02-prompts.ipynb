{
 "cells": [
  {
   "cell_type": "markdown",
   "id": "a95767a5",
   "metadata": {},
   "source": [
    "# 기본 프롬프트 구현"
   ]
  },
  {
   "cell_type": "markdown",
   "id": "f02fe235",
   "metadata": {},
   "source": [
    "## 1. PromptTemplate"
   ]
  },
  {
   "cell_type": "markdown",
   "id": "15ae26d8",
   "metadata": {},
   "source": [
    "### 템플릿 직접 생성"
   ]
  },
  {
   "cell_type": "code",
   "execution_count": null,
   "id": "93644b79",
   "metadata": {},
   "outputs": [
    {
     "data": {
      "text/plain": [
       "'다음 주제에 대해 500자자 이내로 설명해주세요: 인공지능의 정의, 역사, 응용분야'"
      ]
     },
     "execution_count": 3,
     "metadata": {},
     "output_type": "execute_result"
    }
   ],
   "source": [
    "from langchain_core.prompts import PromptTemplate\n",
    "\n",
    "# 템플릿 생성\n",
    "prompt = PromptTemplate(\n",
    "    template=\"다음 주제에 대해 {length}자 이내로 설명해주세요: {topic}의 {content}\",\n",
    "    input_variables=[\"length\", \"topic\", \"content\"]\n",
    ")\n",
    "\n",
    "# 최종 프롬프트\n",
    "formatted_prompt = prompt.format(\n",
    "    length=\"500\",\n",
    "    topic=\"인공지능\",\n",
    "    content=\"정의, 역사, 응용분야\"\n",
    ")\n",
    "print(formatted_prompt)"
   ]
  },
  {
   "cell_type": "markdown",
   "id": "10695b0b",
   "metadata": {},
   "source": [
    "### 템플릿 간편 생성"
   ]
  },
  {
   "cell_type": "code",
   "execution_count": null,
   "id": "14643e04",
   "metadata": {},
   "outputs": [
    {
     "data": {
      "text/plain": [
       "'다음 주제에 대해 500자자 이내로 설명해주세요: 인공지능의 정의, 역사, 응용분야'"
      ]
     },
     "execution_count": 4,
     "metadata": {},
     "output_type": "execute_result"
    }
   ],
   "source": [
    "from langchain_core.prompts import PromptTemplate\n",
    "\n",
    "# 템플릿 생성\n",
    "prompt = PromptTemplate.from_template(\n",
    "    \"다음 주제에 대해 {length}자 이내로 설명해주세요: {topic}의 {content}\"\n",
    ")\n",
    "\n",
    "# 최종 프롬프트\n",
    "formatted_prompt = prompt.format(\n",
    "    length=\"500\",\n",
    "    topic=\"인공지능\",\n",
    "    content=\"정의, 역사, 응용분야\"\n",
    ")\n",
    "print(formatted_prompt)"
   ]
  },
  {
   "cell_type": "markdown",
   "id": "fd2f13a2",
   "metadata": {},
   "source": [
    "### 템플릿 부분 포맷팅"
   ]
  },
  {
   "cell_type": "code",
   "execution_count": 8,
   "id": "070f100a",
   "metadata": {},
   "outputs": [
    {
     "name": "stdout",
     "output_type": "stream",
     "text": [
      "다음 주제에 대해 100자 이내로 설명해주세요: 인공지능의 정의\n",
      "다음 주제에 대해 300자 이내로 설명해주세요: 인공지능의 역사\n",
      "다음 주제에 대해 100자 이내로 설명해주세요: 인공지능의 응용분야\n"
     ]
    }
   ],
   "source": [
    "from langchain_core.prompts import PromptTemplate\n",
    "\n",
    "# 템플릿 생성 \n",
    "prompt = PromptTemplate(\n",
    "    template=\"다음 주제에 대해 {length}자 이내로 설명해주세요: {topic}의 {content}\",\n",
    "    input_variables=[\"length\", \"topic\", \"content\"]\n",
    ")\n",
    "\n",
    "# 템플릿 부분 포맷팅\n",
    "partial_prompt = prompt.partial(topic=\"인공지능\")\n",
    "\n",
    "# 최종 프롬프트\n",
    "final_prompt1 = partial_prompt.format(content=\"정의\", length=\"100\")\n",
    "final_prompt2 = partial_prompt.format(content=\"역사\", length=\"300\")\n",
    "final_prompt3 = partial_prompt.format(content=\"응용분야\", length=\"100\")\n",
    "print(final_prompt1, final_prompt2, final_prompt3, sep=\"\\n\")"
   ]
  },
  {
   "cell_type": "markdown",
   "id": "37a081fe",
   "metadata": {},
   "source": [
    "## 2. ChatPromptTemplate"
   ]
  },
  {
   "cell_type": "code",
   "execution_count": 12,
   "id": "c829bde7",
   "metadata": {},
   "outputs": [
    {
     "name": "stdout",
     "output_type": "stream",
     "text": [
      "'System: 당신은 인공지능 전문가입니다.\\nHuman: 인공지능의 정의를 설명해주세요.'\n"
     ]
    }
   ],
   "source": [
    "from langchain_core.prompts import ChatPromptTemplate\n",
    "from langchain_core.prompts import (\n",
    "    SystemMessagePromptTemplate, \n",
    "    HumanMessagePromptTemplate\n",
    ")\n",
    "from pprint import pprint\n",
    "\n",
    "# 메시지 템플릿 생성\n",
    "system_message = SystemMessagePromptTemplate.from_template(\n",
    "    \"당신은 {role} 전문가입니다.\"\n",
    ")\n",
    "human_message = HumanMessagePromptTemplate.from_template(\n",
    "    \"{question}\"\n",
    ")\n",
    "\n",
    "# 템플릿 생성\n",
    "chat_prompt = ChatPromptTemplate.from_messages(\n",
    "    [system_message, human_message]\n",
    ")\n",
    "\n",
    "# 최종 프롬프트\n",
    "formatted_prompt = chat_prompt.format(\n",
    "    role=\"인공지능\",\n",
    "    question=\"인공지능의 정의를 설명해주세요.\"\n",
    ")\n",
    "pprint(formatted_prompt)"
   ]
  },
  {
   "cell_type": "markdown",
   "id": "a73d3f6d",
   "metadata": {},
   "source": [
    "## 3. FewShotChatMessagePromptTemplate"
   ]
  },
  {
   "cell_type": "code",
   "execution_count": null,
   "id": "e2f95b5f",
   "metadata": {},
   "outputs": [
    {
     "name": "stdout",
     "output_type": "stream",
     "text": [
      "('System: 당신은 제품 리뷰에서 **기능 관련 핵심 키워드**를 추출하는 전문가입니다.\\n'\n",
      " 'Human: 리뷰: 노트북 화면이 선명하고 키보드 타건감이 좋아서 업무용으로 만족스럽습니다.\\n'\n",
      " 'AI: 기능 키워드:디스플레이, 키보드\\n'\n",
      " 'Human: 리뷰: 무선 이어폰은 배터리도 오래가고 블루투스 연결이 끊기지 않아 편리해요.\\n'\n",
      " 'AI: 기능 키워드:배터리 수명, 블루투스 연결\\n'\n",
      " 'Human: 리뷰: 이 공기청정기는 소음이 거의 없고 센서 반응 속도도 빨라요.\\n'\n",
      " 'AI: 기능 키워드:소음, 센서 반응 속도\\n'\n",
      " 'Human: 리뷰: 로봇청소기 흡입력이 좋고 장애물 회피도 잘해서 만족합니다.')\n"
     ]
    }
   ],
   "source": [
    "from langchain_core.prompts import (\n",
    "    FewShotChatMessagePromptTemplate,\n",
    "    ChatPromptTemplate\n",
    ")\n",
    "from pprint import pprint\n",
    "\n",
    "# 예시\n",
    "examples = [\n",
    "    {\n",
    "        \"input\": \"노트북 화면이 선명하고 키보드 타건감이 좋아서 업무용으로 만족스럽습니다.\",\n",
    "        \"output\": \"디스플레이, 키보드\"\n",
    "    },\n",
    "    {\n",
    "        \"input\": \"무선 이어폰은 배터리도 오래가고 블루투스 연결이 끊기지 않아 편리해요.\",\n",
    "        \"output\": \"배터리 수명, 블루투스 연결\"\n",
    "    },\n",
    "    {\n",
    "        \"input\": \"이 공기청정기는 소음이 거의 없고 센서 반응 속도도 빨라요.\",\n",
    "        \"output\": \"소음, 센서 반응 속도\"\n",
    "    }\n",
    "]\n",
    "\n",
    "# 예시 템플릿 생성\n",
    "example_prompt = ChatPromptTemplate.from_messages(\n",
    "    [('human', '리뷰: {input}'), ('ai', '기능 키워드:{output}')]\n",
    ")\n",
    "\n",
    "# 퓨샷 템플릿 생성\n",
    "few_shot_prompt = FewShotChatMessagePromptTemplate(\n",
    "    examples=examples,\n",
    "    example_prompt=example_prompt,\n",
    ")\n",
    "final_prompt = ChatPromptTemplate.from_messages([\n",
    "    ('system', '당신은 제품 리뷰에서 **기능 관련 핵심 키워드**를 추출하는 전문가입니다.'),\n",
    "    few_shot_prompt,\n",
    "    ('human', '리뷰: {input}'),\n",
    "])\n",
    "\n",
    "# 최종 프롬프트\n",
    "formatted_prompt = final_prompt.format(\n",
    "    input=\"로봇청소기 흡입력이 좋고 장애물 회피도 잘해서 만족합니다.\"\n",
    ")\n",
    "pprint(formatted_prompt)"
   ]
  },
  {
   "cell_type": "code",
   "execution_count": null,
   "id": "96ee365b",
   "metadata": {},
   "outputs": [],
   "source": []
  }
 ],
 "metadata": {
  "kernelspec": {
   "display_name": ".venv",
   "language": "python",
   "name": "python3"
  },
  "language_info": {
   "codemirror_mode": {
    "name": "ipython",
    "version": 3
   },
   "file_extension": ".py",
   "mimetype": "text/x-python",
   "name": "python",
   "nbconvert_exporter": "python",
   "pygments_lexer": "ipython3",
   "version": "3.12.10"
  }
 },
 "nbformat": 4,
 "nbformat_minor": 5
}
