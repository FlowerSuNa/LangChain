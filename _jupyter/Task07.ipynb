{
 "cells": [
  {
   "cell_type": "markdown",
   "id": "794a3744",
   "metadata": {},
   "source": [
    "# 다국어 질의 대응 네이버 검색 요약 에이전트 개발"
   ]
  },
  {
   "cell_type": "markdown",
   "id": "a7e972f6",
   "metadata": {},
   "source": [
    "> 목표 : 사용자 정의 도구 개발 및 Agent 구현"
   ]
  },
  {
   "cell_type": "markdown",
   "id": "a17e52bc",
   "metadata": {},
   "source": [
    "## 환경 설정"
   ]
  },
  {
   "cell_type": "code",
   "execution_count": 1,
   "id": "cd7d1720",
   "metadata": {},
   "outputs": [
    {
     "data": {
      "text/plain": [
       "True"
      ]
     },
     "execution_count": 1,
     "metadata": {},
     "output_type": "execute_result"
    }
   ],
   "source": [
    "from dotenv import load_dotenv\n",
    "\n",
    "# 환경변수 로드\n",
    "load_dotenv()"
   ]
  },
  {
   "cell_type": "code",
   "execution_count": 2,
   "id": "9e6beda4",
   "metadata": {},
   "outputs": [],
   "source": [
    "import os\n",
    "import json\n",
    "\n",
    "from pprint import pprint"
   ]
  },
  {
   "cell_type": "code",
   "execution_count": 3,
   "id": "a7268168",
   "metadata": {},
   "outputs": [],
   "source": [
    "from langfuse.langchain import CallbackHandler\n",
    "\n",
    "# 콜백 핸들러 생성\n",
    "langfuse_handler = CallbackHandler()"
   ]
  },
  {
   "cell_type": "markdown",
   "id": "82835f42",
   "metadata": {},
   "source": [
    "## 1. 도구 정의"
   ]
  },
  {
   "cell_type": "markdown",
   "id": "b67cacc2",
   "metadata": {},
   "source": [
    "### 1\\) 언어 감지 및 번역 자동화 도구"
   ]
  },
  {
   "cell_type": "code",
   "execution_count": 48,
   "id": "28395a7d",
   "metadata": {},
   "outputs": [],
   "source": [
    "import deepl\n",
    "from langdetect import detect\n",
    "\n",
    "# Deepl 번역기 생성\n",
    "translator = deepl.Translator(os.getenv('DEEPL_API_KEY'))\n",
    "\n",
    "def detect_and_translate(query, target_lang='KO'):\n",
    "    \"\"\" 텍스트의 언어 감지 및 목표 언어로 번역 수행 \"\"\"\n",
    "    # 언어 감지\n",
    "    detected_lang = detect(query)\n",
    "    source_lang = \"zh\" if \"zh\" in detected_lang else detected_lang\n",
    "\n",
    "    # 언어가 목표 언어와 다른 경우 번역\n",
    "    if source_lang.upper() != target_lang:\n",
    "        translated_query = translator.translate_text(\n",
    "            query,\n",
    "            source_lang=source_lang.upper(),\n",
    "            target_lang=target_lang.upper()\n",
    "        )\n",
    "    \n",
    "    return str(translated_query), source_lang"
   ]
  },
  {
   "cell_type": "code",
   "execution_count": 5,
   "id": "c607fa0b",
   "metadata": {},
   "outputs": [
    {
     "name": "stdout",
     "output_type": "stream",
     "text": [
      "Source language: en\n",
      "Translated query: 요즘 데이터 센터를 짓고 있다고 들었습니다. 관련 소식을 요약해 주시겠어요?\n"
     ]
    }
   ],
   "source": [
    "# 테스트\n",
    "query = \"I heard they're building a data center these days. Could you summarize the related news?\"\n",
    "translated_query, source_lang = detect_and_translate(query, target_lang='KO')\n",
    "\n",
    "print(f\"Source language: {source_lang}\")\n",
    "print(f\"Translated query: {translated_query}\")"
   ]
  },
  {
   "cell_type": "markdown",
   "id": "5ee0a0a7",
   "metadata": {},
   "source": [
    "### 2\\) 네이버 검색 도구"
   ]
  },
  {
   "cell_type": "code",
   "execution_count": 6,
   "id": "0cf95931",
   "metadata": {},
   "outputs": [],
   "source": [
    "import requests, os\n",
    "from langchain_core.tools import tool\n",
    "from typing import Dict\n",
    "\n",
    "def naver_search(api: str, keyword: str, display: int = 10) -> Dict:\n",
    "    \"\"\" 네이버 검색 API 공통 요청 함수 \"\"\"\n",
    "    base_url = \"https://openapi.naver.com/v1/search/\"\n",
    "    url = f\"{base_url}{api}.json\"\n",
    "\n",
    "    headers = {\n",
    "        \"X-Naver-Client-Id\": os.getenv(\"NAVER_CLIENT_ID\"),\n",
    "        \"X-Naver-Client-Secret\": os.getenv(\"NAVER_CLIENT_SECRET\")\n",
    "    }\n",
    "    params = {\n",
    "        \"query\": keyword,\n",
    "        \"display\": display\n",
    "    }\n",
    "\n",
    "    response = requests.get(url, headers=headers, params=params)\n",
    "\n",
    "    if response.status_code == 200:\n",
    "        return response.json()\n",
    "    else:\n",
    "        print(f\"[{api}] status_code:\", response.status_code)\n",
    "        return {}\n",
    "\n",
    "# 도구화: 뉴스\n",
    "@tool\n",
    "def naver_news_search(keyword: str) -> Dict:\n",
    "    \"\"\" 네이버 검색 API를 사용하여 뉴스 검색 결과를 조회 \"\"\"\n",
    "    return naver_search(\"news\", keyword)\n",
    "\n",
    "# 도구화: 블로그\n",
    "@tool\n",
    "def naver_blog_search(keyword: str) -> Dict:\n",
    "    \"\"\" 네이버 검색 API를 사용하여 블로그 검색 결과를 조회 \"\"\"\n",
    "    return naver_search(\"blog\", keyword)\n",
    "\n",
    "# 도구화: 전문자료\n",
    "@tool\n",
    "def naver_doc_search(keyword: str) -> Dict:\n",
    "    \"\"\" 네이버 검색 API를 사용하여 전문자료 검색 결과를 조회 \"\"\"\n",
    "    return naver_search(\"doc\", keyword)"
   ]
  },
  {
   "cell_type": "code",
   "execution_count": 7,
   "id": "79b5be41",
   "metadata": {},
   "outputs": [],
   "source": [
    "from langchain_core.prompts import ChatPromptTemplate\n",
    "from langchain_openai import ChatOpenAI\n",
    "\n",
    "# 체인 구성\n",
    "prompt = ChatPromptTemplate.from_messages([\n",
    "    (\"system\", \"당신은 검색 전문가입니다. 사용자의 질의를 분석해 적절한 검색 도구를 선택하세요.\"),\n",
    "    (\"human\", \"사용자 질의: {query}\")\n",
    "])\n",
    "llm = ChatOpenAI(\n",
    "    model=\"gpt-4.1-mini\",\n",
    "    temperature=0.1\n",
    ")\n",
    "# 도구 목록 생성 \n",
    "tools = [naver_news_search, naver_blog_search, naver_doc_search]\n",
    "\n",
    "# 도구를 LLM에 바인딩\n",
    "llm_with_tools = llm.bind_tools(tools)\n",
    "\n",
    "# 에이전트 실행기 생성\n",
    "tool_select_chain = prompt | llm_with_tools"
   ]
  },
  {
   "cell_type": "code",
   "execution_count": 8,
   "id": "b4c6a72a",
   "metadata": {},
   "outputs": [
    {
     "data": {
      "text/plain": [
       "[{'name': 'naver_news_search',\n",
       "  'args': {'keyword': '데이터 센터 건설'},\n",
       "  'id': 'call_nUYKnlpkeuRtbaJPHAzjU4Ll',\n",
       "  'type': 'tool_call'}]"
      ]
     },
     "execution_count": 8,
     "metadata": {},
     "output_type": "execute_result"
    }
   ],
   "source": [
    "# 테스트\n",
    "response = tool_select_chain.invoke({\"query\": translated_query})\n",
    "response.tool_calls"
   ]
  },
  {
   "cell_type": "markdown",
   "id": "9d3d1faa",
   "metadata": {},
   "source": [
    "### 3\\) 웹 본문 크롤링 도구"
   ]
  },
  {
   "cell_type": "code",
   "execution_count": 10,
   "id": "9a56aa0e",
   "metadata": {},
   "outputs": [
    {
     "name": "stderr",
     "output_type": "stream",
     "text": [
      "USER_AGENT environment variable not set, consider setting it to identify your requests.\n"
     ]
    }
   ],
   "source": [
    "from langchain_community.document_loaders import WebBaseLoader\n",
    "\n",
    "@tool\n",
    "def web_loader(url: str) -> str:\n",
    "    \"\"\" 웹 본문 크롤링 함수 \"\"\"\n",
    "    loader = WebBaseLoader(url)\n",
    "    docs = loader.load()\n",
    "    return \" \".join(docs[0].page_content.split())"
   ]
  },
  {
   "cell_type": "markdown",
   "id": "55fae9e7",
   "metadata": {},
   "source": [
    "## 2. 체인 정의"
   ]
  },
  {
   "cell_type": "markdown",
   "id": "564bf32f",
   "metadata": {},
   "source": [
    "### 1\\) 키워드 추출 체인"
   ]
  },
  {
   "cell_type": "code",
   "execution_count": 49,
   "id": "43cb8fa6",
   "metadata": {},
   "outputs": [],
   "source": [
    "from pydantic import BaseModel, Field\n",
    "from typing import List, Dict\n",
    "from langchain_core.prompts import ChatPromptTemplate\n",
    "from langchain_core.runnables import RunnableConfig, chain\n",
    "from langchain_openai import ChatOpenAI\n",
    "\n",
    "class KeywordList(BaseModel):\n",
    "    keywords: List[str] = Field(..., description=\"뉴스 검색을 위한 핵심 키워드 리스트\")\n",
    "    \n",
    "system_message = \"\"\"당신은 검색 전문가입니다.\n",
    "사용자가 입력한 질의에서 네이버 검색에 사용할 수 있는 핵심 키워드를 추출합니다.\n",
    "\n",
    "- 키워드는 5개 이내로 추출합니다.\n",
    "- 중복되거나 의미가 약한 단어는 제외합니다.\n",
    "- 검색 키워드로 **부적절한 단어('정보', '소식', '기사', '이슈', '내용', '현황' 등)은 제외**합니다.\n",
    "\n",
    "예)\n",
    "질문: \"요즘 중국이 반도체 산업에서 미국과 어떤 갈등을 겪고 있나요? 최근 뉴스 좀 요약해주세요.\"\n",
    "키워드: ['중국', '미국', '반도체']\"\"\"\n",
    "\n",
    "# 체인 구성\n",
    "prompt = ChatPromptTemplate.from_messages([\n",
    "    (\"system\", system_message),\n",
    "    (\"human\", \"질문: {query}\\n키워드: \")\n",
    "])\n",
    "llm = ChatOpenAI(\n",
    "    model=\"gpt-4.1-mini\",\n",
    "    temperature=0.1\n",
    ")\n",
    "keyword_chain = prompt | llm.with_structured_output(KeywordList)\n",
    "\n",
    "@chain\n",
    "def run_extract_keywords(query:str, config: RunnableConfig) -> Dict:\n",
    "    \"\"\" 키워드 추출 체인 정의 \"\"\"\n",
    "    # 입력 쿼리 언어 감지\n",
    "    original_lang = detect(query)\n",
    "\n",
    "    # 한국어가 아닌 경우 번역\n",
    "    if original_lang.upper() != 'KO':\n",
    "        translated_query, source_lang = detect_and_translate(query, target_lang='KO')\n",
    "    else:\n",
    "        translated_query = query\n",
    "        source_lang = original_lang\n",
    "\n",
    "    return {\n",
    "        \"query\": translated_query,\n",
    "        \"source_lang\": source_lang,\n",
    "        \"keywords\": keyword_chain.invoke(\n",
    "            {\"query\": translated_query},\n",
    "            config=config\n",
    "        ).keywords\n",
    "    }"
   ]
  },
  {
   "cell_type": "code",
   "execution_count": 41,
   "id": "ba92a92e",
   "metadata": {},
   "outputs": [
    {
     "data": {
      "text/plain": [
       "{'query': '요즘 데이터 센터를 짓고 있다고 들었습니다. 관련 소식을 요약해 주시겠어요?',\n",
       " 'source_lang': 'en',\n",
       " 'keywords': ['데이터 센터', '건설']}"
      ]
     },
     "execution_count": 41,
     "metadata": {},
     "output_type": "execute_result"
    }
   ],
   "source": [
    "# 테스트\n",
    "query = \"I heard they're building a data center these days. Could you summarize the related news?\"\n",
    "keywords = run_extract_keywords.invoke(query, config={\"callbacks\":[langfuse_handler]})\n",
    "keywords"
   ]
  },
  {
   "cell_type": "markdown",
   "id": "579cec55",
   "metadata": {},
   "source": [
    "### 2\\) 뉴스 추출 및 요약 체인"
   ]
  },
  {
   "cell_type": "code",
   "execution_count": 28,
   "id": "6a09c816",
   "metadata": {},
   "outputs": [],
   "source": [
    "from sklearn.metrics.pairwise import cosine_similarity\n",
    "from langchain_core.runnables import RunnableConfig, chain\n",
    "from langchain_core.prompts import ChatPromptTemplate\n",
    "from langchain_openai import ChatOpenAI\n",
    "\n",
    "# LLM 정의\n",
    "llm = ChatOpenAI(model=\"gpt-4.1\", temperature=0)\n",
    "\n",
    "# 프롬프트 정의\n",
    "prompt = ChatPromptTemplate.from_messages([\n",
    "    (\"system\", \"당신은 검색 결과를 간결하게 요약하는 검색 요약 전문가입니다.\"),\n",
    "    (\"human\", \"다음 검색 내용을 간단하고 핵심적으로 {source_lang} 언어로 요약해 주세요:\\n\\n{article}\")\n",
    "])\n",
    "\n",
    "# 체인 정의\n",
    "summary_chain = prompt | llm\n",
    "\n",
    "@chain\n",
    "def run_summarize(user_input, config: RunnableConfig):\n",
    "    \"\"\" 키워드 기반 검색 및 의미 기반 유사도 정렬 \"\"\"\n",
    "    query = user_input[\"query\"]\n",
    "    source_lang = user_input[\"source_lang\"]\n",
    "    keywords = user_input[\"keywords\"]\n",
    "    embedding_model = user_input[\"embedding_model\"]\n",
    "\n",
    "    tool_calls = tool_select_chain.invoke(\n",
    "        {\"query\": query},\n",
    "        config=config\n",
    "    )\n",
    "\n",
    "    article_previews = []\n",
    "    article_links = []\n",
    "    \n",
    "    for call in tool_calls.tool_calls:\n",
    "        tool_name = call[\"name\"]\n",
    "\n",
    "        selected_tool = {\n",
    "            \"naver_news_search\": naver_news_search,\n",
    "            \"naver_blog_search\": naver_blog_search,\n",
    "            \"naver_doc_search\": naver_doc_search\n",
    "        }.get(tool_name)\n",
    "\n",
    "        if not selected_tool:\n",
    "            continue\n",
    "\n",
    "        # 키워드별 자료 수집\n",
    "        for keyword in keywords:\n",
    "            news = selected_tool.invoke(\n",
    "                {\"keyword\": keyword},\n",
    "                config=config\n",
    "            )\n",
    "            for item in news[\"items\"]:                \n",
    "                combined_text = item[\"title\"] + \" \" + item[\"description\"]\n",
    "                article_previews.append(combined_text)\n",
    "                article_links.append(item[\"link\"])\n",
    "\n",
    "    # 질의와 뉴스 텍스트 임베딩\n",
    "    query_embedding = embedding_model.embed_query(query)\n",
    "    article_embeddings = embedding_model.embed_documents(article_previews)\n",
    "\n",
    "    # 유사도 계산\n",
    "    sims = cosine_similarity([query_embedding], article_embeddings)[0]\n",
    "\n",
    "    # 유사도 기준 정렬\n",
    "    ranked = sorted(zip(sims, article_links, article_previews), key=lambda x: x[0], reverse=True)\n",
    "\n",
    "    # 상위 5개 결과 반환\n",
    "    top5 = ranked[:5]\n",
    "\n",
    "    # 본문 내용 크롤링\n",
    "    summaries = []\n",
    "    for score, link, text in top5:\n",
    "        article = web_loader.invoke(link)\n",
    "        summary = summary_chain.invoke(\n",
    "            {\"article\": article, \"source_lang\": source_lang},\n",
    "            config=config\n",
    "        )\n",
    "        summaries.append({\n",
    "            \"summary\": summary.content,\n",
    "            \"text\": text,\n",
    "            \"score\": round(float(score), 4),\n",
    "            \"link\": link\n",
    "        })\n",
    "    \n",
    "    return {\n",
    "        \"query\": query,\n",
    "        \"articles\": summaries\n",
    "    } "
   ]
  },
  {
   "cell_type": "code",
   "execution_count": 16,
   "id": "da8969c2",
   "metadata": {},
   "outputs": [
    {
     "name": "stderr",
     "output_type": "stream",
     "text": [
      "/Users/sunhwaryu/Documents/llm-study/prj03/.venv/lib/python3.12/site-packages/tqdm/auto.py:21: TqdmWarning: IProgress not found. Please update jupyter and ipywidgets. See https://ipywidgets.readthedocs.io/en/stable/user_install.html\n",
      "  from .autonotebook import tqdm as notebook_tqdm\n",
      "Overriding of current TracerProvider is not allowed\n",
      "Some weights of the model checkpoint at Alibaba-NLP/gte-multilingual-base were not used when initializing NewModel: ['classifier.bias', 'classifier.weight']\n",
      "- This IS expected if you are initializing NewModel from the checkpoint of a model trained on another task or with another architecture (e.g. initializing a BertForSequenceClassification model from a BertForPreTraining model).\n",
      "- This IS NOT expected if you are initializing NewModel from the checkpoint of a model that you expect to be exactly identical (initializing a BertForSequenceClassification model from a BertForSequenceClassification model).\n"
     ]
    }
   ],
   "source": [
    "from langchain_openai import OpenAIEmbeddings\n",
    "from langchain_huggingface import HuggingFaceEmbeddings \n",
    "from langchain_ollama import OllamaEmbeddings\n",
    "\n",
    "from huggingface_hub import login\n",
    "\n",
    "load_dotenv()\n",
    "\n",
    "HUGGINGFACE = os.environ[\"HUGGINGFACE_TOKEN_KEY\"]\n",
    "login(HUGGINGFACE)\n",
    "\n",
    "# 임베딩 정의\n",
    "embeddings_openai = OpenAIEmbeddings(model=\"text-embedding-3-small\")\n",
    "embeddings_huggingface = HuggingFaceEmbeddings(\n",
    "    model_name=\"Alibaba-NLP/gte-multilingual-base\",\n",
    "    model_kwargs={\"trust_remote_code\": True}\n",
    ")\n",
    "embeddings_ollama = OllamaEmbeddings(model=\"nomic-embed-text\")"
   ]
  },
  {
   "cell_type": "code",
   "execution_count": 30,
   "id": "a7d35f4f",
   "metadata": {},
   "outputs": [
    {
     "name": "stdout",
     "output_type": "stream",
     "text": [
      "OpenAI: \n",
      "{'link': 'https://n.news.naver.com/mnews/article/011/0004505679?sid=105',\n",
      " 'score': 0.4192,\n",
      " 'summary': 'The Korean government will invest 27.3 billion KRW to build '\n",
      "            'small-scale micro data centers (MDCs) in regional areas such as '\n",
      "            'Daegu and Gwangju, aiming to expand the domestic AI semiconductor '\n",
      "            'ecosystem. These MDCs, equipped with Korean AI chips, will '\n",
      "            'provide affordable AI computing services to SMEs and medical '\n",
      "            'institutions, and offer domestic chipmakers real-world '\n",
      "            'application opportunities. The project seeks to reduce reliance '\n",
      "            'on global GPU providers like Nvidia and address the concentration '\n",
      "            'of data centers in the Seoul metropolitan area. The initiative '\n",
      "            'will run from 2025 to 2029.',\n",
      " 'text': \"정부, 지방 소형 <b>데이터센터</b> 구축…'국산 AI 반도체' 판 키운다 정부가 \"\n",
      "         '마이크로<b>데이터센터</b>(MDC)를 구축해 국산 인공지능(AI) 반도체 생태계 확대에 나선다. 국산 AI 반도체 기반 '\n",
      "         '소규모 <b>데이터센터</b>를 비수도권 지역에 세워 중소기업, 의료기관 등에 저비용 AI 연산 서비스를... '}\n",
      "{'link': 'https://n.news.naver.com/mnews/article/011/0004505699?sid=101',\n",
      " 'score': 0.3757,\n",
      " 'summary': 'Summary (English):\\n'\n",
      "            '\\n'\n",
      "            'The APEC CEO Summit 2025 will be held in Gyeongju, South Korea, '\n",
      "            'from October 28 to 31. Top global business leaders—including CEOs '\n",
      "            'from Citi, TikTok, Meta, Microsoft, and IMF—are expected to '\n",
      "            'attend, with participation possibly increasing if US and Chinese '\n",
      "            'presidents join. The event will cover key topics such as digital '\n",
      "            'transformation, AI, clean energy, healthcare, and global supply '\n",
      "            'chains. Major business deals worth billions of dollars may be '\n",
      "            'discussed. Organizers are preparing extensive infrastructure and '\n",
      "            'logistics, including cruise ship accommodations and improved '\n",
      "            'transportation, to support the influx of around 1,700 '\n",
      "            'participants. The summit is expected to have significant '\n",
      "            'influence on international business cooperation and '\n",
      "            'policy-making.',\n",
      " 'text': \"씨티서 틱톡까지 '글로벌 빅샷' 경주APEC 온다…수십억弗 딜 오갈수도 예를 들어 AI 확산에 따른 <b>데이터센터</b> \"\n",
      "         '전력 소비 급증에 대응하기 위한 청정에너지 확산 방안과 AI산업 협력을 저해할 수 있는 디지털세(수익 창출 국가에 납세) '\n",
      "         '도입 재검토, 스마트헬스 촉진을 위한 규제 개선... '}\n",
      "{'link': 'https://n.news.naver.com/mnews/article/014/0005373091?sid=101',\n",
      " 'score': 0.3654,\n",
      " 'summary': 'Summary (English):\\n'\n",
      "            '\\n'\n",
      "            'The article, written by Moon Shin-hak, First Vice Minister of '\n",
      "            'Trade, Industry and Energy, emphasizes the urgent need to '\n",
      "            \"integrate AI into Korea's industrial and manufacturing sectors to \"\n",
      "            'achieve global leadership. The government plans to:\\n'\n",
      "            '\\n'\n",
      "            '1. Promote an AI-driven transformation in key industries '\n",
      "            '(automobiles, shipbuilding, steel, etc.) by expanding autonomous '\n",
      "            'AI factories and applying AI to supply chains, production design, '\n",
      "            'logistics, and safety.\\n'\n",
      "            '2. Establish regional AI innovation centers and convert '\n",
      "            'industrial complexes into AI testbeds to ensure balanced regional '\n",
      "            'growth and reduce the AI gap.\\n'\n",
      "            '3. Strengthen the foundation for industrial AI by investing in AI '\n",
      "            'semiconductors and supporting secure, efficient industrial data '\n",
      "            'sharing.\\n'\n",
      "            '\\n'\n",
      "            'The goal is to boost productivity, create new jobs and services, '\n",
      "            'and ensure that the benefits of AI are widely distributed across '\n",
      "            'all industries and regions. The government’s approach focuses on '\n",
      "            'using AI to assist workers and foster innovation, rather than '\n",
      "            'replacing jobs.',\n",
      " 'text': '[차관칼럼] 우리 산업에 AI 입혀 글로벌 1등으로 지난 6월 20일, 대통령께서는 취임 후 첫 지방 행보로 AI '\n",
      "         \"<b>데이터센터</b> 출범식을 찾았다. 'AI 3대 강국' 달성을 위해 범정부적 역량을 결집하는 가운데 국내 대표 제조업 \"\n",
      "         '벨트인 울산에서 우리 제조업의 AI 대전환을 선언한... '}\n",
      "{'link': 'https://n.news.naver.com/mnews/article/029/0002966374?sid=105',\n",
      " 'score': 0.3618,\n",
      " 'summary': 'The South Korean government is considering expanding tax credits '\n",
      "            'for private investments in AI data centers, potentially '\n",
      "            'increasing the deduction rate from the current 1–10% to up to 25% '\n",
      "            'if AI data centers are recognized as national strategic '\n",
      "            'technology. Tax credits for AI R&D could also rise from 20–40% to '\n",
      "            '30–50%. Discussions are ongoing between industry and government, '\n",
      "            'but legal definitions regarding AI data centers as \"innovative '\n",
      "            'production facilities\" remain unclear. The government is '\n",
      "            'collecting industry examples to support the policy expansion.',\n",
      " 'text': '‘AI<b>데이터센터</b>’ 투자 세액공제 최대 25% 확대 검토 정부가 인공지능(AI) <b>데이터센터</b> 등 AI '\n",
      "         '시설에 대한 민간 투자 세액 감면을 2배 이상 확대하는 방안을 적극 검토하고 있다. 6일 AI 업계 등에 따르면 '\n",
      "         '<b>데이터센터</b> 업계와 기획재정부, 과학기술정보통신부 관계자 등이 지난... '}\n",
      "{'link': 'https://n.news.naver.com/mnews/article/029/0002966377?sid=105',\n",
      " 'score': 0.336,\n",
      " 'summary': 'Nutanix is positioning itself as a simple and reliable '\n",
      "            'alternative for companies seeking to move away from VMware, '\n",
      "            \"especially after Broadcom's acquisition of VMware and subsequent \"\n",
      "            'license price hikes. The company emphasizes its integrated '\n",
      "            'platform, which supports multi/hybrid cloud and AI environments, '\n",
      "            'enabling application modernization and large language model (LLM) '\n",
      "            'management in one place. Nutanix highlights predictable and '\n",
      "            'transparent licensing, enterprise-grade stability, and ease of '\n",
      "            'use as key differentiators over open-source and other '\n",
      "            'competitors. The company is also expanding partnerships and AI '\n",
      "            'support, aiming to simplify cloud and AI application management '\n",
      "            'for enterprise customers, with a particular focus on the Korean '\n",
      "            'market.',\n",
      " 'text': '뉴타닉스 “간편하고 안정적인 탈VM웨어·AX 해답 제시” 하이퍼컨퍼지드인프라(HCI) 분야를 대표하는 이 글로벌 기업은 '\n",
      "         '최근 들어 멀티·하이브리드 클라우드 지원을 강화하면서 소프트웨어정의<b>데이터센터</b>(SDDC)를 위한 솔루션을 '\n",
      "         '고도화하고 있다. 2023년 브로드컴이 VM웨어를... '}\n",
      "\n",
      "\n",
      "Alibaba: \n",
      "{'link': 'https://n.news.naver.com/mnews/article/011/0004505679?sid=105',\n",
      " 'score': 0.7367,\n",
      " 'summary': 'The Korean government plans to build small-scale micro data '\n",
      "            'centers (MDCs) in regional areas using domestic AI '\n",
      "            'semiconductors. This initiative aims to provide affordable AI '\n",
      "            'computing services to SMEs and medical institutions outside the '\n",
      "            'capital area, while creating real-world application opportunities '\n",
      "            'for Korean AI chip companies. The project, with a budget of 27.3 '\n",
      "            'billion KRW, will run from 2025 to 2029 and is expected to help '\n",
      "            'domestic AI semiconductor firms secure demand and references, '\n",
      "            'challenging the current market dominance of global players like '\n",
      "            'Nvidia. Daegu and Gwangju are among the candidate locations for '\n",
      "            'these MDCs.',\n",
      " 'text': \"정부, 지방 소형 <b>데이터센터</b> 구축…'국산 AI 반도체' 판 키운다 정부가 \"\n",
      "         '마이크로<b>데이터센터</b>(MDC)를 구축해 국산 인공지능(AI) 반도체 생태계 확대에 나선다. 국산 AI 반도체 기반 '\n",
      "         '소규모 <b>데이터센터</b>를 비수도권 지역에 세워 중소기업, 의료기관 등에 저비용 AI 연산 서비스를... '}\n",
      "{'link': 'https://n.news.naver.com/mnews/article/029/0002966377?sid=105',\n",
      " 'score': 0.6929,\n",
      " 'summary': 'Nutanix, a leading company in hyperconverged infrastructure '\n",
      "            '(HCI), is positioning itself as a simple and reliable alternative '\n",
      "            'for organizations seeking to move away from VMware, especially '\n",
      "            \"after Broadcom's acquisition of VMware and subsequent license \"\n",
      "            'price hikes. Nutanix offers a unified platform that supports '\n",
      "            'multi/hybrid cloud and AI environments, enabling application '\n",
      "            'modernization and large language model (LLM) management. The '\n",
      "            'company emphasizes predictable and transparent licensing, '\n",
      "            'enterprise-grade stability, and ease of use. Nutanix '\n",
      "            'differentiates itself from open-source solutions by providing '\n",
      "            'integrated management, robust support, and partnerships with '\n",
      "            'major storage vendors. The company is also expanding its AI '\n",
      "            'capabilities through collaborations with NVIDIA and Hugging Face, '\n",
      "            'aiming to simplify AI application development and management. '\n",
      "            'Nutanix sees the Korean market as a key area for growth, '\n",
      "            'particularly in AI.',\n",
      " 'text': '뉴타닉스 “간편하고 안정적인 탈VM웨어·AX 해답 제시” 하이퍼컨퍼지드인프라(HCI) 분야를 대표하는 이 글로벌 기업은 '\n",
      "         '최근 들어 멀티·하이브리드 클라우드 지원을 강화하면서 소프트웨어정의<b>데이터센터</b>(SDDC)를 위한 솔루션을 '\n",
      "         '고도화하고 있다. 2023년 브로드컴이 VM웨어를... '}\n",
      "{'link': 'http://www.g-enews.com/ko-kr/news/article/news_all/202507061157496372112616b072_1/article.html',\n",
      " 'score': 0.6716,\n",
      " 'summary': 'Summary (English):\\n'\n",
      "            '\\n'\n",
      "            'One month after the new government took office, the combined '\n",
      "            \"market capitalization of Korea's top 10 conglomerates (excluding \"\n",
      "            'financial firms) increased by 35.5% compared to the previous '\n",
      "            'administration. This growth is attributed mainly to positive '\n",
      "            'expectations around commercial law reforms aimed at enhancing '\n",
      "            'shareholder value, rather than large-scale investment pledges. '\n",
      "            'While major investment announcements were limited, some groups '\n",
      "            'like SK and LG revealed plans for significant projects, '\n",
      "            \"particularly in AI and display sectors. The new administration's \"\n",
      "            'focus on practical policies and shareholder benefits is seen as a '\n",
      "            \"key driver of the stock market's recovery.\",\n",
      " 'text': '새정부 출범 1개월, 10대그룹 시총 전정권 대비 35.5%↑ SK는 수조 원을 투자해 AI 전용 <b>데이터센터</b> '\n",
      "         '구축 계획을 발표했고, LG디스플레이는 조 단위의 대규모 설비 투자 계획을 내놓았다. 하지만 SK가 아마존과 손잡고 AI '\n",
      "         '<b>데이터센터</b>를 구축하는 계획은 이미 확정된 내용을... '}\n",
      "{'link': 'https://n.news.naver.com/mnews/article/014/0005373091?sid=101',\n",
      " 'score': 0.6632,\n",
      " 'summary': 'Summary in English:\\n'\n",
      "            '\\n'\n",
      "            'The article, written by Moon Shin-hak, First Vice Minister of '\n",
      "            'Trade, Industry and Energy, emphasizes the urgent need for Korea '\n",
      "            'to integrate AI into its industrial and manufacturing sectors to '\n",
      "            'achieve global leadership. It outlines a national strategy '\n",
      "            'focusing on:\\n'\n",
      "            '\\n'\n",
      "            '1. Accelerating AI adoption in key industries (automotive, '\n",
      "            'shipbuilding, steel) through \"autonomous manufacturing AI '\n",
      "            'factories\" and applying AI across supply chains, logistics, and '\n",
      "            'safety.\\n'\n",
      "            '2. Expanding industrial AI nationwide by establishing regional AI '\n",
      "            'innovation centers and transforming industrial complexes into AI '\n",
      "            'testbeds to promote balanced regional growth.\\n'\n",
      "            '3. Strengthening the AI ecosystem by investing in AI '\n",
      "            'semiconductors and supporting secure, efficient industrial data '\n",
      "            'sharing.\\n'\n",
      "            '\\n'\n",
      "            'The government aims for \"true growth\" by boosting productivity '\n",
      "            'and creating new jobs through AI, ensuring the benefits of '\n",
      "            'industrial AI are shared widely across society.',\n",
      " 'text': '[차관칼럼] 우리 산업에 AI 입혀 글로벌 1등으로 지난 6월 20일, 대통령께서는 취임 후 첫 지방 행보로 AI '\n",
      "         \"<b>데이터센터</b> 출범식을 찾았다. 'AI 3대 강국' 달성을 위해 범정부적 역량을 결집하는 가운데 국내 대표 제조업 \"\n",
      "         '벨트인 울산에서 우리 제조업의 AI 대전환을 선언한... '}\n",
      "{'link': 'https://www.ccdn.co.kr/news/articleView.html?idxno=1029169',\n",
      " 'score': 0.6223,\n",
      " 'summary': 'Chungju City in North Chungcheong Province is actively responding '\n",
      "            \"to the new government's national policy agenda. On July 4, the \"\n",
      "            'city held a strategic meeting with experts from six '\n",
      "            'sectors—including industry, energy, jobs, culture & tourism, '\n",
      "            'urban development, and agriculture—to discuss ways to align local '\n",
      "            'policies with national priorities. Key topics included attracting '\n",
      "            'an AI data center, developing unique tourism content, and '\n",
      "            'preparing for upcoming government projects. The city aims to use '\n",
      "            \"the meeting's outcomes to secure national funding and inform \"\n",
      "            'future policy proposals. Mayor Jo Gil-hyung emphasized the '\n",
      "            'importance of strategic responses to national policy trends for '\n",
      "            \"Chungju's development.\",\n",
      " 'text': '충북 충주시, 새 정부 국정과제 대응에 적극 나서 특히, 회의에서 전문가들은 AI <b>데이터센터</b> 유치를 위한 '\n",
      "         '수열에너지 특화단지 조성의 필요성과 지역 음식 등 차별화된 신규 관광 콘텐츠 개발. 새 정부의 균형발전에 충주의 전략적 '\n",
      "         '대응, 하반기 부처별 공모사업 대비 사전... '}\n",
      "\n",
      "\n",
      "Ollama: \n",
      "{'link': 'https://n.news.naver.com/mnews/article/011/0004505699?sid=101',\n",
      " 'score': 0.8789,\n",
      " 'summary': 'Summary (English):\\n'\n",
      "            '\\n'\n",
      "            'The APEC CEO Summit 2025 will be held in Gyeongju, South Korea, '\n",
      "            'from October 28-31. Top global business leaders—including the '\n",
      "            'CEOs of Citigroup, TikTok, Meta, Microsoft, and IMF—are expected '\n",
      "            'to attend, with participation possibly increasing if US and '\n",
      "            'Chinese presidents join. The event will cover key topics such as '\n",
      "            'digital transformation, AI, clean energy, healthcare, and global '\n",
      "            'supply chains. Major business deals worth billions of dollars may '\n",
      "            'be discussed. Organizers are preparing extensive infrastructure '\n",
      "            'and logistics, including cruise ships for accommodation and '\n",
      "            'enhanced transportation, to support the influx of around 1,700 '\n",
      "            'executives and staff. The summit is expected to influence '\n",
      "            'international economic policies and foster significant business '\n",
      "            'partnerships.',\n",
      " 'text': \"씨티서 틱톡까지 '글로벌 빅샷' 경주APEC 온다…수십억弗 딜 오갈수도 예를 들어 AI 확산에 따른 <b>데이터센터</b> \"\n",
      "         '전력 소비 급증에 대응하기 위한 청정에너지 확산 방안과 AI산업 협력을 저해할 수 있는 디지털세(수익 창출 국가에 납세) '\n",
      "         '도입 재검토, 스마트헬스 촉진을 위한 규제 개선... '}\n",
      "{'link': 'http://www.kjdaily.com/article.php?aid=1751799220659334018',\n",
      " 'score': 0.8588,\n",
      " 'summary': 'The rainy season in Gwangju and Jeonnam ended unusually early '\n",
      "            'this year, with June recording the highest average temperature '\n",
      "            'since records began. Extreme heat and humidity are ongoing, with '\n",
      "            'temperatures expected to reach up to 35°C. Local governments have '\n",
      "            'strengthened heatwave response measures, focusing on protecting '\n",
      "            'vulnerable groups such as the elderly, disabled, and outdoor '\n",
      "            'workers by providing cooling supplies, daily health checks, and '\n",
      "            'operating cooling shelters. The government is also working to '\n",
      "            'boost the economy and ensure public safety amid concerns over '\n",
      "            'prolonged and intense heat.',\n",
      " 'text': '올해 장마 끝…지금도 찜통인데 앞으로가 더 걱정 노인·장애인·기저질환자에게는 생활지원사를 통한 일일 건강 확인과 냉방용품이 '\n",
      "         '지원되며, 농업인·외국인근로자·<b>건설</b>노동자·폐지수집자에게는 예방키트와 안전쉼터 쿠폰 등을 제공한다. 드론을 '\n",
      "         '활용한 예찰과 축산... '}\n",
      "{'link': 'https://www.ccdn.co.kr/news/articleView.html?idxno=1029169',\n",
      " 'score': 0.8388,\n",
      " 'summary': 'Chungju City in North Chungcheong Province is actively responding '\n",
      "            \"to the new government's national policy agenda. On July 4, the \"\n",
      "            'city held a strategic meeting with experts from six '\n",
      "            'sectors—including industry, energy, jobs, culture & tourism, '\n",
      "            'urban development, and agriculture—to discuss ways to align local '\n",
      "            'policies with national priorities. Key topics included attracting '\n",
      "            'an AI data center, developing unique tourism content, and '\n",
      "            'preparing for upcoming government projects. The city aims to '\n",
      "            'develop actionable strategies and secure national funding, '\n",
      "            'emphasizing proactive adaptation to policy changes.',\n",
      " 'text': '충북 충주시, 새 정부 국정과제 대응에 적극 나서 특히, 회의에서 전문가들은 AI <b>데이터센터</b> 유치를 위한 '\n",
      "         '수열에너지 특화단지 조성의 필요성과 지역 음식 등 차별화된 신규 관광 콘텐츠 개발. 새 정부의 균형발전에 충주의 전략적 '\n",
      "         '대응, 하반기 부처별 공모사업 대비 사전... '}\n",
      "{'link': 'http://www.namdonews.com/news/articleView.html?idxno=825599',\n",
      " 'score': 0.8298,\n",
      " 'summary': 'Park Jie-won, a Democratic Party lawmaker, stated that there will '\n",
      "            'be opportunities for Gwangju and Jeonnam lawmakers to join the '\n",
      "            'cabinet or become National Assembly committee chairs, addressing '\n",
      "            'concerns about their lack of appointments. He emphasized the need '\n",
      "            'for patience, noting that the new administration has just begun, '\n",
      "            'and highlighted President Lee Jae-myung’s commitment to investing '\n",
      "            'in and considering personnel from the region. Park also pledged '\n",
      "            'to do his best for President Lee’s success and thanked Honam '\n",
      "            'voters for their support.',\n",
      " 'text': '박지원 &quot;광주·전남 의원들 입각 기회 열릴 것…李 대통령 성공 최선&quot; 특히 박 의원은 &quot;이재명 '\n",
      "         '대통령의 첫 번째 타운홀 미팅을 광주에서 개최했고, 광주·전남의 12년간 최대 현안인 광주공항 이전 문제 해결 방안을 '\n",
      "         '명쾌히 제시했다&quot;며 &quot;반드시 광주·전남의 AI 투자, 솔라시도 AI <b>데이터센터</b>와... '}\n",
      "{'link': 'https://www.gnnews.co.kr/news/articleView.html?idxno=613430',\n",
      " 'score': 0.826,\n",
      " 'summary': 'Changwon City has requested that the Masan area, whose population '\n",
      "            'has dropped from over 500,000 to around 350,000, be designated as '\n",
      "            'a depopulation area. Acting Mayor Jang Geum-yong visited the '\n",
      "            'National Planning Committee to propose this and to request the '\n",
      "            \"inclusion of 22 key local projects in the new government's \"\n",
      "            'national agenda. These proposals include establishing a defense '\n",
      "            'parts R&D institute, creating an advanced defense industry '\n",
      "            'complex, building AI manufacturing infrastructure, and improving '\n",
      "            'transportation links. The city aims to address local issues and '\n",
      "            'promote balanced national development.',\n",
      " 'text': \"창원시,인구 추락 '마산' 인구소멸지역 지정 요청 이와 함께 부울경 육해공 트라이포트 전진기지 구축을 위한 △진해신항 \"\n",
      "         '트라이포트 항만배후단지 조성 △동대구~창원~가덕도신공항 고속화철도 <b>건설</b>을 요청했다. 국토균형발전 실현을 위한 '\n",
      "         '△특례시의 원활한 운영 및... '}\n"
     ]
    }
   ],
   "source": [
    "# 임베딩 퀄리티 확인\n",
    "inputs = keywords.copy()\n",
    "\n",
    "inputs[\"embedding_model\"] = embeddings_openai\n",
    "result_openai = run_summarize.invoke(inputs, config={\"callbacks\": [langfuse_handler]})\n",
    "print(\"OpenAI: \")\n",
    "for news in result_openai[\"articles\"]:\n",
    "    pprint(news)\n",
    "\n",
    "inputs[\"embedding_model\"] = embeddings_huggingface\n",
    "result_huggingface = run_summarize.invoke(inputs, config={\"callbacks\": [langfuse_handler]})\n",
    "print(\"\\n\\nAlibaba: \")\n",
    "for news in result_huggingface[\"articles\"]:\n",
    "    pprint(news)\n",
    "\n",
    "inputs[\"embedding_model\"] = embeddings_ollama\n",
    "result_ollama = run_summarize.invoke(inputs, config={\"callbacks\": [langfuse_handler]})\n",
    "print(\"\\n\\nOllama: \")\n",
    "for news in result_ollama[\"articles\"]:\n",
    "    pprint(news)"
   ]
  },
  {
   "cell_type": "markdown",
   "id": "88a05075",
   "metadata": {},
   "source": [
    "## 3. 최종 체인 구성 및 테스트"
   ]
  },
  {
   "cell_type": "code",
   "execution_count": 50,
   "id": "05fe1b75",
   "metadata": {},
   "outputs": [],
   "source": [
    "from langchain_core.runnables import RunnableLambda\n",
    "\n",
    "map_inputs = RunnableLambda(lambda x: {\n",
    "    \"query\": x[\"query\"],\n",
    "    \"source_lang\": x[\"source_lang\"],\n",
    "    \"keywords\": x[\"keywords\"],\n",
    "    \"embedding_model\": embeddings_huggingface\n",
    "})\n",
    "\n",
    "final_chain = run_extract_keywords | map_inputs | run_summarize"
   ]
  },
  {
   "cell_type": "code",
   "execution_count": null,
   "id": "57053993",
   "metadata": {},
   "outputs": [],
   "source": [
    "# 중국어 번역이 잘 안됨\n",
    "test_set = [\n",
    "    \"요즘 데이터 센터 관련 기술 동향이 어떻게 되나요?\",\n",
    "    \"What are the recent trends in electric vehicles in Korea?\",\n",
    "    \"最近韩国在人工智能方面有什么新进展？\",\n",
    "    \"韓国のスタートアップ業界の現状について教えてください。\",\n",
    "    \"韓國目前在綠色能源領域有哪些重要政策？\"\n",
    "]"
   ]
  },
  {
   "cell_type": "code",
   "execution_count": 38,
   "id": "44e7ff22",
   "metadata": {},
   "outputs": [
    {
     "data": {
      "text/plain": [
       "{'query': '요즘 데이터 센터 관련 기술 동향이 어떻게 되나요?',\n",
       " 'articles': [{'summary': \"뉴타닉스는 VM웨어 인수 이후 높아진 라이선스 비용 등으로 '탈 VM웨어' 수요가 늘어난 시장에서, 간편하고 안정적인 전환 솔루션을 제공한다고 강조했습니다. 멀티·하이브리드 클라우드, AI 환경, 애플리케이션 현대화, 대형언어모델(LLM) 관리까지 하나의 플랫폼에서 지원하며, 예측 가능한 라이선스 비용과 높은 사용 편의성, 엔터프라이즈급 안정성을 강점으로 내세웠습니다. 또한, 오픈소스 대비 운영 관리의 복잡성을 줄이고, 다양한 파트너십과 AI 지원을 강화해 한국 시장에서도 적극적으로 투자와 협력을 확대할 계획입니다.\",\n",
       "   'text': '뉴타닉스 “간편하고 안정적인 탈VM웨어·AX 해답 제시” 하이퍼컨퍼지드인프라(HCI) 분야를 대표하는 이 글로벌 기업은 최근 들어 멀티·하이브리드 클라우드 지원을 강화하면서 소프트웨어정의<b>데이터센터</b>(SDDC)를 위한 솔루션을 고도화하고 있다. 2023년 브로드컴이 VM웨어를... ',\n",
       "   'score': 0.7003,\n",
       "   'link': 'https://n.news.naver.com/mnews/article/029/0002966377?sid=105'},\n",
       "  {'summary': '정부가 273억 원을 투입해 대구, 광주 등 비수도권에 국산 AI 반도체 기반 소형 데이터센터(MDC)를 구축한다. 이를 통해 중소기업·의료기관 등에 저렴한 AI 연산 서비스를 제공하고, 국산 AI 반도체 기업의 실증 및 수요처 확보를 지원할 계획이다. 기존 글로벌 기업 중심의 데이터센터 시장 구조를 개선하고, 국산 AI 반도체 생태계 확대를 목표로 한다.',\n",
       "   'text': \"정부, 지방 소형 <b>데이터센터</b> 구축…'국산 AI 반도체' 판 키운다 정부가 마이크로<b>데이터센터</b>(MDC)를 구축해 국산 인공지능(AI) 반도체 생태계 확대에 나선다. 국산 AI 반도체 기반 소규모 <b>데이터센터</b>를 비수도권 지역에 세워 중소기업, 의료기관 등에 저비용 AI 연산 서비스를... \",\n",
       "   'score': 0.6494,\n",
       "   'link': 'https://n.news.naver.com/mnews/article/011/0004505679?sid=105'},\n",
       "  {'summary': '고급 데이터 라벨링 전문 스타트업 서지 AI(Surge AI)가 최대 10억 달러(약 1조 3,800억 원) 규모의 투자 유치에 나섰다. 스케일 AI가 메타의 지분 인수로 주요 고객사(구글, 오픈AI 등)를 잃고 주춤하는 사이, 서지 AI는 숙련된 전문가 네트워크를 통한 고품질 데이터셋 제공으로 빠르게 성장 중이다. 2023년 매출은 10억 달러를 넘어서며 스케일 AI를 앞질렀고, 이번 투자로 150억 달러 이상의 기업가치를 목표로 한다. AI 발전에 따라 고품질 데이터 수요가 증가하면서 라벨링 업계 재편이 가속화되고 있다.',\n",
       "   'text': '고급 라벨링 전문 서지, 스케일 AI 주춤하는 새 10억달러 투자 유치 나서 해지하는 가운데, 경쟁사들은 빠르게 확장하고 있다. 특히, AI <b>기술</b> 발전에 따라 수작업 라벨링 필요성이 감소하고 고품질 데이터 수요가 커짐에 따라 서지와 같은 고품질 데이터에 대한 수요가 증가하는 양상이다.',\n",
       "   'score': 0.6138,\n",
       "   'link': 'https://www.aitimes.com/news/articleView.html?idxno=200389'},\n",
       "  {'summary': '요약:\\n\\n산업통상자원부 제1차관은 우리나라 제조업 등 산업 현장에 인공지능(AI) 기술을 적극 도입해 글로벌 1등 산업으로 도약하겠다는 비전을 제시했다. 주요 내용은 ▲자동차·조선·철강 등 주력산업에 AI 융합, ▲전국적으로 산업AI 확산 및 지역 균형발전, ▲AI 반도체 등 기반 기술에 대한 대규모 투자와 산업데이터 활용 지원 등이다. 정부는 AI를 통해 생산성 혁신과 새로운 일자리 창출, 모두가 성장하는 산업 생태계 조성을 목표로 하고 있다.',\n",
       "   'text': \"[차관칼럼] 우리 산업에 AI 입혀 글로벌 1등으로 지난 6월 20일, 대통령께서는 취임 후 첫 지방 행보로 AI <b>데이터센터</b> 출범식을 찾았다. 'AI 3대 강국' 달성을 위해 범정부적 역량을 결집하는 가운데 국내 대표 제조업 벨트인 울산에서 우리 제조업의 AI 대전환을 선언한... \",\n",
       "   'score': 0.5869,\n",
       "   'link': 'https://n.news.naver.com/mnews/article/014/0005373091?sid=101'},\n",
       "  {'summary': '2025년 10월 경주에서 열리는 APEC 정상회의와 함께 개최되는 APEC CEO 서밋에 씨티그룹, 틱톡, IMF 등 글로벌 기업 및 국제기구 수장들이 대거 참석할 예정입니다. 메타, MS, 구글, 애플, 엔비디아 등 빅테크 CEO들도 참여 가능성이 높으며, 미중 정상 참석 시 기업인 수가 더욱 늘어날 전망입니다. 이번 서밋에서는 디지털 전환, AI, 데이터센터, 헬스케어, 미래차, 청정에너지 등 다양한 글로벌 경제 이슈와 협력 방안이 논의되고, 수십억 달러 규모의 투자·협력 딜이 오갈 것으로 기대됩니다. 행사 준비를 위해 숙박, 교통, 식사 등 인프라 확충도 진행 중입니다.',\n",
       "   'text': \"씨티서 틱톡까지 '글로벌 빅샷' 경주APEC 온다…수십억弗 딜 오갈수도 예를 들어 AI 확산에 따른 <b>데이터센터</b> 전력 소비 급증에 대응하기 위한 청정에너지 확산 방안과 AI산업 협력을 저해할 수 있는 디지털세(수익 창출 국가에 납세) 도입 재검토, 스마트헬스 촉진을 위한 규제 개선... \",\n",
       "   'score': 0.5751,\n",
       "   'link': 'https://n.news.naver.com/mnews/article/011/0004505699?sid=101'}]}"
      ]
     },
     "execution_count": 38,
     "metadata": {},
     "output_type": "execute_result"
    }
   ],
   "source": [
    "final_chain.invoke(test_set[0], config={\"callbacks\": [langfuse_handler]})"
   ]
  },
  {
   "cell_type": "code",
   "execution_count": 42,
   "id": "a425d44d",
   "metadata": {},
   "outputs": [
    {
     "data": {
      "text/plain": [
       "{'query': '최근 국내 전기자동차의 트렌드는 무엇인가요?',\n",
       " 'articles': [{'summary': 'Naver blog of the Korea Agency for Infrastructure Technology Advancement (KAIA), sharing news, research, and updates on national land, transport, and infrastructure technology.',\n",
       "   'text': '<b>전기자동차</b>가 위험하다고? 이제 안전할거야! <b>전기자동차</b>는 배터리로부터 전기에너지를 전기모터로 공급하여 구동력을 발생시키는 자동차로, 무공해 친환경 교통수단입니다. ‘EV’라고 불리기도 해요. 전기에너지를 활용하다 보니 이산화탄소를... ',\n",
       "   'score': 0.6569,\n",
       "   'link': 'https://blog.naver.com/kaia_pr/223699953596'},\n",
       "  {'summary': 'Summary:  \\nA Naver blog post shares stories and information about the freshwater fish \"bitterling\" (버들붕어), including its characteristics, habitat, and personal experiences related to catching or observing the fish.',\n",
       "   'text': '쉐보레 블레이저 EV, <b>국내</b> 출시되나? 북미에서는 이미 출시되어 판매 중이지만, <b>국내</b>에서는 아직 만나볼 수 없는 차량입니다. 한국지엠은 블레이저 EV의 <b>국내</b> 도입 가능성을 언급한 바 있으며, 2025년까지 얼티엄(Ultium) 플랫폼 기반 전기차... ',\n",
       "   'score': 0.5954,\n",
       "   'link': 'https://blog.naver.com/djusti/223916623792'},\n",
       "  {'summary': \"Mer's Blog: A personal blog on Naver.\",\n",
       "   'text': '중국의 <b>전기자동차</b> 안전 요구사항에 숨겨진 비밀 2025년 4월 15일, 중국 공업정보화부(MIIT)는 “<b>전기자동차</b>용 동력 축전지 안전 요구사항”(GB38031-2025)... 자동차용 배터리다. 운전 에너지를 이용해서 충전을 한 뒤, 시동을 걸고, 블랙박스 등 차에서 전기... ',\n",
       "   'score': 0.5903,\n",
       "   'link': 'https://blog.naver.com/ranto28/223847551020'},\n",
       "  {'summary': \"BYD Korea's CEO expressed confidence in the company's electric vehicles, aiming to prove their quality in South Korea, a leading automotive market. He argued that increased EV sales by BYD would help expand the overall market, benefiting local automakers as well. BYD is working to overcome perceptions of low quality for Chinese products by expanding showrooms and offering test drives. The company plans to increase its showrooms to 30 and service centers to 25 by year-end. BYD has launched the Atto 3 and will introduce the Seal and Sealion 7 models in Korea, with competitive pricing. The CEO emphasized that gaining recognition in Korea is crucial for BYD's global reputation.\",\n",
       "   'text': 'BYD의 자신감 &quot;<b>자동차</b> 선진국 韓서 품질 인정받겠다&quot; “BYD(비야디)의 <b>전기자동차</b> 판매가 늘면 국내 업체들도 동반 성장할 것입니다.” 글로벌 전기차 1위 제조사인 BYD의 한국법인을 이끄는 조인철 BYD코리아 승용부문 대표(사진)가 BYD의 성장이 국내 완성차 업체의... ',\n",
       "   'score': 0.5851,\n",
       "   'link': 'https://n.news.naver.com/mnews/article/015/0005154122?sid=101'},\n",
       "  {'summary': '\"Sosohan haengbok\" (Small Happiness): A Naver blog sharing everyday moments and simple joys in life.',\n",
       "   'text': '<b>전기자동차</b> 충전기 자유로운 집밥 실현해요 장점과 더불어 차량 자체로도 매력적인 자동차로 자리잡은 것 같습니다 하지만. 여전히 고민되는 사항이 바로 충전인데요. 내연기관 차와는 다른 장 단점이 존재하죠. 공용 <b>전기자동차</b> 충전기 로 인한 자리... ',\n",
       "   'score': 0.5796,\n",
       "   'link': 'https://blog.naver.com/chltndyd8521/223410266850'}]}"
      ]
     },
     "execution_count": 42,
     "metadata": {},
     "output_type": "execute_result"
    }
   ],
   "source": [
    "final_chain.invoke(test_set[1], config={\"callbacks\": [langfuse_handler]})"
   ]
  },
  {
   "cell_type": "code",
   "execution_count": null,
   "id": "9f16fc2c",
   "metadata": {},
   "outputs": [
    {
     "data": {
      "text/plain": [
       "{'query': '最近韩国在人工智能方面有什么新进展？',\n",
       " 'articles': [{'summary': \"네이버 블로그 'Carpediem :)'는 일상, 여행, 취미 등 다양한 주제의 글을 공유하는 개인 블로그입니다.\",\n",
       "   'text': '<b>韩国</b> <b>韩国</b> (한궈) - 한국 <b>韩国</b>人 (한궈런) - 한국인 <b>韩国</b>语 (한궈위) - 한국어 大韩民国 (다한밍궈) - 대한민국 中国人 (중궈런) 關係 (꽌시) 관계 韓中關係 (한중꽌시) 한중관계 ※ 비공식적 명칭: 寒国 (한궈) 寒国(한궈)가... ',\n",
       "   'score': 0.6276,\n",
       "   'link': 'https://blog.naver.com/antitrust7/223608572807'},\n",
       "  {'summary': \"이 논문은 1985년부터 2018년까지 국내 인공지능(AI) 분야 학술논문 1,691편을 대상으로 토픽모델링과 의미연결망분석을 활용해 연구동향을 분석한 것이다. 주요 연구 주제로 '인공지능과 인간', '인공지능과 기술'이 도출되었으며, 현재는 기술 자체에 초점을 둔 연구가 많으나, 앞으로는 인공지능과 인간, 인문학 등 다양한 융합 분야에 대한 심층 연구가 필요함을 시사한다.\",\n",
       "   'text': \"국내 <b>인공지능</b>분야 연구동향 분석 : 토픽모델링과 의미연결망분석을 중 An analysis of artificial intelligence(A.I.)_related studies' trends in Korea focused on topic modeling and semantic network analysis \",\n",
       "   'score': 0.6171,\n",
       "   'link': 'https://academic.naver.com/article.naver?doc_id=606314593'},\n",
       "  {'summary': '린센세가 운영하는 네이버 블로그로, 일본어와 중국어 학습을 재미있게 소개하고 다양한 언어 팁과 정보를 제공함.',\n",
       "   'text': '한국은 한궈（<b>韩国</b>）/한국인은 한궈르언（<b>韩国</b>人） 我是<b>韩国</b>人（wǒ shì Hánguórén）。 원어민처럼 말하기는 좀처럼 어렵지만 여러나라의 명칭을... 한국인 <b>韩国</b> <b>韩国</b>人 Hánguó hánguórén 한궈 한궈르언 중국 중국인 中国 中国人 Zhōngguó... ',\n",
       "   'score': 0.611,\n",
       "   'link': 'https://blog.naver.com/smilejaena/223199324723'},\n",
       "  {'summary': \"네이버 블로그 '밍교이 in Wonderland'는 일상, 여행, 맛집 등 다양한 주제를 다루는 개인 블로그입니다.\",\n",
       "   'text': \"<b>인공지능</b>(AI) IT컨퍼런스 / 서울메타위크 2025: 메타콘 참석...  <b>인공지능</b>(AI) IT 컨퍼런스 서울메타위크 2025: 메타콘(METACON) 지난주에 갔던 <b>인공지능</b> IT 컨퍼런스 &lt;서울메타위크 2025: 메타콘&gt; 후기입니다. '일, 시스템, 그리고 지능의 진화'를 주제로 서울 코엑스... \",\n",
       "   'score': 0.6107,\n",
       "   'link': 'https://blog.naver.com/alsrud_90/223922304465'},\n",
       "  {'summary': '한자와 중국어의 관계, 한자가 중국어에서 차지하는 역할, 한자의 기원과 발전 과정, 중국어 학습에서 한자의 중요성 등을 다루는 블로그 글입니다.',\n",
       "   'text': 'Republic of Korea），简称“<b>韩国</b>”，位于东亚朝鲜半岛南部 大韩民国（韩语：대한민국，英语：Republic of Korea），简称“<b>韩国</b>”... 명칭 <b>韩国</b> (Hán guó): 한국 位于 (wèi yú): ~에 위치하다 东亚 (Dōng Yà): 동아시아 朝鲜半岛 (Cháo xiǎn bàn dǎo)... ',\n",
       "   'score': 0.6066,\n",
       "   'link': 'https://blog.naver.com/makesnowball/223878688756'}]}"
      ]
     },
     "execution_count": 51,
     "metadata": {},
     "output_type": "execute_result"
    }
   ],
   "source": [
    "final_chain.invoke(test_set[2], config={\"callbacks\": [langfuse_handler]}) # 중국어 번역이 잘 안됨"
   ]
  },
  {
   "cell_type": "code",
   "execution_count": 52,
   "id": "ecf27969",
   "metadata": {},
   "outputs": [
    {
     "data": {
      "text/plain": [
       "{'query': '한국의 스타트업 업계 현황에 대해 말씀해 주세요.',\n",
       " 'articles': [{'summary': 'NAVERの学術情報サービスでは、さまざまな学術論文やジャーナル（例：IEEE、Elsevier、Springerなど）の検索・閲覧が可能です。論文は年別・巻号別に整理されており、ISSNやDOIなどで管理されています。韓国語・英語対応、DBpiaやKISTIなど外部データベースとも連携しています。',\n",
       "   'text': '한국<b>스타트업</b>생태계의 현황과 과제   목차\\n한국<b>스타트업</b>생태계의 현황과 과제 / 임정욱 1\\n [머리글] 1\\n 벤처캐피탈의 새로운 트랜드-마이크',\n",
       "   'score': 0.7282,\n",
       "   'link': 'https://academic.naver.com/article.naver?doc_id=176512679'},\n",
       "  {'summary': '本論文は、韓国における起業初期企業の高い失敗率を低減するための戦略として「リーンスタートアップ」手法を紹介し、その基本フレームワークと主要原則、段階別の適用方法、導入時の留意点を事例と共に解説しています。リーンスタートアップは、起業家・教育者・メンターにとって有効なプロセスであり、起業成功率向上に寄与する包括的な視点を提供しています。',\n",
       "   'text': \"'린 <b>스타트업</b>' : 창업 초기기업의 실패 최소화 전략 ‘Lean Startup’ : The way to Reduce the Failure Rate of Startups 근 한국경제의 화두가 되고 있는 창업활성화를 위\",\n",
       "   'score': 0.6839,\n",
       "   'link': 'https://academic.naver.com/article.naver?doc_id=181888270'},\n",
       "  {'summary': '韓国スタートアップの現状と成功要因を、ユニコーン企業である「ウワハン兄弟（Woowa Brothers）」の事例を通じて分析した研究。ERISモデル（起業家、資源、産業環境、戦略）と成長段階別モデルを用い、ウワハン兄弟の成功要因として、創業者の特性、独自の企業文化、差別化戦略、プラットフォーム多角化、積極的なマーケティングと投資誘致などを挙げている。この分析は、今後の韓国ユニコーン企業創出の参考となることを目的としている。',\n",
       "   'text': '국내 <b>스타트업</b>의 현황 및 성공요인 분석: ㈜우아한형제들의 사례를 통하 The Success Factors of Domestic Start-up Companies: Case of Woowa Brothers 새로운 고용창출과 경제성장의 핵심동력으로',\n",
       "   'score': 0.671,\n",
       "   'link': 'https://academic.naver.com/article.naver?doc_id=764599154'},\n",
       "  {'summary': '「알렉시움」に関するネイバーブログの内容は、主にその特徴、用途、関連ニュースやユーザーの体験談などがまとめられています。',\n",
       "   'text': '&quot;린 <b>스타트업</b>? X소리야&quot; - 실리콘밸리 16년 베테랑이 폭로하는...  10년전 <b>스타트업</b> 바닥으로 넘어와서 이 사실을 깨닫는데 3년이 걸렸다. 지금은 이 글과 거의 유사한... 대신 우리나라 특성에 맞춰 <b>스타트업</b>과 창업, 로컬 비즈니스 사이에서의 차이와 균형점을 잡아 활동하고... ',\n",
       "   'score': 0.6706,\n",
       "   'link': 'https://blog.naver.com/jskalex/223883822261'},\n",
       "  {'summary': '「経済土台王 富の戦術」は、経済的基盤を築き、富を増やすための具体的な戦略やノウハウを紹介するブログ記事です。',\n",
       "   'text': '벤처기업 <b>스타트업</b> 창업지원기관 한국엔젤투자협회 - 주의사항은? 벤처기업 <b>스타트업</b> 창업지원기관 한국엔젤투자협회 - 주의사항은? 벤처기업이나 <b>스타트업</b>이라면 누구나 관심을 갖게 되는 투자와 성장이라는 키워드는 핵심인데요. 그 중심에 서 있는 곳이 바로... ',\n",
       "   'score': 0.6353,\n",
       "   'link': 'https://blog.naver.com/dysaghwls/223881617285'}]}"
      ]
     },
     "execution_count": 52,
     "metadata": {},
     "output_type": "execute_result"
    }
   ],
   "source": [
    "final_chain.invoke(test_set[3], config={\"callbacks\": [langfuse_handler]})"
   ]
  },
  {
   "cell_type": "code",
   "execution_count": null,
   "id": "5d026da9",
   "metadata": {},
   "outputs": [
    {
     "data": {
      "text/plain": [
       "{'query': '韓國目前在綠色能源領域有哪些重要政策？',\n",
       " 'articles': [{'summary': '전 세계적으로 기후변화와 화석연료 부족 문제로 인해 각국이 녹색에너지(태양광, 풍력, 바이오연료 등) 개발에 주력하고 있습니다. 각국의 발전 중점 분야는 국가별 조건에 따라 다르며, 주요 과제는 국가 에너지 정책의 지원, 기술 개발, 비용 절감입니다. 특히 대만은 에너지 자립과 온실가스 감축을 위해 자국에 적합한 녹색에너지 산업과 핵심 기술 확보가 필요합니다.',\n",
       "   'text': '各國<b>綠色能源</b>發展重點項目以及未來的挑戰 The Important Development Items of Green Energy and Challenge in Each Country 由於全球暖化所造成的氣候變遷以及石化燃',\n",
       "   'score': 0.6819,\n",
       "   'link': 'https://academic.naver.com/article.naver?doc_id=84570339'},\n",
       "  {'summary': '‘정이세상. 심정즉정도’는 마음이 바르면 바른 길을 간다는 의미를 담고 있습니다.',\n",
       "   'text': '호주는 담수 없이 &quot;녹색 수소&quot;를 생산할 수 있는 &quot;해수에서...  最具減碳趨勢的<b>綠色能源</b>。自19世紀迄今，氫氣已廣泛用於汽車、飛行船以及太空梭的燃料供應。 文：張瑞邦（Tucker Chang） 澳洲阿得雷德大學（University of Adelaide）國際能源研究小組近日公布研究成果，... ',\n",
       "   'score': 0.6722,\n",
       "   'link': 'https://blog.naver.com/finemind/223039210705'},\n",
       "  {'summary': '2024년 미국 대선 후 트럼프가 재집권할 경우, 미국의 녹색에너지(재생에너지) 정책은 크게 영향을 받을 전망입니다. 트럼프는 바이든 정부의 일부 에너지 법안을 철회해 미국의 기후 목표 달성이 어려워질 수 있습니다. 다만, 양당의 지지를 받는 일부 핵심 에너지는 정부 보조가 유지되어 산업 생존은 가능할 것으로 보입니다. 전반적으로 트럼프 정부는 전통 에너지 산업을 더 지원하고, 재생에너지 및 기후변화 정책에는 도전이 예상됩니다.',\n",
       "   'text': '美國大選後綠能發展初探  2024年美國總統大選後，川普重返執政對美國<b>綠色能源</b>發展將有顯著影響。預計川普將撤銷拜登政府的',\n",
       "   'score': 0.6413,\n",
       "   'link': 'https://academic.naver.com/article.naver?doc_id=1030060699'},\n",
       "  {'summary': '이 논문은 대만의 6대 신흥산업 중 하나인 녹색에너지 산업의 발전 방안과 이를 통한 산업 경쟁력 강화 전략을 다룹니다. 녹색에너지 산업의 육성을 통해 국가 경제의 지속가능한 성장과 산업 구조 재편을 목표로 하고 있습니다.',\n",
       "   'text': '發展六大新興產業\\u3000重塑產業競爭優勢－系列三：<b>綠色能源</b>\\u3000<b>綠色能源</b>產 ',\n",
       "   'score': 0.6162,\n",
       "   'link': 'https://academic.naver.com/article.naver?doc_id=967294137'},\n",
       "  {'summary': \"네이버 블로그 '김소림의 자동차 이야기'는 김소림이 다양한 자동차 관련 정보, 시승기, 자동차 관리 팁 등을 소개하는 블로그입니다.\",\n",
       "   'text': \"반도체 보조금 없애고, 美國 車에만 稅制 혜택…<b>韓國</b> '수출...  반도체 보조금 없애고, 美國 車에만 稅制 혜택…<b>韓國</b> '수출 투톱' 超非常 (한경. 이상은특파. 2025.03.06.) ∎ 이번엔 <b>韓國</b> 콕 찍은 트럼프…&quot;관세, 美의 4배&quot; ∎ 취임 이후 첫 의회 연설 ∎ 양국 FTA 체결로... \",\n",
       "   'score': 0.6063,\n",
       "   'link': 'https://blog.naver.com/sorkim1197/223789430904'}]}"
      ]
     },
     "execution_count": 53,
     "metadata": {},
     "output_type": "execute_result"
    }
   ],
   "source": [
    "final_chain.invoke(test_set[4], config={\"callbacks\": [langfuse_handler]}) # 중국어 번역이 잘 안됨"
   ]
  },
  {
   "cell_type": "code",
   "execution_count": null,
   "id": "b4ac791e",
   "metadata": {},
   "outputs": [],
   "source": []
  }
 ],
 "metadata": {
  "kernelspec": {
   "display_name": ".venv",
   "language": "python",
   "name": "python3"
  },
  "language_info": {
   "codemirror_mode": {
    "name": "ipython",
    "version": 3
   },
   "file_extension": ".py",
   "mimetype": "text/x-python",
   "name": "python",
   "nbconvert_exporter": "python",
   "pygments_lexer": "ipython3",
   "version": "3.12.10"
  }
 },
 "nbformat": 4,
 "nbformat_minor": 5
}
