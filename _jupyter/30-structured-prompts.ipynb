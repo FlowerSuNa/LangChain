{
 "cells": [
  {
   "cell_type": "markdown",
   "id": "7177d29f",
   "metadata": {},
   "source": [
    "# LangChain - OutputParser와 구조화된 응답 처리"
   ]
  },
  {
   "cell_type": "markdown",
   "id": "cb596632",
   "metadata": {},
   "source": [
    "***환경 설정***"
   ]
  },
  {
   "cell_type": "code",
   "execution_count": 2,
   "id": "f55d8054",
   "metadata": {},
   "outputs": [
    {
     "data": {
      "text/plain": [
       "True"
      ]
     },
     "execution_count": 2,
     "metadata": {},
     "output_type": "execute_result"
    }
   ],
   "source": [
    "from dotenv import load_dotenv\n",
    "load_dotenv()"
   ]
  },
  {
   "cell_type": "code",
   "execution_count": 3,
   "id": "f97b5ed3",
   "metadata": {},
   "outputs": [],
   "source": [
    "from pprint import pprint"
   ]
  },
  {
   "cell_type": "code",
   "execution_count": 4,
   "id": "a1fc556c",
   "metadata": {},
   "outputs": [],
   "source": [
    "from langchain_openai import ChatOpenAI\n",
    "\n",
    "llm = ChatOpenAI(model=\"gpt-4.1-mini\", temperature=0)"
   ]
  },
  {
   "cell_type": "markdown",
   "id": "9724fffd",
   "metadata": {
    "vscode": {
     "languageId": "plaintext"
    }
   },
   "source": [
    "## 1. OutputParser 클래스\n",
    "\n",
    "- `OutputParser`는 LLM 응답을 원하는 데이터 형식으로 변환하는 데 사용하는 구성 요소임\n",
    "- `str`, `dict`, JSON, XML 등 여러 구조화된 형태로 파싱할 수 있음\n",
    "- 파싱된 출력은 다른 시스템이나 프로세스와 연동하는 데 유용함"
   ]
  },
  {
   "cell_type": "markdown",
   "id": "9a2c70b0",
   "metadata": {
    "vscode": {
     "languageId": "plaintext"
    }
   },
   "source": [
    "### 1\\) JSONOutputParser\n",
    "\n",
    "- `JSONOutputParser`는 LLM의 응답을 엄격한 JSON 형식으로 파싱하는 데 사용됨\n",
    "- 출력값의 데이터 유효성 검증 및 일관된 스키마 보장에 유리함\n",
    "- 일반적으로 LLM이 JSON 형식으로 응답하도록 `PromptTemplate`에 명시한 뒤, 해당 파서를 통해 결과를 구조화함\n",
    "- 출력값을 바로 딕셔너리 형태로 변환해 사용할 수 있어, API 응답이나 다른 시스템과 연동 시 유요함"
   ]
  },
  {
   "cell_type": "code",
   "execution_count": null,
   "id": "70fb059d",
   "metadata": {},
   "outputs": [
    {
     "name": "stdout",
     "output_type": "stream",
     "text": [
      "('The output should be formatted as a JSON instance that conforms to the JSON '\n",
      " 'schema below.\\n'\n",
      " '\\n'\n",
      " 'As an example, for the schema {\"properties\": {\"foo\": {\"title\": \"Foo\", '\n",
      " '\"description\": \"a list of strings\", \"type\": \"array\", \"items\": {\"type\": '\n",
      " '\"string\"}}}, \"required\": [\"foo\"]}\\n'\n",
      " 'the object {\"foo\": [\"bar\", \"baz\"]} is a well-formatted instance of the '\n",
      " 'schema. The object {\"properties\": {\"foo\": [\"bar\", \"baz\"]}} is not '\n",
      " 'well-formatted.\\n'\n",
      " '\\n'\n",
      " 'Here is the output schema:\\n'\n",
      " '```\\n'\n",
      " '{\"properties\": {\"name\": {\"description\": \"관광명소 이름\", \"title\": \"Name\", \"type\": '\n",
      " '\"string\"}, \"location\": {\"description\": \"위치 (구/동 정보)\", \"title\": \"Location\", '\n",
      " '\"type\": \"string\"}, \"category\": {\"description\": \"카테고리 (궁궐/박물관/쇼핑 등)\", '\n",
      " '\"title\": \"Category\", \"type\": \"string\"}, \"highlights\": {\"description\": \"주요 관람 '\n",
      " '포인트\", \"items\": {\"type\": \"string\"}, \"title\": \"Highlights\", \"type\": \"array\"}}, '\n",
      " '\"required\": [\"name\", \"location\", \"category\", \"highlights\"]}\\n'\n",
      " '```')\n"
     ]
    }
   ],
   "source": [
    "from langchain_core.output_parsers import JsonOutputParser\n",
    "from pydantic import BaseModel, Field\n",
    "from typing import List\n",
    "\n",
    "# 관광지 정보를 위한 Pydantic 모델 정의\n",
    "class TouristSpot(BaseModel):\n",
    "    name: str = Field(description=\"관광명소 이름\")\n",
    "    location: str = Field(description=\"위치 (구/동 정보)\")\n",
    "    category: str = Field(description=\"카테고리 (궁궐/박물관/쇼핑 등)\")\n",
    "    highlights: List[str] = Field(description=\"주요 관람 포인트\")\n",
    "\n",
    "# JsonOutputParser 파서 설정\n",
    "parser = JsonOutputParser(pydantic_object=TouristSpot)\n",
    "\n",
    "# 파서의 포맷 지시사항 출력\n",
    "pprint(parser.get_format_instructions())"
   ]
  },
  {
   "cell_type": "code",
   "execution_count": null,
   "id": "6eea3173",
   "metadata": {},
   "outputs": [
    {
     "name": "stdout",
     "output_type": "stream",
     "text": [
      "('서울의 다음 관광명소에 대한 상세 정보를 제공해주세요.\\n'\n",
      " 'The output should be formatted as a JSON instance that conforms to the JSON '\n",
      " 'schema below.\\n'\n",
      " '\\n'\n",
      " 'As an example, for the schema {\"properties\": {\"foo\": {\"title\": \"Foo\", '\n",
      " '\"description\": \"a list of strings\", \"type\": \"array\", \"items\": {\"type\": '\n",
      " '\"string\"}}}, \"required\": [\"foo\"]}\\n'\n",
      " 'the object {\"foo\": [\"bar\", \"baz\"]} is a well-formatted instance of the '\n",
      " 'schema. The object {\"properties\": {\"foo\": [\"bar\", \"baz\"]}} is not '\n",
      " 'well-formatted.\\n'\n",
      " '\\n'\n",
      " 'Here is the output schema:\\n'\n",
      " '```\\n'\n",
      " '{\"properties\": {\"name\": {\"description\": \"관광명소 이름\", \"title\": \"Name\", \"type\": '\n",
      " '\"string\"}, \"location\": {\"description\": \"위치 (구/동 정보)\", \"title\": \"Location\", '\n",
      " '\"type\": \"string\"}, \"category\": {\"description\": \"카테고리 (궁궐/박물관/쇼핑 등)\", '\n",
      " '\"title\": \"Category\", \"type\": \"string\"}, \"highlights\": {\"description\": \"주요 관람 '\n",
      " '포인트\", \"items\": {\"type\": \"string\"}, \"title\": \"Highlights\", \"type\": \"array\"}}, '\n",
      " '\"required\": [\"name\", \"location\", \"category\", \"highlights\"]}\\n'\n",
      " '```\\n'\n",
      " '\\n'\n",
      " '관광지: 경복궁\\n')\n"
     ]
    }
   ],
   "source": [
    "from langchain_core.prompts import PromptTemplate\n",
    "\n",
    "# 프롬프트 템플릿 정의\n",
    "prompt = PromptTemplate(\n",
    "    template=\"\"\"서울의 다음 관광명소에 대한 상세 정보를 제공해주세요.\n",
    "{format_instructions}\n",
    "\n",
    "관광지: {spot_name}\n",
    "\"\"\",\n",
    "    input_variables=[\"spot_name\"],\n",
    "    partial_variables={\"format_instructions\": parser.get_format_instructions()},\n",
    ")\n",
    "\n",
    "# 프롬프트 출력\n",
    "pprint(prompt.format(spot_name=\"경복궁\"))"
   ]
  },
  {
   "cell_type": "code",
   "execution_count": 13,
   "id": "572898ab",
   "metadata": {},
   "outputs": [
    {
     "name": "stdout",
     "output_type": "stream",
     "text": [
      "{'category': '궁궐',\n",
      " 'highlights': ['조선 시대의 대표적인 궁궐로서 한국 전통 건축의 아름다움을 감상할 수 있음',\n",
      "                '근정전, 경회루, 사정전 등 주요 건물 관람',\n",
      "                '한복 체험과 수문장 교대식 관람 가능',\n",
      "                '경복궁 내 국립고궁박물관과 국립민속박물관 방문',\n",
      "                '사계절마다 다른 아름다운 경관'],\n",
      " 'location': '종로구 세종로',\n",
      " 'name': '경복궁'}\n"
     ]
    }
   ],
   "source": [
    "# 실행\n",
    "chain = prompt | llm | parser\n",
    "result = chain.invoke({\"spot_name\": \"경복궁\"})\n",
    "\n",
    "# 결과 출력\n",
    "pprint(result)"
   ]
  },
  {
   "cell_type": "markdown",
   "id": "ad00fac2",
   "metadata": {},
   "source": [
    "### 2\\) XMLOutputParser\n",
    "\n",
    "- `XMLOutputParser`는 LLM의 응답을 계층적 구조를 갖는 XML 형식으로 파싱함\n",
    "- XML은 노드 간의 관계 표현이 가능하여, 복잡한 데이터 구조나 문서형 응답을 표현할 때 효과적임\n",
    "- 일반적인 JSON 보다 문서 중심의 구조나 메타데이터가 많은 응답을 다룰 때 유리함\n",
    "- 내부적으로 XML 파싱을 위해 `defusedxml` 패키지를 사용하므로, 사전 설치가 필요함\n",
    "- JSON에 비해 사용 빈도는 낮지만, RDF, 문서 포맷, 일부 산업용 스키마와 연계 시 유용하게 사용됨"
   ]
  },
  {
   "cell_type": "code",
   "execution_count": 14,
   "id": "59ccfc62",
   "metadata": {},
   "outputs": [
    {
     "name": "stderr",
     "output_type": "stream",
     "text": [
      "\u001b[2mResolved \u001b[1m1 package\u001b[0m \u001b[2min 155ms\u001b[0m\u001b[0m\n",
      "\u001b[2mPrepared \u001b[1m1 package\u001b[0m \u001b[2min 54ms\u001b[0m\u001b[0m\n",
      "\u001b[2mInstalled \u001b[1m1 package\u001b[0m \u001b[2min 26ms\u001b[0m\u001b[0m\n",
      " \u001b[32m+\u001b[39m \u001b[1mdefusedxml\u001b[0m\u001b[2m==0.7.1\u001b[0m\n"
     ]
    }
   ],
   "source": [
    "!uv pip install defusedxml"
   ]
  },
  {
   "cell_type": "code",
   "execution_count": 5,
   "id": "dc0862df",
   "metadata": {},
   "outputs": [
    {
     "name": "stdout",
     "output_type": "stream",
     "text": [
      "('The output should be formatted as a XML file.\\n'\n",
      " '1. Output should conform to the tags below.\\n'\n",
      " '2. If tags are not given, make them on your own.\\n'\n",
      " '3. Remember to always open and close all the tags.\\n'\n",
      " '\\n'\n",
      " 'As an example, for the tags [\"foo\", \"bar\", \"baz\"]:\\n'\n",
      " '1. String \"<foo>\\n'\n",
      " '   <bar>\\n'\n",
      " '      <baz></baz>\\n'\n",
      " '   </bar>\\n'\n",
      " '</foo>\" is a well-formatted instance of the schema.\\n'\n",
      " '2. String \"<foo>\\n'\n",
      " '   <bar>\\n'\n",
      " '   </foo>\" is a badly-formatted instance.\\n'\n",
      " '3. String \"<foo>\\n'\n",
      " '   <tag>\\n'\n",
      " '   </tag>\\n'\n",
      " '</foo>\" is a badly-formatted instance.\\n'\n",
      " '\\n'\n",
      " 'Here are the output tags:\\n'\n",
      " '```\\n'\n",
      " \"['tourist_spot', 'name', 'location', 'category', 'highlights', 'point']\\n\"\n",
      " '```')\n"
     ]
    }
   ],
   "source": [
    "from langchain_core.output_parsers import XMLOutputParser\n",
    "\n",
    "# XML 파서 설정\n",
    "parser = XMLOutputParser(\n",
    "    tags=[\"tourist_spot\", \"name\", \"location\", \"category\", \"highlights\", \"point\"]\n",
    ")\n",
    "\n",
    "# 파서의 포맷 지시사항 출력\n",
    "pprint(parser.get_format_instructions())"
   ]
  },
  {
   "cell_type": "code",
   "execution_count": 7,
   "id": "3a52f670",
   "metadata": {},
   "outputs": [
    {
     "name": "stdout",
     "output_type": "stream",
     "text": [
      "('서울의 다음 관광명소에 대한 상세 정보를 XML 형식으로 제공해주세요.\\n'\n",
      " 'The output should be formatted as a XML file.\\n'\n",
      " '1. Output should conform to the tags below.\\n'\n",
      " '2. If tags are not given, make them on your own.\\n'\n",
      " '3. Remember to always open and close all the tags.\\n'\n",
      " '\\n'\n",
      " 'As an example, for the tags [\"foo\", \"bar\", \"baz\"]:\\n'\n",
      " '1. String \"<foo>\\n'\n",
      " '   <bar>\\n'\n",
      " '      <baz></baz>\\n'\n",
      " '   </bar>\\n'\n",
      " '</foo>\" is a well-formatted instance of the schema.\\n'\n",
      " '2. String \"<foo>\\n'\n",
      " '   <bar>\\n'\n",
      " '   </foo>\" is a badly-formatted instance.\\n'\n",
      " '3. String \"<foo>\\n'\n",
      " '   <tag>\\n'\n",
      " '   </tag>\\n'\n",
      " '</foo>\" is a badly-formatted instance.\\n'\n",
      " '\\n'\n",
      " 'Here are the output tags:\\n'\n",
      " '```\\n'\n",
      " \"['tourist_spot', 'name', 'location', 'category', 'highlights', 'point']\\n\"\n",
      " '```\\n'\n",
      " '\\n'\n",
      " '관광지: 경복궁')\n"
     ]
    }
   ],
   "source": [
    "from langchain_core.prompts import PromptTemplate\n",
    "\n",
    "# 프롬프트 템플릿 정의\n",
    "prompt = PromptTemplate(\n",
    "    template=\"\"\"서울의 다음 관광명소에 대한 상세 정보를 XML 형식으로 제공해주세요.\n",
    "{format_instructions}\n",
    "\n",
    "관광지: {spot_name}\"\"\",\n",
    "    input_variables=[\"spot_name\"],\n",
    "    partial_variables={\"format_instructions\": parser.get_format_instructions()}  \n",
    ")\n",
    "\n",
    "# 프롬프트 출력\n",
    "pprint(prompt.format(spot_name=\"경복궁\"))"
   ]
  },
  {
   "cell_type": "code",
   "execution_count": 8,
   "id": "4299be3e",
   "metadata": {},
   "outputs": [
    {
     "name": "stdout",
     "output_type": "stream",
     "text": [
      "{'tourist_spot': [{'name': '경복궁'},\n",
      "                  {'location': '서울특별시 종로구 사직로 161'},\n",
      "                  {'category': '역사/문화유적'},\n",
      "                  {'highlights': [{'point': '조선 왕조의 정궁으로서 한국 전통 건축의 대표적 예'},\n",
      "                                  {'point': '근정전, 경회루 등 주요 건축물과 아름다운 정원'},\n",
      "                                  {'point': '한복 체험 및 전통 문화 행사 참여 가능'},\n",
      "                                  {'point': '광화문 광장과 인접해 있어 접근성 우수'}]}]}\n"
     ]
    }
   ],
   "source": [
    "# 실행\n",
    "chain = prompt | llm | parser\n",
    "result = chain.invoke({\"spot_name\": \"경복궁\"})\n",
    "\n",
    "# 결과 출력\n",
    "pprint(result)"
   ]
  },
  {
   "cell_type": "markdown",
   "id": "3432dcd3",
   "metadata": {},
   "source": [
    "## 2. 사용자 정의 Output Parser\n",
    "\n",
    "- 기본 `OutputParser`로 처리하기 어려운 복잡한 출력 형식이나 도메인 특화된 요구사항에 대응하기 위해, 사용자 정의 파서를 직접 구현할 수 있음"
   ]
  },
  {
   "cell_type": "code",
   "execution_count": 12,
   "id": "afa72556",
   "metadata": {},
   "outputs": [],
   "source": [
    "from langchain.chat_models import init_chat_model\n",
    "\n",
    "llm = init_chat_model(\"gpt-4.1-mini\", model_provider=\"openai\")"
   ]
  },
  {
   "cell_type": "code",
   "execution_count": 14,
   "id": "8e7dbb94",
   "metadata": {},
   "outputs": [],
   "source": [
    "from langchain_core.prompts import PromptTemplate\n",
    "\n",
    "# 프롬프트 템플릿\n",
    "step_prompt = PromptTemplate(\n",
    "    template=\"\"\"다음 텍스트에 대해서 작업을 순서대로 수행하세요:\n",
    "\n",
    "    [텍스트]\n",
    "    {text}\n",
    "\n",
    "    [작업 순서]\n",
    "    1. 텍스트를 1문장으로 요약\n",
    "    2. 핵심 키워드 3개 추출\n",
    "    3. 감정 분석 수행(긍정/부정/중립)\n",
    "\n",
    "    [작업 결과]\n",
    "    \"\"\",\n",
    "    input_variables=[\"text\"]\n",
    ")\n",
    "\n",
    "# 입력 텍스트\n",
    "text = \"\"\"\n",
    "양자 컴퓨팅은 양자역학의 원리를 바탕으로 데이터를 처리하는 새로운 형태의 계산 방식이다.\n",
    "기존의 고전적 컴퓨터는 0과 1로 이루어진 이진법(bit)을 사용하여 데이터를 처리하지만,\n",
    "양자 컴퓨터는 양자 비트(큐비트, qubit)를 사용하여 훨씬 더 복잡하고 빠른 계산을 수행할 수 있다.\n",
    "\n",
    "큐비트는 동시에 0과 1의 상태를 가질 수 있는 양자 중첩(superposition) 상태를 활용하며,\n",
    "이를 통해 병렬 계산과 같은 고급 기능이 가능하다.\n",
    "\"\"\""
   ]
  },
  {
   "cell_type": "markdown",
   "id": "033ff59b",
   "metadata": {},
   "source": [
    "### 1\\) RunnableLambda 기반 방식\n",
    "\n",
    "- LLM 응답에서 특정 키워드를 추출, 조건 분기 처리, 외부 함수 호출 등 고유한 후처리 로직을 삽입할 수 있음\n",
    "- 고정된 데이터 구조 이외의 유연한 형식을 다루거나, 모델 출력의 후처리를 코드 기반으로 상세히 조절할 때 유용함"
   ]
  },
  {
   "cell_type": "code",
   "execution_count": null,
   "id": "25c4208f",
   "metadata": {},
   "outputs": [
    {
     "name": "stdout",
     "output_type": "stream",
     "text": [
      "['1. 요약: 양자 컴퓨팅은 양자역학의 원리를 이용해 큐비트를 통한 중첩 상태로 기존 컴퓨터보다 훨씬 빠르고 복잡한 계산을 수행하는 새로운 '\n",
      " '계산 방식이다.  ',\n",
      " '2. 핵심 키워드: 양자 컴퓨팅, 큐비트, 중첩(superposition)  ',\n",
      " '3. 감정 분석: 중립']\n"
     ]
    }
   ],
   "source": [
    "from langchain_core.messages import AIMessage\n",
    "from langchain_core.runnables import RunnableLambda\n",
    "from typing import Dict\n",
    "\n",
    "# 사용자 정의 파서\n",
    "def custom_parser(ai_message: AIMessage) -> Dict:\n",
    "    \"\"\"모델 출력을 리스트 형태로 변환\"\"\"\n",
    "    return ai_message.content.split('\\n')\n",
    "\n",
    "# 실행\n",
    "chain = step_prompt | llm | RunnableLambda(custom_parser)\n",
    "result = chain.invoke({\"text\": text})\n",
    "\n",
    "# 결과 출력\n",
    "pprint(result)"
   ]
  },
  {
   "cell_type": "markdown",
   "id": "4dd8fa05",
   "metadata": {},
   "source": [
    "### 2\\) typing 기반 방식\n",
    "\n",
    "- 출력 구조를 가볍게 명시하면서, 간단 JSON 응답을 기대할 때 사용함"
   ]
  },
  {
   "cell_type": "code",
   "execution_count": null,
   "id": "24571fff",
   "metadata": {},
   "outputs": [
    {
     "name": "stdout",
     "output_type": "stream",
     "text": [
      "{'keywords': ['양자 컴퓨팅', '큐비트', '양자 중첩'],\n",
      " 'sentiment': '중립',\n",
      " 'summary': '양자 컴퓨팅은 양자역학 원리를 이용해 큐비트를 통해 고전 컴퓨터보다 훨씬 빠르고 복잡한 계산을 가능하게 하는 새로운 '\n",
      "            '계산 방식이다.'}\n"
     ]
    }
   ],
   "source": [
    "from typing import TypedDict, Annotated \n",
    "\n",
    "# 구조화된 출력 스키마\n",
    "class AnalysisResult(TypedDict):\n",
    "    \"\"\"분석 결과 스키마\"\"\"\n",
    "    summary: Annotated[str, ..., \"핵심 요약\"]   # ...은 필수 입력을 의미\n",
    "    keywords: Annotated[list[str], ..., \"주요 키워드\"]\n",
    "    sentiment: Annotated[str, ..., \"긍정/부정/중립\"]\n",
    "\n",
    "structured_llm = llm.with_structured_output(AnalysisResult)\n",
    "\n",
    "# 실행\n",
    "chain = step_prompt | structured_llm\n",
    "output = chain.invoke({\"text\": text})\n",
    "pprint(output)"
   ]
  },
  {
   "cell_type": "markdown",
   "id": "58b0d7c6",
   "metadata": {},
   "source": [
    "### 3\\) pydantic 기반 방식\n",
    "\n",
    "- 데이터 타입 검증, 필수 항목 검사, 상세 오류 처리까지 가능한 견고한 방식임\n",
    "- 구조가 명확한 응답을 기대할 수 있어, API 응답 처리, DB 저장, UI 렌더링 등과의 연동에 효과적임"
   ]
  },
  {
   "cell_type": "code",
   "execution_count": 16,
   "id": "3e08764d",
   "metadata": {},
   "outputs": [
    {
     "name": "stdout",
     "output_type": "stream",
     "text": [
      "양자 컴퓨팅은 양자 중첩 상태를 활용하는 큐비트를 통해 기존 고전 컴퓨터보다 더 복잡하고 빠른 계산을 가능하게 하는 새로운 계산 방식이다.\n",
      "['양자 컴퓨팅', '큐비트', '양자 중첩']\n",
      "긍정\n"
     ]
    }
   ],
   "source": [
    "from typing import List, Literal\n",
    "from pydantic import BaseModel, Field\n",
    "\n",
    "# 구조화된 출력 스키마\n",
    "class AnalysisResult(BaseModel):\n",
    "    \"\"\"분석 결과 스키마\"\"\"\n",
    "    summary: str = Field(...,  description=\"텍스트의 핵심 내용 요약\")\n",
    "    keywords: List[str] = Field(..., description=\"텍스트에서 추출한 주요 키워드\")\n",
    "    sentiment: Literal[\"긍정\", \"부정\", \"중립\"] = Field(\n",
    "        ..., \n",
    "        description=\"텍스트의 전반적인 감정 분석 결과\"\n",
    "    )\n",
    "\n",
    "structured_llm = llm.with_structured_output(AnalysisResult)\n",
    "\n",
    "# 실행\n",
    "chain = step_prompt | structured_llm\n",
    "output = chain.invoke({\"text\": text})\n",
    "print(output.summary)\n",
    "print(output.keywords)\n",
    "print(output.sentiment)"
   ]
  },
  {
   "cell_type": "markdown",
   "id": "5e05eae2",
   "metadata": {},
   "source": [
    "## 3. [예제] 학습 도우미 만들기"
   ]
  },
  {
   "cell_type": "markdown",
   "id": "aec31e60",
   "metadata": {},
   "source": [
    "***환경 설정***"
   ]
  },
  {
   "cell_type": "code",
   "execution_count": null,
   "id": "a6491336",
   "metadata": {},
   "outputs": [],
   "source": [
    "from dotenv import load_dotenv\n",
    "load_dotenv()"
   ]
  },
  {
   "cell_type": "markdown",
   "id": "9617121a",
   "metadata": {},
   "source": [
    "### 1\\) 퀴즈 생성 챗봇"
   ]
  },
  {
   "cell_type": "code",
   "execution_count": null,
   "id": "c9933bc1",
   "metadata": {},
   "outputs": [
    {
     "name": "stdout",
     "output_type": "stream",
     "text": [
      "\"퀴즈 문제: LangChain에서 '체인(chain)'의 주요 역할은 무엇인가?\"\n",
      "(\"보기: ['여러 개의 LLM 호출을 순차적으로 연결하여 복잡한 작업을 수행한다.', '데이터베이스와의 연결을 관리한다.', '사용자 \"\n",
      " \"인터페이스를 구성하는 모듈이다.', '모델 학습을 위한 데이터 전처리를 담당한다.']\")\n",
      "'정답: 1'\n",
      "(\"정답 설명: LangChain에서 '체인'은 여러 개의 언어 모델 호출을 순차적으로 연결하여 복잡한 작업을 수행하는 역할을 합니다. 이를 \"\n",
      " '통해 단일 모델 호출로는 어려운 복합적인 작업을 단계별로 처리할 수 있습니다. 데이터베이스 연결이나 UI 구성, 데이터 전처리는 각각 '\n",
      " '다른 컴포넌트가 담당합니다.')\n"
     ]
    }
   ],
   "source": [
    "from typing import List\n",
    "from pydantic import BaseModel, Field\n",
    "from langchain_core.prompts import PromptTemplate\n",
    "from langchain_openai import ChatOpenAI\n",
    "\n",
    "# 스키마 정의의\n",
    "class QuizQuestion(BaseModel):\n",
    "    \"\"\"퀴즈 스키마\"\"\"\n",
    "    question: str = Field(..., description=\"퀴즈 문제\")\n",
    "    options: List[str] = Field(..., description=\"보기 (4개)\")\n",
    "    correct_answer: int = Field(..., description=\"정답 번호 (1-4)\")\n",
    "    explanation: str = Field(..., description=\"정답 설명\")\n",
    "\n",
    "\n",
    "# 프롬프트 탬플릿\n",
    "quiz_prompt = PromptTemplate(\n",
    "    template=\"\"\"다음 주제에 대한 퀴즈 문제를 만들어주세요:\n",
    "    \n",
    "주제: {topic}\n",
    "난이도(상/중/하): {difficulty}\n",
    "\n",
    "다음 조건을 만족하는 퀴즈를 생성해주세요:\n",
    "1. 문제는 명확하고 이해하기 쉽게\n",
    "2. 4개의 보기 제공\n",
    "3. 정답과 오답은 비슷한 수준으로\n",
    "4. 상세한 정답 설명 포함\"\"\",\n",
    "    input_variables=[\"topic\", \"difficulty\"]\n",
    ")\n",
    "\n",
    "llm = ChatOpenAI(model=\"gpt-4.1-mini\", temperature=0.3)\n",
    "\n",
    "# 구조화된 Outupt Parser 설정\n",
    "structured_llm = llm.with_structured_output(QuizQuestion)\n",
    "\n",
    "# 실행\n",
    "chain = quiz_prompt | structured_llm\n",
    "output = chain.invoke({\"topic\": \"LangChain\", \"difficulty\": \"상\"})\n",
    "\n",
    "# 결과 출력\n",
    "pprint(f\"퀴즈 문제: {output.question}\")\n",
    "pprint(f\"보기: {output.options}\")\n",
    "pprint(f\"정답: {output.correct_answer}\")\n",
    "pprint(f\"정답 설명: {output.explanation}\")"
   ]
  },
  {
   "cell_type": "markdown",
   "id": "b9dfc200",
   "metadata": {},
   "source": [
    "### 2\\) 개념 설명 챗봇"
   ]
  },
  {
   "cell_type": "code",
   "execution_count": 26,
   "id": "42b982d0",
   "metadata": {},
   "outputs": [
    {
     "name": "stdout",
     "output_type": "stream",
     "text": [
      "'주제: LangChain'\n",
      "('설명: LangChain은 언어 모델을 활용하여 다양한 애플리케이션을 개발할 수 있도록 돕는 프레임워크입니다. 주로 자연어 처리 작업을 '\n",
      " '쉽게 연결하고 확장할 수 있게 설계되었습니다.')\n",
      "'예시: 예를 들어, LangChain을 사용하면 텍스트 요약, 질문 응답, 대화형 에이전트 등을 쉽게 구현할 수 있습니다.'\n",
      "\"관련 개념: ['자연어 처리', '언어 모델', '프레임워크', 'AI 애플리케이션']\"\n"
     ]
    }
   ],
   "source": [
    "from typing import List\n",
    "from pydantic import BaseModel, Field\n",
    "from langchain_core.prompts import PromptTemplate\n",
    "from langchain_openai import ChatOpenAI\n",
    "\n",
    "# 스키마 정의의\n",
    "class ConceptExplanation(BaseModel):\n",
    "    \"\"\"개념 설명 스키마\"\"\"\n",
    "    topic: str = Field(..., description=\"주제\")\n",
    "    explanation: str = Field(..., description=\"개념 설명\")\n",
    "    examples: str = Field(..., description=\"사용 예시\")\n",
    "    related_concepts: List[str] = Field(..., description=\"관련된 개념 (4개)\")\n",
    "\n",
    "# 프롬프트 탬플릿\n",
    "concept_prompt = PromptTemplate(\n",
    "    template=\"\"\"다음 주제에 대해 차근차근 설명해 주세요:\n",
    "    \n",
    "주제: {topic}\n",
    "난이도(상/중/하): {difficulty}\n",
    "\n",
    "다음을 차례대로 작성하세요:\n",
    "1. 주제에 대한 개념 설명\n",
    "2. 주제에 대한 사용 예시\n",
    "3. 관련 개념 목록 (4개)\n",
    "\"\"\",\n",
    "    input_variables=[\"topic\", \"difficulty\"]\n",
    ")\n",
    "\n",
    "llm = ChatOpenAI(model=\"gpt-4.1-mini\", temperature=0.3)\n",
    "\n",
    "# 구조화된 Outupt Parser 설정\n",
    "structured_llm = llm.with_structured_output(ConceptExplanation)\n",
    "\n",
    "# 실행\n",
    "chain = quiz_prompt | structured_llm\n",
    "output = chain.invoke({\"topic\": \"LangChain\", \"difficulty\": \"하\"})\n",
    "\n",
    "# 결과 출력\n",
    "pprint(f\"주제: {output.topic}\")\n",
    "pprint(f\"설명: {output.explanation}\")\n",
    "pprint(f\"예시: {output.examples}\")\n",
    "pprint(f\"관련 개념: {output.related_concepts}\")"
   ]
  },
  {
   "cell_type": "code",
   "execution_count": null,
   "id": "a9f96809",
   "metadata": {},
   "outputs": [],
   "source": []
  }
 ],
 "metadata": {
  "kernelspec": {
   "display_name": ".venv",
   "language": "python",
   "name": "python3"
  },
  "language_info": {
   "codemirror_mode": {
    "name": "ipython",
    "version": 3
   },
   "file_extension": ".py",
   "mimetype": "text/x-python",
   "name": "python",
   "nbconvert_exporter": "python",
   "pygments_lexer": "ipython3",
   "version": "3.12.10"
  }
 },
 "nbformat": 4,
 "nbformat_minor": 5
}
