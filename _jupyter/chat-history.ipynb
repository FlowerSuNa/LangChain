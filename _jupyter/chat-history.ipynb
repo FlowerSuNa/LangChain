{
 "cells": [
  {
   "cell_type": "markdown",
   "id": "e28706cf",
   "metadata": {},
   "source": [
    "## 환경 셋팅"
   ]
  },
  {
   "cell_type": "code",
   "execution_count": 1,
   "id": "b92d6e4d",
   "metadata": {},
   "outputs": [
    {
     "data": {
      "text/plain": [
       "True"
      ]
     },
     "execution_count": 1,
     "metadata": {},
     "output_type": "execute_result"
    }
   ],
   "source": [
    "from dotenv import load_dotenv\n",
    "load_dotenv()"
   ]
  },
  {
   "cell_type": "code",
   "execution_count": 2,
   "id": "830d9f98",
   "metadata": {},
   "outputs": [],
   "source": [
    "from pydantic import BaseModel, Field\n",
    "from typing import List\n",
    "from pprint import pprint"
   ]
  },
  {
   "cell_type": "code",
   "execution_count": 3,
   "id": "49d29bdc",
   "metadata": {},
   "outputs": [],
   "source": [
    "from langchain_core.chat_history import BaseChatMessageHistory\n",
    "from langchain_core.messages import BaseMessage, HumanMessage, AIMessage\n",
    "from langchain_core.prompts import ChatPromptTemplate, MessagesPlaceholder\n",
    "from langchain_core.runnables.history import RunnableWithMessageHistory\n",
    "from langchain_openai import ChatOpenAI"
   ]
  },
  {
   "cell_type": "code",
   "execution_count": 4,
   "id": "ef65cba1",
   "metadata": {},
   "outputs": [],
   "source": [
    "# 프롬프트 템플릿 설정 및 체인 생성\n",
    "prompt = ChatPromptTemplate.from_messages([\n",
    "    (\"system\", \"당신은 Python 전문가 입니다.\"),\n",
    "    MessagesPlaceholder(variable_name=\"history\"), \n",
    "    (\"human\", \"{input}\")\n",
    "])\n",
    "llm = ChatOpenAI(\n",
    "    model='gpt-4.1-mini',\n",
    "    temperature=0.3,\n",
    "    top_p=0.9, \n",
    ")\n",
    "chain = prompt | llm"
   ]
  },
  {
   "cell_type": "code",
   "execution_count": 5,
   "id": "ad51565a",
   "metadata": {},
   "outputs": [],
   "source": [
    "query_1 = \"LangChain을 5문장으로 설명해 주세요.\"\n",
    "query_2 = \"주요 기능 5가지만 설명해 주세요.\""
   ]
  },
  {
   "cell_type": "markdown",
   "id": "6b4cbb8a",
   "metadata": {},
   "source": [
    "## RunnableWithMessageHistory 구현"
   ]
  },
  {
   "cell_type": "markdown",
   "id": "bf4130af",
   "metadata": {},
   "source": [
    "### 1\\) In Memory 활용"
   ]
  },
  {
   "cell_type": "code",
   "execution_count": 6,
   "id": "15650427",
   "metadata": {},
   "outputs": [],
   "source": [
    "# 메모리 기반 히스토리 구현\n",
    "class InMemoryHistory(BaseChatMessageHistory, BaseModel):\n",
    "    messages: List[BaseMessage] = Field(default_factory=list)\n",
    "    \n",
    "    def add_messages(self, messages: List[BaseMessage]) -> None:\n",
    "        self.messages.extend(messages)\n",
    "    \n",
    "    def clear(self) -> None:\n",
    "        self.messages = []\n",
    "\n",
    "# 세션 저장소\n",
    "store = {}\n",
    "\n",
    "# 세션 ID로 히스토리 가져오기\n",
    "def get_session_history(session_id: str) -> BaseChatMessageHistory:\n",
    "    if session_id not in store:\n",
    "        store[session_id] = InMemoryHistory()\n",
    "    return store[session_id]"
   ]
  },
  {
   "cell_type": "code",
   "execution_count": 7,
   "id": "8f144a1e",
   "metadata": {},
   "outputs": [
    {
     "name": "stdout",
     "output_type": "stream",
     "text": [
      "답변:\n",
      "LangChain은 자연어 처리 애플리케이션 개발을 돕는 오픈소스 프레임워크입니다. 주로 대형 언어 모델(LLM)과의 상호작용을 쉽게 만들기 위해 설계되었습니다. 데이터 연결, 체인 구성, 에이전트 설계 등 다양한 기능을 제공합니다. 이를 통해 복잡한 작업을 여러 단계로 나누어 처리할 수 있습니다. Python을 포함한 여러 언어에서 활용 가능하며, 확장성과 유연성이 뛰어납니다.\n"
     ]
    }
   ],
   "source": [
    "# 히스토리 관리 추가  \n",
    "chain_with_history = RunnableWithMessageHistory(\n",
    "    chain,\n",
    "    get_session_history,\n",
    "    input_messages_key=\"input\",\n",
    "    history_messages_key=\"history\"\n",
    ")\n",
    "\n",
    "# 지정된 세션 ID를 사용하여체인 실행\n",
    "response = chain_with_history.invoke(\n",
    "    {\"input\": query_1},\n",
    "    config={\"configurable\": {\"session_id\": \"user_1\"}}\n",
    ")\n",
    "print(f\"답변:\\n{response.content}\")"
   ]
  },
  {
   "cell_type": "code",
   "execution_count": 8,
   "id": "174babe9",
   "metadata": {},
   "outputs": [
    {
     "name": "stdout",
     "output_type": "stream",
     "text": [
      "[HumanMessage(content='LangChain을 5문장으로 설명해 주세요.', additional_kwargs={}, response_metadata={}),\n",
      " AIMessage(content='LangChain은 자연어 처리 애플리케이션 개발을 돕는 오픈소스 프레임워크입니다. 주로 대형 언어 모델(LLM)과의 상호작용을 쉽게 만들기 위해 설계되었습니다. 데이터 연결, 체인 구성, 에이전트 설계 등 다양한 기능을 제공합니다. 이를 통해 복잡한 작업을 여러 단계로 나누어 처리할 수 있습니다. Python을 포함한 여러 언어에서 활용 가능하며, 확장성과 유연성이 뛰어납니다.', additional_kwargs={'refusal': None}, response_metadata={'token_usage': {'completion_tokens': 112, 'prompt_tokens': 30, 'total_tokens': 142, 'completion_tokens_details': {'accepted_prediction_tokens': 0, 'audio_tokens': 0, 'reasoning_tokens': 0, 'rejected_prediction_tokens': 0}, 'prompt_tokens_details': {'audio_tokens': 0, 'cached_tokens': 0}}, 'model_name': 'gpt-4.1-mini-2025-04-14', 'system_fingerprint': 'fp_6f2eabb9a5', 'id': 'chatcmpl-Bd9cxYNYRFhr6T1IW1tO321llbiOJ', 'service_tier': 'default', 'finish_reason': 'stop', 'logprobs': None}, id='run--3e474ebc-ec79-480b-92d6-aebad5fe6f81-0', usage_metadata={'input_tokens': 30, 'output_tokens': 112, 'total_tokens': 142, 'input_token_details': {'audio': 0, 'cache_read': 0}, 'output_token_details': {'audio': 0, 'reasoning': 0}})]\n"
     ]
    }
   ],
   "source": [
    "# 대화 히스토리 출력 \n",
    "history = get_session_history(\"user_1\")\n",
    "pprint(history.messages)"
   ]
  },
  {
   "cell_type": "code",
   "execution_count": 9,
   "id": "d1aebd84",
   "metadata": {},
   "outputs": [
    {
     "name": "stdout",
     "output_type": "stream",
     "text": [
      "답변:\n",
      "LangChain의 주요 기능 5가지는 다음과 같습니다:\n",
      "\n",
      "1. **체인(Chains) 구성**: 여러 개의 언어 모델 호출이나 데이터 처리 단계를 순차적 또는 병렬로 연결해 복잡한 워크플로우를 쉽게 구현할 수 있습니다.  \n",
      "2. **프롬프트 템플릿(Prompt Templates)**: 재사용 가능한 프롬프트를 생성하고 관리하여 일관된 입력을 언어 모델에 전달할 수 있습니다.  \n",
      "3. **에이전트(Agents)**: 외부 도구나 API와 상호작용하며, 상황에 맞게 적절한 행동을 선택해 자동화된 의사결정을 수행합니다.  \n",
      "4. **메모리(Memory)**: 대화형 애플리케이션에서 이전 대화 내용을 저장하고 활용하여 문맥을 유지할 수 있습니다.  \n",
      "5. **데이터 연결(Data Connectors)**: 데이터베이스, 문서, API 등 다양한 외부 데이터 소스와 연동해 정보를 가져오고 처리할 수 있습니다.\n"
     ]
    }
   ],
   "source": [
    "# 이전 대화 내용을 기반으로 새로운 질문을 추가하여 체인 실행\n",
    "response = chain_with_history.invoke(\n",
    "    {\"input\": query_2},\n",
    "    config={\"configurable\": {\"session_id\": \"user_1\"}}\n",
    ")\n",
    "print(f\"답변:\\n{response.content}\")"
   ]
  },
  {
   "cell_type": "code",
   "execution_count": 10,
   "id": "0846ecfb",
   "metadata": {},
   "outputs": [
    {
     "name": "stdout",
     "output_type": "stream",
     "text": [
      "[HumanMessage(content='LangChain을 5문장으로 설명해 주세요.', additional_kwargs={}, response_metadata={}),\n",
      " AIMessage(content='LangChain은 자연어 처리 애플리케이션 개발을 돕는 오픈소스 프레임워크입니다. 주로 대형 언어 모델(LLM)과의 상호작용을 쉽게 만들기 위해 설계되었습니다. 데이터 연결, 체인 구성, 에이전트 설계 등 다양한 기능을 제공합니다. 이를 통해 복잡한 작업을 여러 단계로 나누어 처리할 수 있습니다. Python을 포함한 여러 언어에서 활용 가능하며, 확장성과 유연성이 뛰어납니다.', additional_kwargs={'refusal': None}, response_metadata={'token_usage': {'completion_tokens': 112, 'prompt_tokens': 30, 'total_tokens': 142, 'completion_tokens_details': {'accepted_prediction_tokens': 0, 'audio_tokens': 0, 'reasoning_tokens': 0, 'rejected_prediction_tokens': 0}, 'prompt_tokens_details': {'audio_tokens': 0, 'cached_tokens': 0}}, 'model_name': 'gpt-4.1-mini-2025-04-14', 'system_fingerprint': 'fp_6f2eabb9a5', 'id': 'chatcmpl-Bd9cxYNYRFhr6T1IW1tO321llbiOJ', 'service_tier': 'default', 'finish_reason': 'stop', 'logprobs': None}, id='run--3e474ebc-ec79-480b-92d6-aebad5fe6f81-0', usage_metadata={'input_tokens': 30, 'output_tokens': 112, 'total_tokens': 142, 'input_token_details': {'audio': 0, 'cache_read': 0}, 'output_token_details': {'audio': 0, 'reasoning': 0}}),\n",
      " HumanMessage(content='주요 기능 5가지만 설명해 주세요.', additional_kwargs={}, response_metadata={}),\n",
      " AIMessage(content='LangChain의 주요 기능 5가지는 다음과 같습니다:\\n\\n1. **체인(Chains) 구성**: 여러 개의 언어 모델 호출이나 데이터 처리 단계를 순차적 또는 병렬로 연결해 복잡한 워크플로우를 쉽게 구현할 수 있습니다.  \\n2. **프롬프트 템플릿(Prompt Templates)**: 재사용 가능한 프롬프트를 생성하고 관리하여 일관된 입력을 언어 모델에 전달할 수 있습니다.  \\n3. **에이전트(Agents)**: 외부 도구나 API와 상호작용하며, 상황에 맞게 적절한 행동을 선택해 자동화된 의사결정을 수행합니다.  \\n4. **메모리(Memory)**: 대화형 애플리케이션에서 이전 대화 내용을 저장하고 활용하여 문맥을 유지할 수 있습니다.  \\n5. **데이터 연결(Data Connectors)**: 데이터베이스, 문서, API 등 다양한 외부 데이터 소스와 연동해 정보를 가져오고 처리할 수 있습니다.', additional_kwargs={'refusal': None}, response_metadata={'token_usage': {'completion_tokens': 225, 'prompt_tokens': 161, 'total_tokens': 386, 'completion_tokens_details': {'accepted_prediction_tokens': 0, 'audio_tokens': 0, 'reasoning_tokens': 0, 'rejected_prediction_tokens': 0}, 'prompt_tokens_details': {'audio_tokens': 0, 'cached_tokens': 0}}, 'model_name': 'gpt-4.1-mini-2025-04-14', 'system_fingerprint': 'fp_658b958c37', 'id': 'chatcmpl-Bd9d0BKdL0u4Wnae5ISRhShqwqYRG', 'service_tier': 'default', 'finish_reason': 'stop', 'logprobs': None}, id='run--6b69bf8d-2d0f-435c-814a-655e953440ce-0', usage_metadata={'input_tokens': 161, 'output_tokens': 225, 'total_tokens': 386, 'input_token_details': {'audio': 0, 'cache_read': 0}, 'output_token_details': {'audio': 0, 'reasoning': 0}})]\n"
     ]
    }
   ],
   "source": [
    "# 대화 히스토리 출력 \n",
    "history = get_session_history(\"user_1\")\n",
    "pprint(history.messages)"
   ]
  },
  {
   "cell_type": "markdown",
   "id": "debeecf6",
   "metadata": {},
   "source": [
    "### 2\\) SQLite 활용"
   ]
  },
  {
   "cell_type": "code",
   "execution_count": 11,
   "id": "46747cfd",
   "metadata": {},
   "outputs": [],
   "source": [
    "import json\n",
    "import sqlite3"
   ]
  },
  {
   "cell_type": "code",
   "execution_count": 12,
   "id": "0bd93cd6",
   "metadata": {},
   "outputs": [],
   "source": [
    "class SQLiteChatMessageHistory(BaseChatMessageHistory):\n",
    "    \"\"\" \n",
    "    SQLite 데이터베이스를 사용하여 챗봇 히스토리를 저장하는 클래스\n",
    "\n",
    "    Attributes:\n",
    "        session_id (str): 세션 ID\n",
    "        db_path (str): SQLite 데이터베이스 파일 경로\n",
    "    \"\"\"\n",
    "    def __init__(self, session_id: str, db_path: str = \"chat_history.db\"):\n",
    "        self.session_id = session_id\n",
    "        self.db_path = db_path\n",
    "        self._create_tables()\n",
    "    \n",
    "    def _create_tables(self):\n",
    "        \"\"\"데이터베이스 테이블 생성\"\"\"\n",
    "        conn = sqlite3.connect(self.db_path)\n",
    "        cursor = conn.cursor()\n",
    "        \n",
    "        # 메시지 테이블 생성\n",
    "        cursor.execute(\"\"\"\n",
    "            CREATE TABLE IF NOT EXISTS messages (\n",
    "                id INTEGER PRIMARY KEY AUTOINCREMENT,\n",
    "                session_id TEXT,\n",
    "                message_type TEXT,\n",
    "                content TEXT,\n",
    "                metadata TEXT,\n",
    "                created_at TIMESTAMP DEFAULT CURRENT_TIMESTAMP\n",
    "            )\n",
    "        \"\"\")\n",
    "        \n",
    "        conn.commit()\n",
    "        conn.close()\n",
    "    \n",
    "    def add_message(self, message: BaseMessage) -> None:\n",
    "        \"\"\"단일 메시지 추가\"\"\"\n",
    "        conn = sqlite3.connect(self.db_path)\n",
    "        cursor = conn.cursor()\n",
    "        \n",
    "        cursor.execute(\"\"\"\n",
    "            INSERT INTO messages (session_id, message_type, content, metadata)\n",
    "            VALUES (?, ?, ?, ?)\n",
    "        \"\"\", (\n",
    "            self.session_id,\n",
    "            message.__class__.__name__,\n",
    "            message.content,\n",
    "            json.dumps(message.additional_kwargs)\n",
    "        ))\n",
    "        \n",
    "        conn.commit()\n",
    "        conn.close()\n",
    "    \n",
    "    def add_messages(self, messages: List[BaseMessage]) -> None:\n",
    "        \"\"\"여러 메시지 추가\"\"\"\n",
    "        conn = sqlite3.connect(self.db_path)\n",
    "        cursor = conn.cursor()\n",
    "        \n",
    "        for message in messages:\n",
    "            cursor.execute(\"\"\"\n",
    "                INSERT INTO messages (session_id, message_type, content, metadata)\n",
    "                VALUES (?, ?, ?, ?)\n",
    "            \"\"\", (\n",
    "                self.session_id,\n",
    "                message.__class__.__name__,\n",
    "                message.content,\n",
    "                json.dumps(message.additional_kwargs)\n",
    "            ))\n",
    "        \n",
    "        conn.commit()\n",
    "        conn.close()\n",
    "    \n",
    "    def clear(self) -> None:\n",
    "        \"\"\"세션의 모든 메시지 삭제\"\"\"\n",
    "        conn = sqlite3.connect(self.db_path)\n",
    "        cursor = conn.cursor()\n",
    "        \n",
    "        cursor.execute(\"\"\"\n",
    "            DELETE FROM messages WHERE session_id = ?\n",
    "        \"\"\", (self.session_id,))\n",
    "        \n",
    "        conn.commit()\n",
    "        conn.close()\n",
    "    \n",
    "    @property\n",
    "    def messages(self) -> List[BaseMessage]:\n",
    "        \"\"\"저장된 메시지 조회\"\"\"\n",
    "        conn = sqlite3.connect(self.db_path)\n",
    "        cursor = conn.cursor()\n",
    "        \n",
    "        cursor.execute(\"\"\"\n",
    "            SELECT message_type, content, metadata\n",
    "            FROM messages \n",
    "            WHERE session_id = ?\n",
    "            ORDER BY created_at\n",
    "        \"\"\", (self.session_id,))\n",
    "        \n",
    "        messages = []\n",
    "        for row in cursor.fetchall():\n",
    "            message_type, content, metadata = row\n",
    "            if message_type == \"HumanMessage\":\n",
    "                message = HumanMessage(content=content)\n",
    "            else:\n",
    "                message = AIMessage(content=content)\n",
    "            \n",
    "            if metadata:\n",
    "                message.additional_kwargs = json.loads(metadata)\n",
    "            \n",
    "            messages.append(message)\n",
    "        \n",
    "        conn.close()\n",
    "        return messages\n",
    "    \n",
    "\n",
    "# 세션 ID로 히스토리 가져오기\n",
    "def get_chat_history(session_id: str) -> BaseChatMessageHistory:\n",
    "    return SQLiteChatMessageHistory(session_id=session_id)"
   ]
  },
  {
   "cell_type": "code",
   "execution_count": 13,
   "id": "f367d845",
   "metadata": {},
   "outputs": [
    {
     "name": "stdout",
     "output_type": "stream",
     "text": [
      "답변:\n",
      "LangChain은 자연어 처리 애플리케이션 개발을 돕는 오픈소스 프레임워크입니다. 주로 대형 언어 모델(LLM)과의 인터페이스를 간편하게 만들어 줍니다. 데이터 연결, 체인 구성, 메모리 관리 등 다양한 기능을 제공합니다. 이를 통해 복잡한 작업을 여러 단계로 나누어 처리할 수 있습니다. Python을 포함한 여러 프로그래밍 언어에서 활용 가능합니다.\n"
     ]
    }
   ],
   "source": [
    "# 히스토리 관리 추가  \n",
    "chain_with_history = RunnableWithMessageHistory(\n",
    "    chain,\n",
    "    get_chat_history,\n",
    "    input_messages_key=\"input\",\n",
    "    history_messages_key=\"history\"\n",
    ")\n",
    "\n",
    "# 지정된 세션 ID(tourist_1)를 사용하여체인 실행\n",
    "response = chain_with_history.invoke(\n",
    "    {\"input\": query_1},\n",
    "    config={\"configurable\": {\"session_id\": \"user_2\"}}\n",
    ")\n",
    "print(f\"답변:\\n{response.content}\")"
   ]
  },
  {
   "cell_type": "code",
   "execution_count": 14,
   "id": "c7406b94",
   "metadata": {},
   "outputs": [
    {
     "name": "stdout",
     "output_type": "stream",
     "text": [
      "[HumanMessage(content='LangChain을 5문장으로 설명해 주세요.', additional_kwargs={}, response_metadata={}),\n",
      " AIMessage(content='LangChain은 자연어 처리 애플리케이션 개발을 돕는 오픈소스 프레임워크입니다. 주로 대형 언어 모델(LLM)과의 인터페이스를 간편하게 만들어 줍니다. 데이터 연결, 체인 구성, 메모리 관리 등 다양한 기능을 제공합니다. 이를 통해 복잡한 작업을 여러 단계로 나누어 처리할 수 있습니다. Python을 포함한 여러 프로그래밍 언어에서 활용 가능합니다.', additional_kwargs={'refusal': None}, response_metadata={})]\n"
     ]
    }
   ],
   "source": [
    "# 대화 히스토리 출력 \n",
    "history = get_chat_history(\"user_2\")\n",
    "pprint(history.messages)"
   ]
  },
  {
   "cell_type": "code",
   "execution_count": 15,
   "id": "2cad00ef",
   "metadata": {},
   "outputs": [
    {
     "name": "stdout",
     "output_type": "stream",
     "text": [
      "답변:\n",
      "LangChain의 주요 기능 5가지는 다음과 같습니다:\n",
      "\n",
      "1. **체인(Chains) 구성**: 여러 개의 언어 모델 호출이나 데이터 처리 단계를 순차적으로 연결해 복잡한 작업을 자동화할 수 있습니다.  \n",
      "2. **프롬프트 템플릿(Prompt Templates)**: 동적인 입력값을 받아 다양한 상황에 맞는 프롬프트를 쉽게 생성하고 관리할 수 있습니다.  \n",
      "3. **메모리(Memory) 관리**: 대화형 애플리케이션에서 이전 대화 내용을 저장하고 참조하여 문맥을 유지할 수 있습니다.  \n",
      "4. **데이터 연결(Data Connectors)**: 외부 데이터베이스, API, 문서 등 다양한 데이터 소스와 연동하여 정보를 가져오고 활용할 수 있습니다.  \n",
      "5. **에이전트(Agents)**: 사용자의 목표에 맞춰 여러 도구와 모델을 조합해 자율적으로 문제를 해결하는 기능을 제공합니다.\n"
     ]
    }
   ],
   "source": [
    "# 이전 대화 내용을 기반으로 새로운 질문을 추가하여 체인 실행\n",
    "response = chain_with_history.invoke(\n",
    "    {\"input\": query_2},\n",
    "    config={\"configurable\": {\"session_id\": \"user_2\"}}\n",
    ")\n",
    "print(f\"답변:\\n{response.content}\")"
   ]
  },
  {
   "cell_type": "code",
   "execution_count": 16,
   "id": "33f83a35",
   "metadata": {},
   "outputs": [
    {
     "name": "stdout",
     "output_type": "stream",
     "text": [
      "[HumanMessage(content='LangChain을 5문장으로 설명해 주세요.', additional_kwargs={}, response_metadata={}),\n",
      " AIMessage(content='LangChain은 자연어 처리 애플리케이션 개발을 돕는 오픈소스 프레임워크입니다. 주로 대형 언어 모델(LLM)과의 인터페이스를 간편하게 만들어 줍니다. 데이터 연결, 체인 구성, 메모리 관리 등 다양한 기능을 제공합니다. 이를 통해 복잡한 작업을 여러 단계로 나누어 처리할 수 있습니다. Python을 포함한 여러 프로그래밍 언어에서 활용 가능합니다.', additional_kwargs={'refusal': None}, response_metadata={}),\n",
      " HumanMessage(content='주요 기능 5가지만 설명해 주세요.', additional_kwargs={}, response_metadata={}),\n",
      " AIMessage(content='LangChain의 주요 기능 5가지는 다음과 같습니다:\\n\\n1. **체인(Chains) 구성**: 여러 개의 언어 모델 호출이나 데이터 처리 단계를 순차적으로 연결해 복잡한 작업을 자동화할 수 있습니다.  \\n2. **프롬프트 템플릿(Prompt Templates)**: 동적인 입력값을 받아 다양한 상황에 맞는 프롬프트를 쉽게 생성하고 관리할 수 있습니다.  \\n3. **메모리(Memory) 관리**: 대화형 애플리케이션에서 이전 대화 내용을 저장하고 참조하여 문맥을 유지할 수 있습니다.  \\n4. **데이터 연결(Data Connectors)**: 외부 데이터베이스, API, 문서 등 다양한 데이터 소스와 연동하여 정보를 가져오고 활용할 수 있습니다.  \\n5. **에이전트(Agents)**: 사용자의 목표에 맞춰 여러 도구와 모델을 조합해 자율적으로 문제를 해결하는 기능을 제공합니다.', additional_kwargs={'refusal': None}, response_metadata={})]\n"
     ]
    }
   ],
   "source": [
    "# 대화 히스토리 출력 \n",
    "history = get_chat_history(\"user_2\")\n",
    "pprint(history.messages)"
   ]
  }
 ],
 "metadata": {
  "kernelspec": {
   "display_name": ".venv",
   "language": "python",
   "name": "python3"
  },
  "language_info": {
   "codemirror_mode": {
    "name": "ipython",
    "version": 3
   },
   "file_extension": ".py",
   "mimetype": "text/x-python",
   "name": "python",
   "nbconvert_exporter": "python",
   "pygments_lexer": "ipython3",
   "version": "3.12.10"
  }
 },
 "nbformat": 4,
 "nbformat_minor": 5
}
