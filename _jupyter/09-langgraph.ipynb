{
 "cells": [
  {
   "cell_type": "markdown",
   "id": "4dcabc05",
   "metadata": {},
   "source": [
    "# LangGraph 맛보기"
   ]
  },
  {
   "cell_type": "markdown",
   "id": "151d7883",
   "metadata": {},
   "source": [
    "## 환경 설정"
   ]
  },
  {
   "cell_type": "code",
   "execution_count": 1,
   "id": "c754de9d",
   "metadata": {},
   "outputs": [
    {
     "data": {
      "text/plain": [
       "True"
      ]
     },
     "execution_count": 1,
     "metadata": {},
     "output_type": "execute_result"
    }
   ],
   "source": [
    "from dotenv import load_dotenv\n",
    "\n",
    "# 환경 변수 로드\n",
    "load_dotenv()"
   ]
  },
  {
   "cell_type": "code",
   "execution_count": 2,
   "id": "69be331a",
   "metadata": {},
   "outputs": [
    {
     "data": {
      "image/png": "[encoded data removed]",
      "text/plain": [
       "<IPython.core.display.Image object>"
      ]
     },
     "metadata": {},
     "output_type": "display_data"
    }
   ],
   "source": [
    "from langgraph.graph import StateGraph, START, END\n",
    "from typing import TypedDict, Literal\n",
    "from IPython.display import Image, display\n",
    "\n",
    "# 1. 상태 정의\n",
    "class MyState(TypedDict):\n",
    "    name: str\n",
    "    is_morning: bool\n",
    "\n",
    "# 2. 노드 함수 정의\n",
    "def greet_user(state: MyState) -> MyState:\n",
    "    print(f\"Hi, {state['name']}!\")\n",
    "    return state\n",
    "\n",
    "def say_good_morning(state: MyState) -> MyState:\n",
    "    print(\"Good morning!\")\n",
    "    return state\n",
    "\n",
    "def say_hello(state: MyState) -> MyState:\n",
    "    print(\"Hello!\")\n",
    "    return state\n",
    "\n",
    "# 3. 조건 함수 정의\n",
    "def is_morning(state: MyState) -> Literal[\"morning\", \"not_morning\"]:\n",
    "    return \"morning\" if state[\"is_morning\"] else \"not_morning\"\n",
    "\n",
    "# 4. 그래프 구성\n",
    "builder = StateGraph(MyState)\n",
    "\n",
    "builder.add_node(\"greet_user\", greet_user)\n",
    "builder.add_node(\"say_good_morning\", say_good_morning)\n",
    "builder.add_node(\"say_hello\", say_hello)\n",
    "\n",
    "builder.add_edge(START, \"greet_user\")\n",
    "builder.add_conditional_edges(\n",
    "    \"greet_user\",\n",
    "    is_morning,\n",
    "    {\n",
    "        \"morning\": \"say_good_morning\",\n",
    "        \"not_morning\": \"say_hello\",\n",
    "    },\n",
    ")\n",
    "builder.add_edge(\"say_good_morning\", END)\n",
    "builder.add_edge(\"say_hello\", END)\n",
    "\n",
    "# 5. 그래프 컴파일\n",
    "graph = builder.compile()\n",
    "display(Image(graph.get_graph().draw_mermaid_png()))"
   ]
  },
  {
   "cell_type": "code",
   "execution_count": 3,
   "id": "1d3be98d",
   "metadata": {},
   "outputs": [
    {
     "name": "stdout",
     "output_type": "stream",
     "text": [
      "Hi, Bob!\n",
      "Good morning!\n"
     ]
    },
    {
     "data": {
      "text/plain": [
       "{'name': 'Bob', 'is_morning': True}"
      ]
     },
     "execution_count": 3,
     "metadata": {},
     "output_type": "execute_result"
    }
   ],
   "source": [
    "# 그래프 실행\n",
    "graph.invoke({\"name\": \"Bob\", \"is_morning\": True})"
   ]
  },
  {
   "cell_type": "code",
   "execution_count": 5,
   "id": "fd8b7c11",
   "metadata": {},
   "outputs": [
    {
     "name": "stdout",
     "output_type": "stream",
     "text": [
      "{'name': 'Bob', 'is_morning': False}\n",
      "------------------------------\n",
      "Hi, Bob!\n",
      "{'name': 'Bob', 'is_morning': False}\n",
      "------------------------------\n",
      "Hello!\n",
      "{'name': 'Bob', 'is_morning': False}\n",
      "------------------------------\n"
     ]
    }
   ],
   "source": [
    "# 그래프 실행\n",
    "for step in graph.stream({\"name\": \"Bob\", \"is_morning\": False}, stream_mode=\"values\"):\n",
    "    print(step)\n",
    "    print(\"---\"*10)"
   ]
  },
  {
   "cell_type": "code",
   "execution_count": 6,
   "id": "2ed79c2b",
   "metadata": {},
   "outputs": [
    {
     "name": "stdout",
     "output_type": "stream",
     "text": [
      "Hi, Bob!\n",
      "{'greet_user': {'name': 'Bob', 'is_morning': False}}\n",
      "------------------------------\n",
      "Hello!\n",
      "{'say_hello': {'name': 'Bob', 'is_morning': False}}\n",
      "------------------------------\n"
     ]
    }
   ],
   "source": [
    "# 그래프 실행\n",
    "for step in graph.stream({\"name\": \"Bob\", \"is_morning\": False}, stream_mode=\"updates\"):\n",
    "    print(step)\n",
    "    print(\"---\"*10)"
   ]
  },
  {
   "cell_type": "code",
   "execution_count": null,
   "id": "7054c0eb",
   "metadata": {},
   "outputs": [],
   "source": []
  }
 ],
 "metadata": {
  "kernelspec": {
   "display_name": ".venv",
   "language": "python",
   "name": "python3"
  },
  "language_info": {
   "codemirror_mode": {
    "name": "ipython",
    "version": 3
   },
   "file_extension": ".py",
   "mimetype": "text/x-python",
   "name": "python",
   "nbconvert_exporter": "python",
   "pygments_lexer": "ipython3",
   "version": "3.12.10"
  }
 },
 "nbformat": 4,
 "nbformat_minor": 5
}
