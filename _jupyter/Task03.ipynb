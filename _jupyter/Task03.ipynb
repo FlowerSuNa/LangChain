{
 "cells": [
  {
   "cell_type": "markdown",
   "metadata": {},
   "source": [
    "#  주택청약 FAQ 시스템 챗봇 구현 \n",
    "\n",
    "- 문서 전처리 + RAG + Gradio ChatInterface"
   ]
  },
  {
   "cell_type": "markdown",
   "metadata": {},
   "source": [
    "## 1. 환경 설정"
   ]
  },
  {
   "cell_type": "code",
   "execution_count": 1,
   "metadata": {},
   "outputs": [
    {
     "data": {
      "text/plain": [
       "True"
      ]
     },
     "execution_count": 1,
     "metadata": {},
     "output_type": "execute_result"
    }
   ],
   "source": [
    "# 환경 변수\n",
    "from dotenv import load_dotenv\n",
    "load_dotenv()"
   ]
  },
  {
   "cell_type": "code",
   "execution_count": 2,
   "metadata": {},
   "outputs": [],
   "source": [
    "# 기본 라이브러리\n",
    "import os\n",
    "from glob import glob\n",
    "\n",
    "from pprint import pprint\n",
    "import json"
   ]
  },
  {
   "cell_type": "code",
   "execution_count": 3,
   "metadata": {},
   "outputs": [],
   "source": [
    "# LLM 설정\n",
    "from langchain_openai import ChatOpenAI\n",
    "\n",
    "llm = ChatOpenAI(\n",
    "    model='gpt-4.1-mini',\n",
    "    temperature=0.1,\n",
    "    top_p=0.8, \n",
    ")"
   ]
  },
  {
   "cell_type": "markdown",
   "metadata": {},
   "source": [
    "## 2. 문서 전처리\n",
    "\n",
    "* 데이터 정제 : 원본 문서에서 HTML 태그, 특수문자, 중복 문장 등을 제거하고 텍스트를 표준화하여 검색 품질을 높임\n",
    "* 문서 청킹(Chunking) : 문서를 문맥이 유지되도록 문장 또는 단락 단위로 분할하여 검색 정확도와 응답 품질을 향상시킴\n",
    "* 임베딩(Embedding) : 텍스트를 의미 기반 고차원 벡터로 변환하여 유사도 기반 검색이 가능하도록 함\n",
    "* 벡터 데이터베이스 색인화 : 임베딩된 벡터를 벡터 데이터베이스에 색인화하여 대규모 문서에서도 빠른 검색을 가능하게 함"
   ]
  },
  {
   "cell_type": "markdown",
   "metadata": {},
   "source": [
    "### 1) 문서 로드\n",
    "\n",
    "- 국토교통부 주택청약 FAQ에서 일부 내용(청약자격, 청약통장)을 발췌하여 재가공한 문서로, 50개의 문답이 포함된 텍스트 파일임"
   ]
  },
  {
   "cell_type": "code",
   "execution_count": 4,
   "metadata": {},
   "outputs": [],
   "source": [
    "# 여기에 코드를 작성하세요.\n",
    "from langchain_community.document_loaders import TextLoader\n",
    "\n",
    "loader = TextLoader(\n",
    "    file_path=\"data/housing_faq.txt\",\n",
    "    encoding=\"utf-8\"\n",
    ")\n",
    "docs = loader.load()"
   ]
  },
  {
   "cell_type": "code",
   "execution_count": 5,
   "metadata": {},
   "outputs": [
    {
     "name": "stdout",
     "output_type": "stream",
     "text": [
      "Q1 경기도 과천시에서 공급되는 주택의 해당 주택건설지역의 범위는?\n",
      "A 해당 주택건설지역이란 특별시ㆍ광역시ㆍ특별자치시ㆍ특별자치도(관할 구역 안에 지방자치단체인 시ㆍ군이 없는 특별자치도를 말한다) 또는 시ㆍ군의 행정구역을 말합니다. 따라서, 경기도 과천시에서 공급하는 주택의 경우 과천시가 해당 주택건설지역에 해당됩니다. \n",
      "참고로, 서울특별시에서 공급되는 주택의 경우 서울특별시 전역, 인천광역시의 경우 인천광역시 전역이 해당 주택건설지역에 해당됩니다.\n",
      "\n",
      "Q2 해당 주택건설지역에 거주하고 있지 않다면 청약신청이 불가능한지?\n",
      "A 해당 주택건설지역에 거주하고 있지 않더라도 청약가능지역에서 공급되는 주택에 청약신청이 가능하나, 같은 순위에서는 해당 주택건설지역의 거주자가 우선하여 주택을 공급받게 됩니다.\n",
      "* 서울·인천·경기도 / 대전·세종·충남 / 충북 / 광주·전남 / 전북 / 대구·경북 / 부산·울산·경남 / 강원\n",
      "다만, 수도권 대규모 택지개발지구 등에서 주택이 공급되는 경우 일정 비율의 \n"
     ]
    }
   ],
   "source": [
    "# 문서 확인\n",
    "print(docs[0].page_content[:500])"
   ]
  },
  {
   "cell_type": "code",
   "execution_count": 6,
   "metadata": {},
   "outputs": [
    {
     "data": {
      "text/plain": [
       "{'source': 'data/housing_faq.txt'}"
      ]
     },
     "execution_count": 6,
     "metadata": {},
     "output_type": "execute_result"
    }
   ],
   "source": [
    "# 문서 메타데이터 확인\n",
    "docs[0].metadata"
   ]
  },
  {
   "cell_type": "markdown",
   "metadata": {},
   "source": [
    "### 2) 문서 전처리"
   ]
  },
  {
   "cell_type": "markdown",
   "metadata": {},
   "source": [
    "(1) 정규표현식을 활용하여 문서에서 질문-답변 쌍을 구조적으로 분리함"
   ]
  },
  {
   "cell_type": "code",
   "execution_count": 7,
   "metadata": {},
   "outputs": [],
   "source": [
    "import re\n",
    "\n",
    "def extract_qa_pairs(text):\n",
    "    qa_pairs = []\n",
    "    \n",
    "    # 텍스트를 라인별로 분리하고 각 라인의 앞뒤 공백 제거\n",
    "    lines = [line.strip() for line in text.split('\\n')]\n",
    "    current_question = None\n",
    "    current_answer = []\n",
    "    current_number = None\n",
    "    in_answer = False\n",
    "    \n",
    "    for i, line in enumerate(lines):\n",
    "        if not line:  # 빈 라인 처리\n",
    "            if in_answer and current_answer and i + 1 < len(lines) and lines[i + 1].startswith('Q'):\n",
    "                # 다음 질문이 시작되기 전 빈 줄이면 현재 QA 쌍 저장\n",
    "                qa_pairs.append({\n",
    "                    'number': current_number,\n",
    "                    'question': current_question,\n",
    "                    'answer': ' '.join(current_answer).strip()\n",
    "                })\n",
    "                in_answer = False\n",
    "                current_answer = []\n",
    "            continue\n",
    "            \n",
    "        # 새로운 질문 확인 (Q 다음에 숫자가 오는 패턴)\n",
    "        q_match = re.match(r'Q(\\d+)\\s+(.*)', line)\n",
    "        if q_match:\n",
    "            # 이전 QA 쌍이 있으면 저장\n",
    "            if current_question is not None and current_answer:\n",
    "                qa_pairs.append({\n",
    "                    'number': current_number,\n",
    "                    'question': current_question,\n",
    "                    'answer': ' '.join(current_answer).strip()\n",
    "                })\n",
    "            \n",
    "            # 새로운 질문 시작\n",
    "            current_number = int(q_match.group(1))\n",
    "            current_question = q_match.group(2).strip().rstrip('?') + '?'  # 질문 마크 정규화\n",
    "            current_answer = []\n",
    "            in_answer = False\n",
    "            \n",
    "        # 답변 시작 확인\n",
    "        elif line.startswith('A ') or (current_question and not current_answer and line):\n",
    "            in_answer = True\n",
    "            current_answer.append(line.lstrip('A '))\n",
    "            \n",
    "        # 기존 답변에 내용 추가\n",
    "        elif current_question is not None and (in_answer or not line.startswith('Q')):\n",
    "            if in_answer or (current_answer and not line.startswith('Q')):\n",
    "                current_answer.append(line)\n",
    "    \n",
    "    # 마지막 QA 쌍 처리\n",
    "    if current_question is not None and current_answer:\n",
    "        qa_pairs.append({\n",
    "            'number': current_number,\n",
    "            'question': current_question,\n",
    "            'answer': ' '.join(current_answer).strip()\n",
    "        })\n",
    "    \n",
    "    # 번호 순서대로 정렬\n",
    "    qa_pairs.sort(key=lambda x: x['number'])\n",
    "    \n",
    "    return qa_pairs"
   ]
  },
  {
   "cell_type": "code",
   "execution_count": 8,
   "metadata": {},
   "outputs": [
    {
     "name": "stdout",
     "output_type": "stream",
     "text": [
      "추출된 QA 쌍 개수: 50\n",
      "추출된 첫번째 QA: \n",
      "{'number': 1, 'question': '경기도 과천시에서 공급되는 주택의 해당 주택건설지역의 범위는?', 'answer': '해당 주택건설지역이란 특별시ㆍ광역시ㆍ특별자치시ㆍ특별자치도(관할 구역 안에 지방자치단체인 시ㆍ군이 없는 특별자치도를 말한다) 또는 시ㆍ군의 행정구역을 말합니다. 따라서, 경기도 과천시에서 공급하는 주택의 경우 과천시가 해당 주택건설지역에 해당됩니다. 참고로, 서울특별시에서 공급되는 주택의 경우 서울특별시 전역, 인천광역시의 경우 인천광역시 전역이 해당 주택건설지역에 해당됩니다.'}\n"
     ]
    }
   ],
   "source": [
    "# QA 쌍 추출\n",
    "qa_pairs = extract_qa_pairs(docs[0].page_content) \n",
    "\n",
    "print(f\"추출된 QA 쌍 개수: {len(qa_pairs)}\")\n",
    "print(f\"추출된 첫번째 QA: \\n{qa_pairs[0]}\")"
   ]
  },
  {
   "cell_type": "markdown",
   "metadata": {},
   "source": [
    "(2) LLM을 활용하여 텍스트에서 키워드와 핵심 개념을 추출하고, 이를 메타데이터나 본문에 추가하여 검색 성능을 향상시킴"
   ]
  },
  {
   "cell_type": "code",
   "execution_count": 9,
   "metadata": {},
   "outputs": [
    {
     "name": "stdout",
     "output_type": "stream",
     "text": [
      "키워드: 입주자저축\n",
      "요약: 제2순위 청약신청 시 입주자저축 통장이 필요하며, 분양주택 또는 분양전환공공임대주택 입주자로 선정된 경우 해당 통장은 재사용할 수 없습니다.\n"
     ]
    }
   ],
   "source": [
    "from langchain_core.prompts import ChatPromptTemplate\n",
    "from langchain_openai import ChatOpenAI\n",
    "from pydantic import BaseModel, Field\n",
    "from typing import List\n",
    "\n",
    "# 출력 형식 정의\n",
    "class KeywordOutput(BaseModel):\n",
    "    keyword: str = Field(description=\"질문 텍스트에서 추출한 가장 중요한 키워드\")\n",
    "    summary: str = Field(description=\"질문과 응답 텍스트의 핵심 내용 요약\")\n",
    "\n",
    "# 프롬프트 템플릿 정의\n",
    "template = \"\"\"주어진 질문 텍스트에서 핵심 단어를 추출하고, 응답 텍스트의 핵심 내용을 요약합니다.\n",
    "질문 및 응답 텍스트의 맥락을 고려하여 핵심 용어나 전문 용어, 주요 아이디어나 원리 등을 추출합니다.\n",
    "\n",
    "질문 텍스트:\n",
    "{question}\n",
    "\n",
    "응답 텍스트:\n",
    "{answer}\n",
    "\n",
    "JSON 형식으로 다음 정보를 반환하시오:\n",
    "- keyword: 단어 1개 만\n",
    "- summary: 1-2 문장 만\n",
    "\"\"\"\n",
    "\n",
    "# LCEL 체인 구성 (Sturctured Output 사용)\n",
    "prompt = ChatPromptTemplate.from_template(template)\n",
    "llm_with_structure = llm.with_structured_output(KeywordOutput)\n",
    "keyowrd_extractor = prompt | llm_with_structure\n",
    "\n",
    "# 텍스트 추출 테스트     \n",
    "result = keyowrd_extractor.invoke({\n",
    "    \"question\": qa_pairs[36]['question'],\n",
    "    \"answer\": qa_pairs[36]['answer']\n",
    "})\n",
    "print(\"키워드:\", result.keyword)\n",
    "print(\"요약:\", result.summary)"
   ]
  },
  {
   "cell_type": "markdown",
   "metadata": {},
   "source": [
    "(3) 요약문을 시맨틱 검색에 활용하기 위해, 요약을 `page_content`에 담고 기타 정보를 `metadata`로 구성한 문서 객체를 생성함."
   ]
  },
  {
   "cell_type": "code",
   "execution_count": 10,
   "metadata": {},
   "outputs": [
    {
     "name": "stdout",
     "output_type": "stream",
     "text": [
      "포맷팅된 문서 개수: 50\n",
      "대규모택지개발지구에서 주택 공급 시 특별공급 물량도 공급 비율에 따라 배정되며, 거주지별 우선공급 비율이 적용된다. 다자녀 특별공급은 별도의 운용지침에 따라 시·도 단위로 우선공급이 이루어진다.\n",
      "--------------------------------------------------------------------------------------------------------------------------------------------------------------------------------------------------------\n",
      "{'answer': '공급규칙 제34조가 적용되는 지역에 주택을 공급하는 경우 특별공급 물량 또한 그 공급 비율에 따라 배정하여야 합니다. '\n",
      "           '(예) 서울특별시·인천광역시 대규모 택지개발지구에서 공급되는 주택: 특별시·광역시 거주자(거주기간 충족 필요)에게 '\n",
      "           '공급물량의 50% 우선공급 → 이후 잔여물량을 전체 수도권 거주자를 대상으로 공급 (예) 경기도 과천시 대규모 '\n",
      "           '택지개발지구에서 공급되는 주택: 과천시 거주자(거주기간 충족 필요)에게 공급물량의 30% 우선공급 → 이후 과천시 공급 '\n",
      "           '잔여물량 + 20% 경기도 거주자(거주기간 충족 필요)에게 공급 → 이후 잔여물량을 전체 수도권 거주자를 대상으로 공급 '\n",
      "           '다만, 다자녀 특별공급의 경우 「다자녀가구 및 노부모부양 주택 특별공급 운용지침」 제5조 단서에 따라 수도권에서 '\n",
      "           '입주자를 모집하는 때에는 해당 주택건설지역 시·군·구가 속한 시·도에 50퍼센트를 우선공급하고 나머지 주택(우선공급에서 '\n",
      "           '미분양된 주택을 포함한다)은 수도권 거주자(우선공급에서 입주자로 선정되지 아니한 자를 포함한다)에게 공급할수 있습니다. '\n",
      "           '(예) 경기도 과천시: 경기도 거주자에게 공급물량의 50%를 우선공급하나, 경기도 내에서 경쟁이 발생한 경우 과천시 '\n",
      "           '거주자(거주기간 충족 필요)에게 우선 공급하고 남은 물량이 발생하는 경우 경기도 거주자에게 공급 → 이후 잔여물량을 '\n",
      "           '수도권 전체 거주자를 대상으로 공급',\n",
      " 'keyword': '특별공급',\n",
      " 'question': '「주택공급에 관한 규칙」 제34조에 따른 대규모택지개발지구에서 주택이 공급되는 경우 일반공급 뿐만 아니라 특별공급 '\n",
      "             '물량도 공급비율에 따라 배정되는지?',\n",
      " 'question_id': 6}\n"
     ]
    }
   ],
   "source": [
    "from langchain_core.documents import Document\n",
    "\n",
    "def format_qa_pairs(qa_pairs):\n",
    "    \"\"\"\n",
    "    추출된 QA 쌍을 포맷팅하여 문서 객체로 변환\n",
    "    \"\"\"\n",
    "    processed_docs = []\n",
    "    for pair in qa_pairs:\n",
    "        # 키워드와 요약 추출\n",
    "        result = keyowrd_extractor.invoke({\n",
    "            \"question\": pair['question'],\n",
    "            \"answer\": pair['answer']\n",
    "        })\n",
    "\n",
    "        # 문서 객체 생성\n",
    "        doc = Document(\n",
    "            page_content=result.summary,\n",
    "            metadata={\n",
    "                'question_id': int(pair['number']),\n",
    "                'question': pair['question'],\n",
    "                'answer': pair['answer'],\n",
    "                'keyword': result.keyword,\n",
    "            }\n",
    "        )\n",
    "        processed_docs.append(doc)\n",
    "\n",
    "    return processed_docs\n",
    "\n",
    "\n",
    "# QA 쌍 포맷팅\n",
    "formatted_docs = format_qa_pairs(qa_pairs)\n",
    "print(f\"포맷팅된 문서 개수: {len(formatted_docs)}\")\n",
    "\n",
    "# 문서 확인\n",
    "print(formatted_docs[5].page_content)\n",
    "print(\"-\" * 200)\n",
    "# 문서 메타데이터 확인\n",
    "pprint(formatted_docs[5].metadata)"
   ]
  },
  {
   "cell_type": "code",
   "execution_count": 11,
   "metadata": {},
   "outputs": [
    {
     "name": "stdout",
     "output_type": "stream",
     "text": [
      "포맷팅된 문서를 data/housing_faq_formatted.json에 저장했습니다.\n"
     ]
    }
   ],
   "source": [
    "# 문서 저장\n",
    "output_file = \"data/housing_faq_formatted.json\"\n",
    "with open(output_file, 'w', encoding='utf-8-sig') as f:\n",
    "    json.dump(\n",
    "        [doc.model_dump() for doc in formatted_docs], \n",
    "        f, \n",
    "        indent=2, \n",
    "        ensure_ascii=False\n",
    "    )  # 한글이 유니코드로 변환되지 않도록 설정\n",
    "\n",
    "print(f\"포맷팅된 문서를 {output_file}에 저장했습니다.\")"
   ]
  },
  {
   "cell_type": "code",
   "execution_count": 6,
   "metadata": {},
   "outputs": [
    {
     "name": "stdout",
     "output_type": "stream",
     "text": [
      "[1]\n",
      "질문: 경기도 과천시에서 공급되는 주택의 해당 주택건설지역의 범위는?\n",
      "답변: 해당 주택건설지역이란 특별시ㆍ광역시ㆍ특별자치시ㆍ특별자치도(관할 구역 안에 지방자치단체인 시ㆍ군이 없는 특별자치도를 말한다) 또는 시ㆍ군의 행정구역을 말합니다. 따라서, 경기도 과천시에서 공급하는 주택의 경우 과천시가 해당 주택건설지역에 해당됩니다. 참고로, 서울특별시에서 공급되는 주택의 경우 서울특별시 전역, 인천광역시의 경우 인천광역시 전역이 해당 주택건설지역에 해당됩니다.\n",
      "\n",
      "{'answer': '해당 주택건설지역이란 특별시ㆍ광역시ㆍ특별자치시ㆍ특별자치도(관할 구역 안에 지방자치단체인 시ㆍ군이 없는 특별자치도를 '\n",
      "           '말한다) 또는 시ㆍ군의 행정구역을 말합니다. 따라서, 경기도 과천시에서 공급하는 주택의 경우 과천시가 해당 '\n",
      "           '주택건설지역에 해당됩니다. 참고로, 서울특별시에서 공급되는 주택의 경우 서울특별시 전역, 인천광역시의 경우 인천광역시 '\n",
      "           '전역이 해당 주택건설지역에 해당됩니다.',\n",
      " 'keyword': '주택건설지역',\n",
      " 'question': '경기도 과천시에서 공급되는 주택의 해당 주택건설지역의 범위는?',\n",
      " 'question_id': 1,\n",
      " 'summary': '해당 주택건설지역은 특별시, 광역시, 특별자치시, 특별자치도 또는 시·군의 행정구역을 의미하며, 경기도 과천시에서 '\n",
      "            '공급되는 주택의 경우 과천시가 해당 지역에 해당한다.'}\n"
     ]
    }
   ],
   "source": [
    "# 문서 로드\n",
    "from langchain_core.documents import Document\n",
    "\n",
    "output_file = \"data/housing_faq_formatted.json\"\n",
    "with open(output_file, 'r', encoding='utf-8-sig') as f:\n",
    "    formatted_docs = [Document(**doc) for doc in json.load(f)]\n",
    "    \n",
    "# 문서 확인\n",
    "print(formatted_docs[0].page_content)\n",
    "pprint(formatted_docs[0].metadata)"
   ]
  },
  {
   "cell_type": "markdown",
   "metadata": {},
   "source": [
    "### 3\\) 문서 벡터 저장 및 색인화"
   ]
  },
  {
   "cell_type": "code",
   "execution_count": null,
   "metadata": {},
   "outputs": [
    {
     "name": "stdout",
     "output_type": "stream",
     "text": [
      "컬렉션 삭제 완료\n"
     ]
    }
   ],
   "source": [
    "# 컬렉션이 존재하는 경우 Drop\n",
    "from pymilvus import connections, utility\n",
    "\n",
    "connections.connect(alias=\"default\", uri=\"./milvus.db\")\n",
    "\n",
    "if utility.has_collection(\"housing_faq_db\"):\n",
    "    utility.drop_collection(\"housing_faq_db\")\n",
    "    print(\"컬렉션 삭제 완료\")\n",
    "else:\n",
    "    print(\"컬렉션이 존재하지 않습니다.\")"
   ]
  },
  {
   "cell_type": "code",
   "execution_count": 6,
   "metadata": {},
   "outputs": [
    {
     "name": "stderr",
     "output_type": "stream",
     "text": [
      "/Users/sunhwaryu/Documents/LangChain/_jupyter/.venv/lib/python3.12/site-packages/milvus_lite/__init__.py:15: UserWarning: pkg_resources is deprecated as an API. See https://setuptools.pypa.io/en/latest/pkg_resources.html. The pkg_resources package is slated for removal as early as 2025-11-30. Refrain from using this package or pin to Setuptools<81.\n",
      "  from pkg_resources import DistributionNotFound, get_distribution\n",
      "2025-06-02 00:32:24,964 [DEBUG][_create_connection]: Created new connection using: 8d3d908945ea4f96a296c262fc21d97f (async_milvus_client.py:599)\n"
     ]
    }
   ],
   "source": [
    "from langchain_milvus import Milvus\n",
    "from langchain_openai import OpenAIEmbeddings\n",
    "\n",
    "embeddings = OpenAIEmbeddings(model=\"text-embedding-3-small\")\n",
    "vector_store = Milvus(\n",
    "    embedding_function=embeddings,\n",
    "    collection_name='housing_faq_db',\n",
    "    connection_args={\"uri\": \"./milvus.db\"},\n",
    "    # 인덱싱 구조 정의\n",
    "    index_params={\n",
    "        \"index_type\": \"IVF_FLAT\", # 벡터를 여러 클러스터로 나눈 뒤, 각 클러스터에서 FLAT 검색\n",
    "        \"metric_type\": \"COSINE\",\n",
    "        \"params\": {\"nlist\": 128}\n",
    "    },\n",
    ")"
   ]
  },
  {
   "cell_type": "code",
   "execution_count": null,
   "metadata": {},
   "outputs": [
    {
     "name": "stderr",
     "output_type": "stream",
     "text": [
      "/Users/sunhwaryu/Documents/LangChain/_jupyter/.venv/lib/python3.12/site-packages/langchain_milvus/vectorstores/milvus.py:1141: UserWarning: No ids provided and auto_id is False. Setting auto_id to True automatically.\n",
      "  warnings.warn(\n"
     ]
    },
    {
     "data": {
      "text/plain": [
       "50"
      ]
     },
     "execution_count": 22,
     "metadata": {},
     "output_type": "execute_result"
    }
   ],
   "source": [
    "# 문서 Insert\n",
    "ids = vector_store.add_documents(documents=formatted_docs)\n",
    "len(ids)"
   ]
  },
  {
   "cell_type": "markdown",
   "metadata": {},
   "source": [
    "## 2. 문서 검색"
   ]
  },
  {
   "cell_type": "code",
   "execution_count": 26,
   "metadata": {},
   "outputs": [
    {
     "name": "stdout",
     "output_type": "stream",
     "text": [
      "주택건설지역은 특별시, 광역시, 특별자치시, 특별자치도 또는 시·군의 행정구역을 의미하며, 경기도 과천시에서 공급되는 주택의 경우 과천시가 해당 주택건설지역에 해당한다.\n",
      "--------------------------------------------------\n",
      "주택건설지역\n",
      "1\n",
      "==================================================\n"
     ]
    }
   ],
   "source": [
    "# 메타데이터 기반 필터링\n",
    "retriever = vector_store.as_retriever(\n",
    "    search_kwargs={\"expr\": 'keyword == \"주택건설지역\"'},\n",
    ")\n",
    "\n",
    "query = \"수원시의 주택건설지역은 어디에 해당하나요?\"\n",
    "\n",
    "results = retriever.invoke(query)\n",
    "for result in results:\n",
    "    print(result.page_content)\n",
    "    print(\"-\" * 50)\n",
    "    print(result.metadata['keyword'])\n",
    "    print(result.metadata['question_id'])\n",
    "    print(\"=\" * 50)"
   ]
  },
  {
   "cell_type": "code",
   "execution_count": 82,
   "metadata": {},
   "outputs": [
    {
     "name": "stdout",
     "output_type": "stream",
     "text": [
      "주택건설지역은 특별시, 광역시, 특별자치시, 특별자치도 또는 시·군의 행정구역을 의미하며, 경기도 과천시에서 공급되는 주택의 경우 과천시가 해당 주택건설지역에 해당한다.\n",
      "--------------------------------------------------\n",
      "주택건설지역\n",
      "1\n",
      "경기도 과천시에서 공급되는 주택의 해당 주택건설지역의 범위는?\n",
      "해당 주택건설지역이란 특별시ㆍ광역시ㆍ특별자치시ㆍ특별자치도(관할 구역 안에 지방자치단체인 시ㆍ군이 없는 특별자치도를 말한다) 또는 시ㆍ군의 행정구역을 말합니다. 따라서, 경기도 과천시에서 공급하는 주택의 경우 과천시가 해당 주택건설지역에 해당됩니다. 참고로, 서울특별시에서 공급되는 주택의 경우 서울특별시 전역, 인천광역시의 경우 인천광역시 전역이 해당 주택건설지역에 해당됩니다.\n",
      "==================================================\n",
      "무주택세대구성원이란 청약신청자와 세대원 모두가 주택을 소유하지 않은 세대의 구성원을 의미한다.\n",
      "--------------------------------------------------\n",
      "무주택세대구성원\n",
      "47\n",
      "무주택세대구성원이란?\n",
      "무주택세대구성원이란 청약신청자 및 세대원 전원이 주택을 소유하고 있지 않은 세대의 구성원(세대주 포함)을 말합니다.\n",
      "==================================================\n",
      "서울시에서 전용면적 102㎡ 이하 주택에 청약하려면 예치금액이 600만원이어야 하므로, 기존 400만원에서 200만원을 추가 예치해야 한다.\n",
      "--------------------------------------------------\n",
      "청약예금\n",
      "39\n",
      "인천광역시 거주자로 청약예금 400만원(전용면적 102㎡ 이하)에 가입한 자가 입주자 모집공고일 전 서울시로 이주한 경우 102㎡ 이하의 주택에 청약하려면?\n",
      "서울의 경우 전용면적 102㎡ 이하 주택에 청약할 수 있는 예치금액은 600만원이기 때문에 청약접수 당일까지 부족금액인 200만원을 추가로 예치하여야만 102㎡ 이하의 주택에 청약이 가능\n",
      "==================================================\n"
     ]
    }
   ],
   "source": [
    "# MMR 검색기 정의 및 테스트\n",
    "mmr_retriever = vector_store.as_retriever(\n",
    "    search_type=\"mmr\",\n",
    "    search_kwargs={\"k\": 3, \"fetch_k\": 10, \"lambda_mult\": 0.5},\n",
    ")\n",
    "\n",
    "query = \"수원시의 주택건설지역은 어디에 해당하나요?\"\n",
    "\n",
    "results = mmr_retriever.invoke(query)\n",
    "for result in results:\n",
    "    print(result.page_content)\n",
    "    print(\"-\" * 50)\n",
    "    print(result.metadata['keyword'])\n",
    "    print(result.metadata['question_id'])\n",
    "    print(result.metadata['question'])\n",
    "    print(result.metadata['answer'])\n",
    "    print(\"=\" * 50)"
   ]
  },
  {
   "cell_type": "code",
   "execution_count": null,
   "metadata": {},
   "outputs": [
    {
     "name": "stdout",
     "output_type": "stream",
     "text": [
      "주택건설지역은 특별시, 광역시, 특별자치시, 특별자치도 또는 시·군의 행정구역을 의미하며, 경기도 과천시에서 공급되는 주택의 경우 과천시가 해당 주택건설지역에 해당한다.\n",
      "[0.4981459081172943]\n",
      "--------------------------------------------------\n",
      "주택건설지역\n",
      "1\n",
      "경기도 과천시에서 공급되는 주택의 해당 주택건설지역의 범위는?\n",
      "해당 주택건설지역이란 특별시ㆍ광역시ㆍ특별자치시ㆍ특별자치도(관할 구역 안에 지방자치단체인 시ㆍ군이 없는 특별자치도를 말한다) 또는 시ㆍ군의 행정구역을 말합니다. 따라서, 경기도 과천시에서 공급하는 주택의 경우 과천시가 해당 주택건설지역에 해당됩니다. 참고로, 서울특별시에서 공급되는 주택의 경우 서울특별시 전역, 인천광역시의 경우 인천광역시 전역이 해당 주택건설지역에 해당됩니다.\n",
      "==================================================\n",
      "해당 주택건설지역에 거주하지 않아도 청약가능지역 내 주택에 청약신청이 가능하나, 같은 순위에서는 해당 지역 거주자가 우선 공급받으며, 일부 대규모 택지개발지구에서는 거주자와 동등한 자격으로 공급받을 수 있다.\n",
      "[0.39675116539001465]\n",
      "--------------------------------------------------\n",
      "청약신청\n",
      "2\n",
      "해당 주택건설지역에 거주하고 있지 않다면 청약신청이 불가능한지?\n",
      "해당 주택건설지역에 거주하고 있지 않더라도 청약가능지역에서 공급되는 주택에 청약신청이 가능하나, 같은 순위에서는 해당 주택건설지역의 거주자가 우선하여 주택을 공급받게 됩니다. * 서울·인천·경기도 / 대전·세종·충남 / 충북 / 광주·전남 / 전북 / 대구·경북 / 부산·울산·경남 / 강원 다만, 수도권 대규모 택지개발지구 등에서 주택이 공급되는 경우 일정 비율의 주택에 대해서는 해당 주택건설지역 거주자와 동등한 자격으로 주택을 공급받을 기회를 가지게 됩니다.\n",
      "==================================================\n",
      "무주택세대구성원이란 청약신청자와 세대원 모두가 주택을 소유하지 않은 세대의 구성원을 의미한다.\n",
      "[0.3937966823577881]\n",
      "--------------------------------------------------\n",
      "무주택세대구성원\n",
      "47\n",
      "무주택세대구성원이란?\n",
      "무주택세대구성원이란 청약신청자 및 세대원 전원이 주택을 소유하고 있지 않은 세대의 구성원(세대주 포함)을 말합니다.\n",
      "==================================================\n"
     ]
    }
   ],
   "source": [
    "# Rerank 검색 테스트\n",
    "query = \"수원시의 주택건설지역은 어디에 해당하나요?\"\n",
    "\n",
    "results = vector_store.similarity_search_with_score(\n",
    "    query, \n",
    "    k=3, \n",
    "    ranker_type=\"weighted\", \n",
    "    ranker_params={\"weights\": [0.7, 0.3]},\n",
    ")\n",
    "for result, score in results:\n",
    "    print(result.page_content)\n",
    "    print([score])\n",
    "    print(\"-\" * 50)\n",
    "    print(result.metadata['keyword'])\n",
    "    print(result.metadata['question_id'])\n",
    "    print(result.metadata['question'])\n",
    "    print(result.metadata['answer'])\n",
    "    print(\"=\" * 50)"
   ]
  },
  {
   "cell_type": "markdown",
   "metadata": {},
   "source": [
    "## 3. RAG Chain"
   ]
  },
  {
   "cell_type": "markdown",
   "metadata": {},
   "source": [
    "### 1\\) Retriever 생성"
   ]
  },
  {
   "cell_type": "code",
   "execution_count": 4,
   "metadata": {},
   "outputs": [],
   "source": [
    "def get_relevant_documents(query):\n",
    "    \"\"\"Context 반환\"\"\"\n",
    "    results = vector_store.similarity_search(\n",
    "        query, \n",
    "        k=3, \n",
    "        ranker_type=\"weighted\", \n",
    "        ranker_params={\"weights\": [0.6, 0.4]}\n",
    "    )\n",
    "    context = []\n",
    "    for result in results:\n",
    "        s = []\n",
    "        s.append(f'Document {result.metadata['question_id']}:')\n",
    "        s.append(f'- keyword: {result.metadata['keyword']}')\n",
    "        s.append(f'- summary: {result.page_content}')\n",
    "        s.append(f'- question: {result.metadata['question']}')\n",
    "        s.append(f'- answer: {result.metadata['answer']}')\n",
    "        context.append('\\n'.join(s))\n",
    "\n",
    "    return '\\n\\n'.join(context)"
   ]
  },
  {
   "cell_type": "code",
   "execution_count": 7,
   "metadata": {},
   "outputs": [
    {
     "name": "stdout",
     "output_type": "stream",
     "text": [
      "Document 1:\n",
      "- keyword: 주택건설지역\n",
      "- summary: 주택건설지역은 특별시, 광역시, 특별자치시, 특별자치도 또는 시·군의 행정구역을 의미하며, 경기도 과천시에서 공급되는 주택의 경우 과천시가 해당 주택건설지역에 해당한다.\n",
      "- question: 경기도 과천시에서 공급되는 주택의 해당 주택건설지역의 범위는?\n",
      "- answer: 해당 주택건설지역이란 특별시ㆍ광역시ㆍ특별자치시ㆍ특별자치도(관할 구역 안에 지방자치단체인 시ㆍ군이 없는 특별자치도를 말한다) 또는 시ㆍ군의 행정구역을 말합니다. 따라서, 경기도 과천시에서 공급하는 주택의 경우 과천시가 해당 주택건설지역에 해당됩니다. 참고로, 서울특별시에서 공급되는 주택의 경우 서울특별시 전역, 인천광역시의 경우 인천광역시 전역이 해당 주택건설지역에 해당됩니다.\n",
      "\n",
      "Document 2:\n",
      "- keyword: 청약신청\n",
      "- summary: 해당 주택건설지역에 거주하지 않아도 청약가능지역 내 주택에 청약신청이 가능하나, 같은 순위에서는 해당 지역 거주자가 우선 공급받으며, 일부 대규모 택지개발지구에서는 거주자와 동등한 자격으로 공급받을 수 있다.\n",
      "- question: 해당 주택건설지역에 거주하고 있지 않다면 청약신청이 불가능한지?\n",
      "- answer: 해당 주택건설지역에 거주하고 있지 않더라도 청약가능지역에서 공급되는 주택에 청약신청이 가능하나, 같은 순위에서는 해당 주택건설지역의 거주자가 우선하여 주택을 공급받게 됩니다. * 서울·인천·경기도 / 대전·세종·충남 / 충북 / 광주·전남 / 전북 / 대구·경북 / 부산·울산·경남 / 강원 다만, 수도권 대규모 택지개발지구 등에서 주택이 공급되는 경우 일정 비율의 주택에 대해서는 해당 주택건설지역 거주자와 동등한 자격으로 주택을 공급받을 기회를 가지게 됩니다.\n",
      "\n",
      "Document 47:\n",
      "- keyword: 무주택세대구성원\n",
      "- summary: 무주택세대구성원이란 청약신청자와 세대원 모두가 주택을 소유하지 않은 세대의 구성원을 의미한다.\n",
      "- question: 무주택세대구성원이란?\n",
      "- answer: 무주택세대구성원이란 청약신청자 및 세대원 전원이 주택을 소유하고 있지 않은 세대의 구성원(세대주 포함)을 말합니다.\n"
     ]
    }
   ],
   "source": [
    "query = \"수원시의 주택건설지역은 어디에 해당하나요?\"\n",
    "context = get_relevant_documents(query)\n",
    "print(context)"
   ]
  },
  {
   "cell_type": "markdown",
   "metadata": {},
   "source": [
    "### 2) 참조 문서 기반 답변 생성"
   ]
  },
  {
   "cell_type": "code",
   "execution_count": 8,
   "metadata": {},
   "outputs": [],
   "source": [
    "from langchain_core.output_parsers import StrOutputParser\n",
    "from typing import Dict\n",
    "\n",
    "def generate_answer(input_data: Dict) -> Dict:\n",
    "    \"\"\"컨텍스트와 질문을 입력으로 받아 답변을 생성\n",
    "\n",
    "    Args:\n",
    "        input_data (Dict): 컨텍스트와 질문이 포함된 딕셔너리\n",
    "\n",
    "    Returns:\n",
    "        Dict: 생성된 답변과 소스 문서 정보가 포함된 딕셔너리\n",
    "    \"\"\"\n",
    "\n",
    "    template = \"[Source] 내용을 기반으로 [Question]에 대한 답변을 한국어로 하세요.\\n\\n[Source]\\n{context}\\n\\n[Question]{question}\"\n",
    "    answer_chain = ChatPromptTemplate.from_template(template) | llm | StrOutputParser()\n",
    "\n",
    "    return {\n",
    "        \"question\": input_data[\"question\"], # 질문\n",
    "        \"answer\": answer_chain.invoke(input_data),  # 생성된 답변 \n",
    "        \"source\": input_data['context']  # 소스 문서 정보 \n",
    "    }"
   ]
  },
  {
   "cell_type": "code",
   "execution_count": 9,
   "metadata": {},
   "outputs": [],
   "source": [
    "from langchain_core.runnables import RunnableLambda, RunnableMap, RunnablePassthrough\n",
    "\n",
    "# Chain 구성\n",
    "rag_chain = (\n",
    "    RunnableMap(\n",
    "        question=RunnablePassthrough(),\n",
    "        context=RunnableLambda(get_relevant_documents) # Source 가져오기\n",
    "    ) | \n",
    "    RunnableLambda(generate_answer) # 답변 생성\n",
    ")"
   ]
  },
  {
   "cell_type": "code",
   "execution_count": 41,
   "metadata": {},
   "outputs": [
    {
     "name": "stdout",
     "output_type": "stream",
     "text": [
      "답변: 무주택 세대란 청약신청자와 그 세대원 모두가 주택을 소유하지 않은 세대를 의미합니다. 즉, 세대주를 포함한 세대 구성원 전원이 주택을 보유하고 있지 않은 경우를 말합니다. 또한, 세대분리된 직계비속의 배우자(예: 사위)는 친정부모의 세대원 범위에 포함되지 않으므로, 이 경우 친정부모가 무주택자라면 무주택세대구성원 자격이 인정됩니다.\n",
      "\n",
      "참조 문서:\n",
      " Document 47:\n",
      "- keyword: 무주택세대구성원\n",
      "- summary: 무주택세대구성원이란 청약신청자와 세대원 모두가 주택을 소유하지 않은 세대의 구성원을 의미한다.\n",
      "- question: 무주택세대구성원이란?\n",
      "- answer: 무주택세대구성원이란 청약신청자 및 세대원 전원이 주택을 소유하고 있지 않은 세대의 구성원(세대주 포함)을 말합니다.\n",
      "\n",
      "Document 50:\n",
      "- keyword: 무주택세대구성원\n",
      "- summary: 친정부모의 세대원 범위에는 세대분리된 직계비속의 배우자가 포함되지 않으므로, 무주택자인 친정부모는 무주택세대구성원 자격이 인정됩니다.\n",
      "- question: 무주택자인 아내가 유주택자인 남편과 주민등록표상 분리되어 친정부모의 세대별 주민등록표에 등재되어 있는 경우, 무주택자인 친정부모는 무주택세대구성원 자격이 인정되는지?\n",
      "- answer: 친정부모의 세대원 범위에 세대분리된 직계비속의 배우자(사위)는 포함되지 않으므로 사위가 주택을 소유하고 있다 하더라도 무주택세대구성원으로 인정됩니다.\n",
      "\n",
      "Document 31:\n",
      "- keyword: 소득공제\n",
      "- summary: 청년주택드림청약통장은 기존 주택청약종합저축과 동일하게 연소득 7천만원 이하 무주택세대주가 연간 납입액 300만원 한도로 40%까지 소득공제를 받을 수 있습니다.\n",
      "- question: 청년주택드림청약통장의 소득공제 혜택은 기존 주택청약종합저축과 동일한가요?\n",
      "- answer: 현재 주택청약종합저축에서 제공하는 소득공제 조건(조세특례제한법 제87조)을 그대로 적용받게 되며, 연소득 7천만원 이하 무주택세대주로 무주택확인서를 제출하는 경우 연간 납입액 300만원 한도로 40%까지 소득공제가 가능합니다.\n"
     ]
    }
   ],
   "source": [
    "# Chain 실행\n",
    "query = \"무주택 세대에 대해 설명하세요.\"\n",
    "result = rag_chain.invoke(query)\n",
    "\n",
    "# 결과 출력\n",
    "print(\"답변:\", result[\"answer\"])\n",
    "print(\"\\n참조 문서:\\n\", result[\"source\"])"
   ]
  },
  {
   "cell_type": "markdown",
   "metadata": {},
   "source": [
    "### 3) 검색 문서 관련성 평가"
   ]
  },
  {
   "cell_type": "code",
   "execution_count": 42,
   "metadata": {},
   "outputs": [
    {
     "name": "stdout",
     "output_type": "stream",
     "text": [
      "평가 결과: step 1: identify the question and what information is needed.\n",
      "- question: \"무주택 세대에 대해 설명하세요.\" (explain about 무주택 세대)\n",
      "- needed information: definition or explanation of \"무주택 세대\" (households without housing ownership).\n",
      "\n",
      "step 2: review the provided sources for relevant information.\n",
      "- document 47 defines \"무주택세대구성원\" as members of a household where neither the applicant nor any household member owns a house.\n",
      "- document 50 discusses the scope of household members in relation to 무주택세대구성원, specifically about separated family members and their recognition.\n",
      "- document 31 relates to income deduction benefits for 무주택세대주 (head of household without housing ownership), but does not define the term.\n",
      "\n",
      "step 3: evaluate if the sources contain the necessary information.\n",
      "- document 47 directly defines \"무주택세대구성원,\" which is closely related to \"무주택 세대\" (a household without housing ownership).\n",
      "- document 50 provides additional details about household member scope but is more specific.\n",
      "- document 31 is about tax benefits and does not define the term.\n",
      "\n",
      "step 4: determine if the information can answer the question.\n",
      "- document 47 provides a direct definition of a household without housing ownership, which is the core of \"무주택 세대.\"\n",
      "- therefore, the source contains the necessary information to explain \"무주택 세대.\"\n",
      "\n",
      "step 5: verification\n",
      "- the question asks for an explanation of \"무주택 세대.\"\n",
      "- document 47's definition of \"무주택세대구성원\" effectively explains the concept of a household where no member owns a house.\n",
      "- hence, the source is sufficient.\n",
      "\n",
      "final evaluation: yes\n"
     ]
    }
   ],
   "source": [
    "prompt = ChatPromptTemplate.from_messages([\n",
    "    (\"system\", \"\"\"주어진 [소스]가 [질문]에 답변하는데 필요한 정보를 포함하고 있는지 논리적으로 평가하세요.\n",
    "단계적으로 진행하며, 평가결과에 대한 검증을 수행하세요.\n",
    "\n",
    "다음 기준 중 하나 이상을 충족할 경우 'Yes'로 답변하고, 모두 충족하지 못하면 'No'로 답변하세요:\n",
    "\n",
    "1. [소스]가 [질문]에 답변하는데 필요한 정보를 직접적으로 포함하고 있는가?\n",
    "2. [소스]의 정보로부터 답변에 필요한 내용을 논리적으로 추론할 수 있는가?\n",
    "3. [소스]의 정보가 [질문]에 대한 답변을 제공할 수 있는가?\n",
    "\n",
    "'Yes' 또는 'No'로만 답변하세요.\"\"\"),\n",
    "    (\"human\", \"\"\"[소스]\n",
    "{source}\n",
    "\n",
    "[질문]\n",
    "{question}\"\"\")\n",
    "])\n",
    "\n",
    "relevance_chain = prompt | llm | StrOutputParser()    # gpt-4.1-mini 모델 사용\n",
    "\n",
    "relevance = relevance_chain.invoke({\n",
    "    \"source\": result['source'],\n",
    "    \"question\": \"무주택 세대에 대해 설명하세요.\"\n",
    "}).lower()\n",
    "\n",
    "print(f\"평가 결과: {relevance}\") # 7초 소요"
   ]
  },
  {
   "cell_type": "code",
   "execution_count": null,
   "metadata": {},
   "outputs": [
    {
     "name": "stdout",
     "output_type": "stream",
     "text": [
      "평가 결과: no\n"
     ]
    }
   ],
   "source": [
    "llm_gpt4o = ChatOpenAI(\n",
    "    model='gpt-4.1',\n",
    "    temperature=0.1,\n",
    "    top_p=0.9, \n",
    ")\n",
    "\n",
    "relevance_chain = prompt | llm_gpt4o | StrOutputParser()    # gpt-4.1 모델 사용\n",
    "\n",
    "relevance = relevance_chain.invoke({\n",
    "    \"source\": result['source'],\n",
    "    \"question\": query\n",
    "}).lower()\n",
    "\n",
    "print(f\"평가 결과: {relevance}\") # 3.8초 소요, 엄격함"
   ]
  },
  {
   "cell_type": "markdown",
   "metadata": {},
   "source": [
    "## 4. Gradio 챗봇 인터페이스"
   ]
  },
  {
   "cell_type": "code",
   "execution_count": 15,
   "metadata": {},
   "outputs": [],
   "source": [
    "import gradio as gr\n",
    "from langchain_core.language_models import BaseChatModel\n",
    "from langchain_core.vectorstores import VectorStoreRetriever\n",
    "from langchain_core.output_parsers import StrOutputParser\n",
    "from langchain_core.prompts import ChatPromptTemplate\n",
    "from langchain_openai import ChatOpenAI\n",
    "from typing import List, Optional\n",
    "from dataclasses import dataclass"
   ]
  },
  {
   "cell_type": "code",
   "execution_count": 17,
   "metadata": {},
   "outputs": [],
   "source": [
    "from langchain_core.chat_history import BaseChatMessageHistory\n",
    "from langchain_core.messages import BaseMessage, HumanMessage, AIMessage\n",
    "from langchain_core.prompts import ChatPromptTemplate, MessagesPlaceholder\n",
    "from langchain_core.runnables.history import RunnableWithMessageHistory\n",
    "from pydantic import BaseModel, Field\n",
    "\n",
    "# 메모리 기반 히스토리 구현\n",
    "class InMemoryHistory(BaseChatMessageHistory, BaseModel):\n",
    "    messages: list[BaseMessage] = Field(default_factory=list)\n",
    "\n",
    "    def add_messages(self, messages: list[BaseMessage]) -> None:\n",
    "        \"\"\"Add a list of messages to the store\"\"\"\n",
    "        self.messages.extend(messages)\n",
    "\n",
    "    def clear(self) -> None:\n",
    "        self.messages = []\n",
    "\n",
    "# 세션 저장소\n",
    "store = {}\n",
    "\n",
    "# 세션 ID로 히스토리 가져오기\n",
    "def get_session_history(session_id: str) -> BaseChatMessageHistory:\n",
    "    if session_id not in store:\n",
    "        store[session_id] = InMemoryHistory()\n",
    "    return store[session_id]\n",
    "\n",
    "# 히스토리 지우기\n",
    "def remove_session_history(session_id: str) -> None:\n",
    "    if session_id in store:\n",
    "        store[session_id].clear()"
   ]
  },
  {
   "cell_type": "code",
   "execution_count": 56,
   "metadata": {},
   "outputs": [],
   "source": [
    "def get_streaming_response(message: str, history) -> str:\n",
    "    context = get_relevant_documents(message)\n",
    "\n",
    "    prompt = ChatPromptTemplate.from_messages([\n",
    "    (\"system\", \"\"\"주어진 [소스]가 [질문]에 답변하는데 필요한 정보를 포함하고 있는지 논리적으로 평가하세요.\n",
    "    단계적으로 진행하며, 평가결과에 대한 검증을 수행하세요.\n",
    "\n",
    "    다음 기준 중 하나 이상을 충족할 경우 'Yes'로 답변하고, 모두 충족하지 못하면 'No'로 답변하세요:\n",
    "\n",
    "    1. [소스]가 [질문]에 답변하는데 필요한 정보를 직접적으로 포함하고 있는가?\n",
    "    2. [소스]의 정보로부터 답변에 필요한 내용을 논리적으로 추론할 수 있는가?\n",
    "    3. [소스]의 정보가 [질문]에 대한 답변을 제공할 수 있는가?\n",
    "\n",
    "    'Yes' 또는 'No'로만 답변하세요.\"\"\"),\n",
    "        (\"human\", \"\"\"[소스]\n",
    "    {source}\n",
    "\n",
    "    [질문]\n",
    "    {question}\"\"\")\n",
    "    ])\n",
    "    relevance_chain = prompt | llm | StrOutputParser()    # gpt-4.1-mini 모델 사용\n",
    "    relevance = relevance_chain.invoke({\n",
    "        \"source\": context,\n",
    "        \"question\": message\n",
    "    }).lower()\n",
    "\n",
    "    if 'yes' in relevance:\n",
    "        prompt = ChatPromptTemplate.from_messages([\n",
    "            (\"system\", \"다음 [Source] 내용을 참고해 [Question]에 한국어로 친절히 답하세요.\"),\n",
    "            MessagesPlaceholder(variable_name=\"history\"),\n",
    "            (\"human\", \"[Source]\\n\"+ context + \"\\n\\n[Question]\\n{question}\")\n",
    "            # (\"human\", \"{question}\")\n",
    "        ])\n",
    "        rag_chain_with_history = RunnableWithMessageHistory(\n",
    "            prompt | llm | StrOutputParser(),\n",
    "            get_session_history,\n",
    "            input_messages_key=\"question\",\n",
    "            history_messages_key=\"history\" # 히스토리 관리 추가 \n",
    "        )\n",
    "        response = rag_chain_with_history.invoke(\n",
    "            {\"question\": message},\n",
    "            config={\"configurable\": {\"session_id\": \"user_1\"}}\n",
    "        )\n",
    "        return response\n",
    "    else: \n",
    "        return \"죄송합니다. 관련 문서를 찾을 수 없어 답변하기 어렵습니다. 다른 질문을 해주시겠습니까?\""
   ]
  },
  {
   "cell_type": "code",
   "execution_count": 57,
   "metadata": {},
   "outputs": [
    {
     "name": "stderr",
     "output_type": "stream",
     "text": [
      "/Users/sunhwaryu/Documents/LangChain/_jupyter/.venv/lib/python3.12/site-packages/gradio/utils.py:1028: UserWarning: Expected 1 arguments for function <function <lambda> at 0x17d8f8fe0>, received 0.\n",
      "  warnings.warn(\n",
      "/Users/sunhwaryu/Documents/LangChain/_jupyter/.venv/lib/python3.12/site-packages/gradio/utils.py:1032: UserWarning: Expected at least 1 arguments for function <function <lambda> at 0x17d8f8fe0>, received 0.\n",
      "  warnings.warn(\n"
     ]
    },
    {
     "name": "stdout",
     "output_type": "stream",
     "text": [
      "* Running on local URL:  http://127.0.0.1:7860\n",
      "* To create a public link, set `share=True` in `launch()`.\n"
     ]
    },
    {
     "data": {
      "text/html": [
       "<div><iframe src=\"http://127.0.0.1:7860/\" width=\"100%\" height=\"500\" allow=\"autoplay; camera; microphone; clipboard-read; clipboard-write;\" frameborder=\"0\" allowfullscreen></iframe></div>"
      ],
      "text/plain": [
       "<IPython.core.display.HTML object>"
      ]
     },
     "metadata": {},
     "output_type": "display_data"
    },
    {
     "data": {
      "text/plain": []
     },
     "execution_count": 57,
     "metadata": {},
     "output_type": "execute_result"
    }
   ],
   "source": [
    "# 챗봇 인터페이스 생성\n",
    "with gr.Blocks() as demo:\n",
    "    \n",
    "    gr.ChatInterface(\n",
    "        fn=get_streaming_response,\n",
    "        title=\"RAG 주택 청약 FAQ 시스템\",\n",
    "        description=\"\"\"\n",
    "        질문을 입력하면 관련 문서를 검색하여 답변을 생성합니다.\n",
    "        모든 답변에는 참조한 문서의 출처가 표시됩니다.\n",
    "        \"\"\",\n",
    "        theme=gr.themes.Soft(\n",
    "            primary_hue=\"blue\",\n",
    "            secondary_hue=\"gray\",\n",
    "        ),\n",
    "        examples=[\n",
    "            [\"수원시의 주택건설지역은 어디에 해당하나요?\"],\n",
    "            [\"무주택 세대에 대해서 설명해주세요.\"],\n",
    "            [\"2순위로 당첨된 사람이 청약통장을 다시 사용할 수 있나요?\"],\n",
    "        ],\n",
    "        type=\"messages\"\n",
    "    )\n",
    "    clear_button = gr.Button(value=\"이력 삭제\")\n",
    "    clear_button.click(fn=lambda _: remove_session_history(\"user_1\"))\n",
    "\n",
    "# 데모 실행\n",
    "demo.launch()"
   ]
  },
  {
   "cell_type": "code",
   "execution_count": 60,
   "metadata": {},
   "outputs": [
    {
     "name": "stdout",
     "output_type": "stream",
     "text": [
      "Closing server running on port: 7860\n"
     ]
    }
   ],
   "source": [
    "# Gradio 인터페이스 종료\n",
    "demo.close()"
   ]
  },
  {
   "cell_type": "code",
   "execution_count": 61,
   "metadata": {},
   "outputs": [
    {
     "data": {
      "text/plain": [
       "{'user_1': InMemoryHistory(messages=[HumanMessage(content='2순위로 당첨된 사람이 청약통장을 다시 사용할 수 있나요?', additional_kwargs={}, response_metadata={}), AIMessage(content='제2순위로 당첨된 경우에는 입주자저축 통장을 사용하게 되는데, 분양주택 또는 분양전환공공임대주택 입주자로 선정된 이후에는 해당 통장을 재사용할 수 없습니다. 따라서 2순위로 당첨된 사람은 이미 사용한 청약통장을 다시 사용할 수 없으니 참고하시기 바랍니다.', additional_kwargs={}, response_metadata={}), HumanMessage(content='무주택 세대에 대해서 설명해주세요.', additional_kwargs={}, response_metadata={}), AIMessage(content='무주택 세대란 청약신청자와 그 세대원 모두가 주택을 소유하지 않은 세대를 의미합니다. 즉, 무주택 세대구성원은 청약신청자 및 세대원 전원이 주택을 소유하고 있지 않은 세대의 구성원(세대주 포함)을 말합니다. 예를 들어, 친정부모가 무주택자이고, 세대분리된 직계비속의 배우자가 별도로 세대에 포함되지 않는 경우에는 친정부모는 무주택세대구성원 자격이 인정됩니다.', additional_kwargs={}, response_metadata={})])}"
      ]
     },
     "execution_count": 61,
     "metadata": {},
     "output_type": "execute_result"
    }
   ],
   "source": [
    "store"
   ]
  },
  {
   "cell_type": "code",
   "execution_count": null,
   "metadata": {},
   "outputs": [],
   "source": []
  }
 ],
 "metadata": {
  "kernelspec": {
   "display_name": ".venv",
   "language": "python",
   "name": "python3"
  },
  "language_info": {
   "codemirror_mode": {
    "name": "ipython",
    "version": 3
   },
   "file_extension": ".py",
   "mimetype": "text/x-python",
   "name": "python",
   "nbconvert_exporter": "python",
   "pygments_lexer": "ipython3",
   "version": "3.12.10"
  }
 },
 "nbformat": 4,
 "nbformat_minor": 2
}
