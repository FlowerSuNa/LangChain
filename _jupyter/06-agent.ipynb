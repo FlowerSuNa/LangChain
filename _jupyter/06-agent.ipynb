{
 "cells": [
  {
   "cell_type": "markdown",
   "id": "17db3ef3",
   "metadata": {},
   "source": [
    "# Tool Calling"
   ]
  },
  {
   "cell_type": "code",
   "execution_count": null,
   "id": "61a9e439",
   "metadata": {},
   "outputs": [
    {
     "name": "stdout",
     "output_type": "stream",
     "text": [
      "{'name': 'multiply', 'args': {'a': 3, 'b': 4}, 'id': 'call_HsfciRvZrJG00MJkV2Dh9YOq', 'type': 'tool_call'}\n",
      "12\n"
     ]
    }
   ],
   "source": [
    "from langchain_core.tools import tool\n",
    "from langchain_openai import ChatOpenAI\n",
    "\n",
    "# Tool creation\n",
    "@tool\n",
    "def multiply(a: int, b: int) -> int:\n",
    "    \"\"\"Multiply a and b.\"\"\"\n",
    "    return a * b\n",
    "\n",
    "tools = [multiply]\n",
    "\n",
    "# Tool binding\n",
    "model = ChatOpenAI(model=\"gpt-4.1-mini\", temperature=0)\n",
    "model_with_tools = model.bind_tools(tools)\n",
    "\n",
    "# Tool calling\n",
    "response = model_with_tools.invoke(\"3과 4를 곱해줘\")\n",
    "print(response.tool_calls[0])\n",
    "# Output: {'name': 'multiply', 'args': {'a': 3, 'b': 4}, 'id': '...', 'type': 'tool_call'}\n",
    "\n",
    "# Tool execution\n",
    "result = multiply.invoke(response.tool_calls[0])\n",
    "print(result.content)\n",
    "# Output: 12"
   ]
  },
  {
   "cell_type": "code",
   "execution_count": null,
   "id": "52ad466b",
   "metadata": {},
   "outputs": [],
   "source": []
  }
 ],
 "metadata": {
  "kernelspec": {
   "display_name": ".venv",
   "language": "python",
   "name": "python3"
  },
  "language_info": {
   "codemirror_mode": {
    "name": "ipython",
    "version": 3
   },
   "file_extension": ".py",
   "mimetype": "text/x-python",
   "name": "python",
   "nbconvert_exporter": "python",
   "pygments_lexer": "ipython3",
   "version": "3.12.10"
  }
 },
 "nbformat": 4,
 "nbformat_minor": 5
}
