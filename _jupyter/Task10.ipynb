{
 "cells": [
  {
   "cell_type": "markdown",
   "id": "aa6cf184",
   "metadata": {
    "vscode": {
     "languageId": "plaintext"
    }
   },
   "source": [
    "# 엑셀 보고서 인덱싱 및 RAG 테스트\n",
    "\n",
    "> 목표 : 엑셀 보고서 인덱싱 및 parent document / multi vector retrieval 테스트 "
   ]
  },
  {
   "cell_type": "markdown",
   "id": "cb1d748e",
   "metadata": {
    "vscode": {
     "languageId": "plaintext"
    }
   },
   "source": [
    "## 기본 설정"
   ]
  },
  {
   "cell_type": "markdown",
   "id": "60a641af",
   "metadata": {},
   "source": [
    "### 1\\) 환경 설정"
   ]
  },
  {
   "cell_type": "code",
   "execution_count": 1,
   "id": "d15a1d35",
   "metadata": {},
   "outputs": [
    {
     "data": {
      "text/plain": [
       "True"
      ]
     },
     "execution_count": 1,
     "metadata": {},
     "output_type": "execute_result"
    }
   ],
   "source": [
    "from dotenv import load_dotenv\n",
    "\n",
    "# 환경변수 로드\n",
    "load_dotenv()"
   ]
  },
  {
   "cell_type": "code",
   "execution_count": 2,
   "id": "3fe1309a",
   "metadata": {},
   "outputs": [],
   "source": [
    "from langfuse.langchain import CallbackHandler\n",
    "\n",
    "# 콜백 핸들러 생성\n",
    "langfuse_handler = CallbackHandler()"
   ]
  },
  {
   "cell_type": "code",
   "execution_count": 3,
   "id": "1df79d86",
   "metadata": {},
   "outputs": [],
   "source": [
    "import nest_asyncio\n",
    "\n",
    "# Jupyter 환경에서 비동기 이벤트 루프 중첩 허용\n",
    "nest_asyncio.apply()"
   ]
  },
  {
   "cell_type": "code",
   "execution_count": 4,
   "id": "720d1144",
   "metadata": {},
   "outputs": [],
   "source": [
    "import matplotlib.pyplot as plt\n",
    "from pprint import pprint\n",
    "from langchain.schema import Document\n",
    "from langchain_community.vectorstores import Chroma"
   ]
  },
  {
   "cell_type": "code",
   "execution_count": 5,
   "id": "cce1f277",
   "metadata": {},
   "outputs": [],
   "source": [
    "import tiktoken\n",
    "\n",
    "# tiktoken tokenizer 초기화\n",
    "tokenizer = tiktoken.get_encoding(\"cl100k_base\")"
   ]
  },
  {
   "cell_type": "code",
   "execution_count": 6,
   "id": "aa940e89",
   "metadata": {},
   "outputs": [],
   "source": [
    "from langchain_openai import OpenAIEmbeddings\n",
    "\n",
    "# 임베딩 모델 초기화\n",
    "embeddings = OpenAIEmbeddings(model=\"text-embedding-3-small\")"
   ]
  },
  {
   "cell_type": "markdown",
   "id": "4404e028",
   "metadata": {},
   "source": [
    "### 2\\) 활용 데이터 정의"
   ]
  },
  {
   "cell_type": "code",
   "execution_count": 7,
   "id": "73e831ec",
   "metadata": {},
   "outputs": [],
   "source": [
    "excel_file_path = \"data/2023년 인구동태(총괄, 출생, 사망).xlsx\" # 통계청 엑셀 데이터\n",
    "pdf_file_path = \"data/2023년 인구동태(총괄, 출생, 사망).pdf\"    # 통계청 PDF 변환 데이터 (하나의 페이지에 하나의 장표가 있음)"
   ]
  },
  {
   "cell_type": "markdown",
   "id": "743fd02f",
   "metadata": {},
   "source": [
    "### 3) 로컬 파일 저장소 정의"
   ]
  },
  {
   "cell_type": "code",
   "execution_count": 8,
   "id": "93ea2980",
   "metadata": {},
   "outputs": [],
   "source": [
    "import pickle\n",
    "from langchain.retrievers.multi_vector import MultiVectorRetriever\n",
    "from langchain.retrievers import ParentDocumentRetriever\n",
    "from langchain_text_splitters import RecursiveCharacterTextSplitter\n",
    "from langchain.storage import LocalFileStore\n",
    "\n",
    "# 로컬 파일 저장소 클래스 정의\n",
    "class PickleFileStore(LocalFileStore):\n",
    "    def mget(self, keys):\n",
    "        return [pickle.loads(v) if v is not None else None \n",
    "                for v in super().mget(keys)]\n",
    "\n",
    "    def mset(self, key_value_pairs):\n",
    "        serialized_pairs = [(k, pickle.dumps(v)) for k, v in key_value_pairs]\n",
    "        super().mset(serialized_pairs)"
   ]
  },
  {
   "cell_type": "markdown",
   "id": "ac9049b9",
   "metadata": {},
   "source": [
    "### 4\\) 요약 생성 봇 정의"
   ]
  },
  {
   "cell_type": "code",
   "execution_count": 9,
   "id": "d6c95b72",
   "metadata": {},
   "outputs": [],
   "source": [
    "from langchain_openai import ChatOpenAI\n",
    "from langchain_core.prompts import ChatPromptTemplate\n",
    "from langchain_core.output_parsers import StrOutputParser\n",
    "\n",
    "llm = ChatOpenAI(model=\"gpt-4.1-mini\", temperature=0)\n",
    "\n",
    "def generate_summary(text):\n",
    "    prompt = ChatPromptTemplate.from_template(\n",
    "        \"Summarize the following 10-K report section in 2-3 sentences:\\n\\n{text}\"\n",
    "    )\n",
    "    summary_chain = prompt | llm | StrOutputParser()\n",
    "    return summary_chain.invoke({\"text\": text})"
   ]
  },
  {
   "cell_type": "markdown",
   "id": "90b761fc",
   "metadata": {},
   "source": [
    "### 5\\) 답변 생성 RAG 정의"
   ]
  },
  {
   "cell_type": "code",
   "execution_count": 10,
   "id": "64af3d86",
   "metadata": {},
   "outputs": [],
   "source": [
    "from langchain_openai import ChatOpenAI\n",
    "from langchain_core.prompts import ChatPromptTemplate\n",
    "from langchain_core.runnables import RunnablePassthrough\n",
    "from langchain_core.output_parsers import StrOutputParser\n",
    "\n",
    "system_prompt = \"\"\"\n",
    "You are an expert in South Korean population analysis. \n",
    "\n",
    "1. Please provide accurate and detailed analysis based on the provided reference materials in response to user queries.\n",
    "2. For information not available in the reference materials, please clearly state \"The requested information cannot be found in the provided materials.\"\n",
    "3. Please generate your response in the same language as the user's query.\n",
    "\"\"\"\n",
    "\n",
    "human_prompt = \"\"\"\n",
    "Reference: \\n{context}\n",
    "\n",
    "---\n",
    "\n",
    "User Query: \\n{question}\n",
    "\"\"\"\n",
    "\n",
    "prompt = ChatPromptTemplate.from_messages([\n",
    "    (\"system\", system_prompt),\n",
    "    (\"human\", human_prompt)\n",
    "])\n",
    "\n",
    "llm = ChatOpenAI(model=\"gpt-4.1-mini\", temperature=0)\n",
    "\n",
    "def generate_answer(query, retriever):\n",
    "    chain = {\n",
    "        \"context\": retriever,\n",
    "        \"question\": RunnablePassthrough()\n",
    "    } | prompt | llm | StrOutputParser()\n",
    "    return chain.invoke(query)"
   ]
  },
  {
   "cell_type": "markdown",
   "id": "32126aed",
   "metadata": {},
   "source": [
    "### 6\\) 테스트셋"
   ]
  },
  {
   "cell_type": "code",
   "execution_count": 11,
   "id": "8fc325de",
   "metadata": {},
   "outputs": [],
   "source": [
    "# 대한민국 인구 관련 테스트 질의 데이터셋\n",
    "test_queries = [\n",
    "    \"2023년 대한민국의 출생아 수와 조출생률은 얼마인가요?\",\n",
    "    \"2020년부터 2023년까지 합계출산율의 변화 추이를 알려주세요.\",\n",
    "    \"2022년과 2023년의 사망자 수를 비교해서 설명해주세요.\",\n",
    "    \"What was the total fertility rate in South Korea in 2023?\",\n",
    "    \"How did the crude birth rate change from 2019 to 2023 in Korea?\"\n",
    "]"
   ]
  },
  {
   "cell_type": "markdown",
   "id": "c2f06535",
   "metadata": {},
   "source": [
    "## 1. `PyPDFLoader`"
   ]
  },
  {
   "cell_type": "markdown",
   "id": "ab699d2a",
   "metadata": {},
   "source": [
    "> - 목표 : 표 형식이 꺠지는 데이터도 LLM이 잘 활용이 되는지 확인\n",
    "> - 결과 : 표 내용 중 일부 이해 못함"
   ]
  },
  {
   "cell_type": "markdown",
   "id": "1b5b6506",
   "metadata": {},
   "source": [
    "### 1\\) 문서 로드"
   ]
  },
  {
   "cell_type": "code",
   "execution_count": null,
   "id": "e8cd3fe1",
   "metadata": {},
   "outputs": [
    {
     "name": "stdout",
     "output_type": "stream",
     "text": [
      "215\n"
     ]
    },
    {
     "data": {
      "text/plain": [
       "Document(metadata={'producer': 'macOS Version 14.6.1 (Build 23G93) Quartz PDFContext', 'creator': 'Excel', 'creationdate': \"D:20250726062916Z00'00'\", 'title': '2023년 인구동태(총괄, 출생, 사망)', 'author': '유선화', 'moddate': \"D:20250726062916Z00'00'\", 'source': 'data/2023년 인구동태(총괄, 출생, 사망).pdf', 'total_pages': 215, 'page': 0, 'page_label': '1'}, page_content='(단위: * 인구 1천 명당, ** 년)\\n출생아 수\\nNumber\\n조출생률*\\nCBR\\n사망자 수\\nNumber\\n조사망률*\\nCDR\\n  \\n1970 1 006 645 31.2               258 589 8.0              4.53          109.5           -1971 1 024 773 31.2               237 528 7.2              4.54          109.0           -1972  952 780 28.4               210 071 6.3              4.12          109.5           -1973  965 521 28.3               267 460 7.8              4.07          104.6           -1974  922 823 26.6               248 807 7.2              3.77          109.4           -\\n-1975  874 030 24.8               270 657 7.7              3.43          112.4           -1976  796 331 22.2               266 857 7.4              3.00          110.7           -1977  825 339 22.7               249 254 6.8              2.99          104.2           -1978  750 728 20.3               252 298 6.8              2.64          111.3           -1979  862 669 23.0               239 986 6.4              2.90          106.4           -\\n-1980  862 835 22.6               277 284 7.3              2.82          105.3           -1981  867 409 22.4               237 481 6.1              2.57          107.1           26.2              \\n1982  848 312 21.6               245 767 6.2              2.39          106.8           26.0              \\n1983  769 155 19.3               254 563 6.4              2.06          107.3           25.9              \\n1984  674 793 16.7               236 445 5.9              1.74          108.3           25.8              \\n1985  655 489 16.1               240 418 5.9              1.66          109.4           26.0              \\n1986  636 019 15.4               239 256 5.8              1.58          111.7           26.1              \\n1987  623 831 15.0               243 504 5.9              1.53          108.8           26.3              \\n1988  633 092 15.1               235 779 5.6              1.55          113.2           26.6              \\n1989  639 431 15.1               236 818 5.6              1.56          111.8           26.8              \\n1990  649 738 15.2               241 616 5.6              1.57          116.5           27.0              \\n1991  709 275 16.4               242 270 5.6              1.71          112.4           27.2              \\n1992  730 678 16.7               236 162 5.4              1.76          113.6           27.4              \\n1993  715 826 16.0               234 257 5.2              1.65          115.3           27.6              \\n1994  721 185 16.0               242 439 5.4              1.66          115.2           27.8              \\n1995  715 020 15.7               242 838 5.3              1.63          113.2           27.9              \\n1996  691 226 15.0               241 149 5.2              1.57          111.5           28.1              \\n1997  675 394 14.5               244 693 5.3              1.54          108.2           28.3              \\n1998  641 594 13.7               245 825 5.2              1.46          110.1           28.5              \\n1999  620 668 13.2               247 734 5.3              1.43          109.5           28.7              \\n2000  640 089 13.5               248 740 5.2              1.48          110.1           29.0              \\n2001  559 934 11.7               243 813 5.1              1.31          109.0           29.3              \\n2002  496 911 10.3               247 524 5.1              1.18          109.9           29.5              \\n2003  495 036 10.2               246 463 5.1              1.19          108.6           29.7              \\n2004  476 958 9.8                246 220 5.1              1.16          108.2           30.0              \\n2005  438 707 9.0                245 874 5.1              1.09          107.8           30.2              \\n2006  451 759 9.2                244 162 5.0              1.13          107.6           30.4              \\n2007  496 822 10.1               246 482 5.0              1.26          106.2           30.6              \\n2008  465 892 9.4                246 113 5.0              1.19          106.4           30.8              \\n2009  444 849 9.0                246 942 5.0              1.15          106.4           31.0              \\n2010  470 171 9.4                255 405 5.1              1.23          106.9           31.3              \\n2011  471 265 9.4                257 396 5.1              1.24          105.7           31.4              \\n2012  484 550 9.6                267 221 5.3              1.30          105.7           31.6              \\n2013  436 455 8.6                266 257 5.3              1.19          105.3           31.8              \\n2014  435 435 8.6                267 692 5.3              1.21          105.3           32.0              \\n2015  438 420 8.6                275 895 5.4              1.24          105.3           32.2              \\n2016  406 243 7.9                280 827 5.5              1.17          105.0           32.4              \\n2017  357 771 7.0                285 534 5.6              1.05          106.3           32.6              \\n2018  326 822 6.4                298 820 5.8              0.98          105.4           32.8              \\n2019  302 676 5.9                295 110 5.7              0.92          105.5           33.0              \\n2020  272 337 5.3                304 948 5.9              0.84          104.8           33.1              \\n2021  260 562 5.1                317 680 6.2              0.81          105.1           33.4              \\n2022  249 186 4.9                372 939 7.3              0.78          104.7           33.5              \\n2023  230 028 4.5                352 511 6.9              0.72          105.1           33.6              \\n1) 여자 1명이 가임기간(15-49세)동안 낳을 것으로 예상되는 평균 출생아 수      \\n2) 여아 100명당 남아 수\\n1 표. 인구동태건수 및 동태율 : 전국, 1970∼2023\\n연  도\\nYear\\n출        생\\nLive births\\n사      망\\nDeaths 합계출산율 1)\\nTotal fertility \\nrate\\n출생성비 2)\\nSex ratio at\\nbirth\\n모의 평균 \\n출산연령\\nMean age of \\nmother')"
      ]
     },
     "execution_count": 72,
     "metadata": {},
     "output_type": "execute_result"
    }
   ],
   "source": [
    "from langchain_community.document_loaders import PyPDFLoader\n",
    "\n",
    "loader = PyPDFLoader(pdf_file_path)\n",
    "docs = loader.load()\n",
    "\n",
    "print(len(docs))\n",
    "\n",
    "docs[0] # 표 형식 깨짐"
   ]
  },
  {
   "cell_type": "code",
   "execution_count": null,
   "id": "536561a5",
   "metadata": {},
   "outputs": [
    {
     "data": {
      "image/png": "[encoded data removed]",
      "text/plain": [
       "<Figure size 640x480 with 1 Axes>"
      ]
     },
     "metadata": {},
     "output_type": "display_data"
    }
   ],
   "source": [
    "# 문서별 글자 수 확인\n",
    "doc_lengths = [len(doc.page_content) for doc in docs]\n",
    "\n",
    "plt.hist(doc_lengths, bins=50)\n",
    "plt.show()"
   ]
  },
  {
   "cell_type": "code",
   "execution_count": 77,
   "id": "32dcf952",
   "metadata": {},
   "outputs": [
    {
     "data": {
      "image/png": "[encoded data removed]",
      "text/plain": [
       "<Figure size 640x480 with 1 Axes>"
      ]
     },
     "metadata": {},
     "output_type": "display_data"
    }
   ],
   "source": [
    "# 문서별 토큰 수 확인\n",
    "doc_tokens = [len(tokenizer.encode(doc.page_content)) for doc in docs]\n",
    "plt.hist(doc_tokens, bins=50)\n",
    "plt.xlabel(\"Length\")\n",
    "plt.ylabel(\"Frequency\")\n",
    "plt.show()"
   ]
  },
  {
   "cell_type": "markdown",
   "id": "578cc642",
   "metadata": {},
   "source": [
    "### 2\\) 인덱싱"
   ]
  },
  {
   "cell_type": "code",
   "execution_count": 87,
   "id": "40da4b5b",
   "metadata": {},
   "outputs": [
    {
     "name": "stdout",
     "output_type": "stream",
     "text": [
      "Total documents in vectorstore: 215\n",
      "Total documents in store: 215\n"
     ]
    }
   ],
   "source": [
    "# 요약 문서 저장소 정의\n",
    "vectorstore = Chroma(\n",
    "    collection_name=\"population_summary_01\",\n",
    "    embedding_function=embeddings,\n",
    "    persist_directory=\"./population_db\"\n",
    ")\n",
    "\n",
    "# 원본 문서 저장소 정의\n",
    "doc_store = PickleFileStore(\"./population_store_01\") \n",
    "\n",
    "# MultiVectorRetriever 정의\n",
    "retriever = MultiVectorRetriever(\n",
    "    vectorstore=vectorstore,\n",
    "    docstore=doc_store,\n",
    "    id_key=\"doc_id\"\n",
    ")\n",
    "\n",
    "# 요약 문서 저장 리스트 초기화\n",
    "summary_docs = []\n",
    "original_docs = []\n",
    "doc_ids = []\n",
    "\n",
    "# 각 문서에 대한 요약 생성\n",
    "for i, doc in enumerate(docs):\n",
    "    doc_id = f\"doc_{i}\"\n",
    "    summary = generate_summary(doc.page_content)\n",
    "    \n",
    "    # 요약 문서 생성\n",
    "    summary_doc = Document(\n",
    "        page_content=summary,\n",
    "        metadata={\"doc_id\": doc_id, \"title\": doc.metadata[\"title\"]}\n",
    "    )\n",
    "    summary_docs.append(summary_doc)\n",
    "    \n",
    "    # 원본 문서와 ID 저장\n",
    "    original_docs.append(doc)\n",
    "    doc_ids.append(doc_id)\n",
    "\n",
    "# 벡터 스토어에 요약 문서 추가\n",
    "retriever.vectorstore.add_documents(summary_docs)\n",
    "retriever.docstore.mset(list(zip(doc_ids, original_docs)))\n",
    "\n",
    "# 문서 개수 확인\n",
    "print(f\"Total documents in vectorstore: {vectorstore._collection.count()}\")\n",
    "all_keys = list(doc_store.yield_keys())\n",
    "print(f\"Total documents in store: {len(all_keys)}\")"
   ]
  },
  {
   "cell_type": "code",
   "execution_count": 105,
   "id": "68c0a2aa",
   "metadata": {},
   "outputs": [
    {
     "name": "stdout",
     "output_type": "stream",
     "text": [
      "Retrieved 4 documents\n",
      "5 표. 합계출산율 : 시도, 2013~2023\n",
      " (단위: 여자 1명당 명, births per woman)\n",
      "지           역\n",
      "Place of residence 2023 2022 2021 2020 2019 2018 2017 2016 2015 2014 2013\n",
      "   전국 Whole country 0.72 0.78 0.81 0.84 0.92 0.98 1.05 1.17 1.24 1.21 1.19 \n",
      "서울특별시  Seoul 0.55 0.59 0.63 0.64 0.72 0.76 0.84 0.94 1.00 0.98 0.97 \n",
      "부산광역시  Busan 0.66 0.72 0.73 0.75 0.83 0.90 0.98 1.10 1.14 1.09 1.05 \n",
      "대구광역시  Daegu 0.70 0.76 0.78 0.81 0.93 0.99 1.07 1.19 1.22 1.17 1.13 \n",
      "인천광역시  Incheon 0.69 0.75 0.78 0.83 0.94 1.01 1.01 1.14 1.22 1.21 1.2\n",
      "----------------------------------------------------------------------------------------------------\n",
      "2 표. 인구동태건수 : 시도, 2004~2023 Table 2. Vital statistics (number) : Cities and Provinces, 2004-2023\n",
      "(단위: 출생·사망 명, 혼인·이혼 건)\n",
      "지      역 2023 2022 2021 2020 2019 2018 2017 2016 2015 2014\n",
      "전     국\n",
      "출    생  230 028  249 186  260 562  272 337  302 676  326 822  357 771  406 243  438 420  435 435\n",
      "사    망  352 511  372 939  317 680  304 948  295 110  298 820  285 534  280 827  275 895  267 692\n",
      "혼    인  193 657  191 690  192 507  213 502  239 159  257 622  264 455  281 635  302 828  305 507\n",
      "이    혼  92 394  93 232\n",
      "----------------------------------------------------------------------------------------------------\n",
      "Table 3. Vital statistics (rate) : Cities and Provinces, 2004-2023\n",
      "(단위: 출생·사망 명, 혼인·이혼 건) (Unit: persons, case)\n",
      "2013 2012 2011 2010 2009 2008 2007 2006 2005 2004 # Place of \n",
      "residence\n",
      " Whole country\n",
      "8.6 9.6 9.4 9.4 9.0 9.4 10.1 9.2 9.0 9.8      Live births\n",
      "5.3 5.3 5.1 5.1 5.0 5.0 5.0 5.0 5.1 5.1      Deaths\n",
      "6.4 6.5 6.6 6.5 6.2 6.6 7.0 6.8 6.5 6.4      Marriages\n",
      "2.3 2.3 2.3 2.3 2.5 2.4 2.5 2.5 2.6 2.9      Divorces\n",
      " Seoul\n",
      "8.4 9.3 9.0 9.2 8.8 9.3 9.9 9.2 8.9 9.8      Live births\n",
      "4.2 4.1 4.0 3.9 3.\n",
      "----------------------------------------------------------------------------------------------------\n",
      "(단위: 명)\n",
      "모  의  연  령 \n",
      "및     지    역\n",
      "Age of mother and\n",
      "place of residence\n",
      "계\n",
      "Total ∼1년 Year 1년 Year 2년 Year 3년 Year 4년 Year 5년 Year\n",
      "전 국 Whole country 230 028 40 271 34 433 31 942 29 365 24 467 18 699\n",
      "     ∼19세 Years  399  151  39  5  2 - -\n",
      "20∼24 5 249 2 465  947  532  434  239  109\n",
      "25∼29 34 837 10 340 7 816 6 094 4 121 2 495 1 273\n",
      "30∼34 106 049 17 505 17 494 16 906 16 170 13 096 9 292\n",
      "35∼39 67 467 8 077 6 770 7 009 7 261 7 390 6 840\n",
      "40∼44 15 578 1 698 1 345 1 376 1 343 1 216 1 160\n",
      "45∼49  377  35  22 \n",
      "----------------------------------------------------------------------------------------------------\n"
     ]
    }
   ],
   "source": [
    "# 문서 검색 \n",
    "retrieved_docs = retriever.invoke(test_queries[0])\n",
    "print(f\"Retrieved {len(retrieved_docs)} documents\")\n",
    "\n",
    "for doc in retrieved_docs:\n",
    "    print(doc.page_content[:500])\n",
    "    print(\"-\" * 100)"
   ]
  },
  {
   "cell_type": "markdown",
   "id": "dced326d",
   "metadata": {},
   "source": [
    "### 3\\) RAG 테스트"
   ]
  },
  {
   "cell_type": "code",
   "execution_count": 100,
   "id": "bcf8efb8",
   "metadata": {},
   "outputs": [
    {
     "name": "stdout",
     "output_type": "stream",
     "text": [
      "2023년 대한민국의 출생아 수는 230,028명입니다.  \n",
      "조출생률(인구 1,000명당 출생아 수)은 제공된 자료에 명확히 기재되어 있지 않습니다.  \n",
      "\n",
      "따라서 출생아 수는 정확히 알 수 있으나, 조출생률에 대한 정보는 제공된 자료에서 찾을 수 없습니다.\n"
     ]
    }
   ],
   "source": [
    "response = generate_answer(test_queries[0], retriever)\n",
    "print(response)"
   ]
  },
  {
   "cell_type": "code",
   "execution_count": 101,
   "id": "feed25f1",
   "metadata": {},
   "outputs": [
    {
     "name": "stdout",
     "output_type": "stream",
     "text": [
      "제공된 자료에는 2020년부터 2023년까지의 합계출산율에 대한 직접적인 수치가 포함되어 있지 않습니다. 다만, 같은 기간 동안의 출생아 수 변화를 통해 합계출산율의 추이를 간접적으로 유추할 수 있습니다.\n",
      "\n",
      "전국 출생아 수는 다음과 같습니다.  \n",
      "- 2020년: 272,337명  \n",
      "- 2021년: 260,562명  \n",
      "- 2022년: 249,186명  \n",
      "- 2023년: 230,028명  \n",
      "\n",
      "출생아 수가 2020년부터 2023년까지 지속적으로 감소하는 추세임을 알 수 있습니다. 이는 합계출산율도 같은 기간 동안 감소했을 가능성이 높다는 점을 시사합니다.\n",
      "\n",
      "하지만 합계출산율(여성 1명이 평생 낳을 것으로 예상되는 평균 출생아 수)의 구체적인 수치나 변화율은 제공된 자료에 포함되어 있지 않으므로, 정확한 합계출산율 변화 추이는 제공할 수 없습니다.\n",
      "\n",
      "요약:  \n",
      "- 2020년부터 2023년까지 출생아 수는 지속적으로 감소함.  \n",
      "- 이에 따라 합계출산율도 감소했을 가능성이 높음.  \n",
      "- 구체적인 합계출산율 수치는 자료에 포함되어 있지 않음.\n",
      "\n",
      "따라서, 합계출산율의 정확한 변화 추이는 \"제공된 자료에서 찾을 수 없습니다.\"\n"
     ]
    }
   ],
   "source": [
    "response = generate_answer(test_queries[1], retriever)\n",
    "print(response)"
   ]
  },
  {
   "cell_type": "code",
   "execution_count": 102,
   "id": "442072d7",
   "metadata": {},
   "outputs": [
    {
     "name": "stdout",
     "output_type": "stream",
     "text": [
      "제공된 자료를 바탕으로 2022년과 2023년의 사망자 수를 비교하여 설명드리겠습니다.\n",
      "\n",
      "1. **전국 사망자 수 (성별 포함)**\n",
      "- 2023년 전국 사망자 수는 총 352,511명이며, 남자가 188,921명, 여자가 163,590명입니다.\n",
      "- 2022년의 정확한 전국 사망자 수는 제공된 자료에 명확히 나타나 있지 않으나, 국외 사망자 수 데이터를 통해 간접적으로 비교할 수 있습니다.\n",
      "\n",
      "2. **국외 사망자 수 비교 (2013~2023년 월별·성별·국가별)**\n",
      "- 2023년 국외 사망자 수 총계는 남자 2,655명, 여자 1,563명으로 총 4,218명입니다.\n",
      "- 2022년 국외 사망자 수 총계는 남자 1,950명, 여자 1,153명으로 총 3,103명입니다.\n",
      "\n",
      "이를 통해 국외 사망자 수는 2023년에 2022년보다 약 1,115명(약 35.9%) 증가한 것을 알 수 있습니다.\n",
      "\n",
      "3. **전국 사망자 수 추정**\n",
      "- 국외 사망자 수가 증가했음을 고려할 때, 2023년 전국 사망자 수는 2022년보다 증가했을 가능성이 높습니다.\n",
      "- 다만, 2022년 전국 사망자 수에 대한 구체적인 수치는 제공된 자료에 없으므로 정확한 비교는 어렵습니다.\n",
      "\n",
      "4. **기타 참고사항**\n",
      "- 2023년 사망자 수는 성별, 연령별, 혼인상태별로 상세히 분류되어 있으며, 남성 사망자가 여성보다 다소 많습니다.\n",
      "- 서울특별시 및 부산광역시 등 주요 도시별 월별 사망자 수 데이터도 제공되어 있으나, 2022년과의 직접 비교 데이터는 포함되어 있지 않습니다.\n",
      "\n",
      "---\n",
      "\n",
      "**요약:**  \n",
      "- 2023년 국외 사망자 수는 2022년 대비 약 35.9% 증가하였으며, 전국 사망자 수 역시 증가했을 가능성이 큽니다.  \n",
      "- 그러나 2022년 전국 사망자 수에 대한 구체적인 수치가 제공되지 않아 정확한 전국 사망자 수 비교는 불가능합니다.\n",
      "\n",
      "---\n",
      "\n",
      "**결론:**  \n",
      "2022년과 2023년의 사망자 수를 직접 비교할 수 있는 전국 단위의 구체적인 사망자 수 데이터는 제공된 자료에 포함되어 있지 않습니다. 다만, 국외 사망자 수 증가를 통해 2023년 사망자 수가 증가했을 가능성을 유추할 수 있습니다.\n"
     ]
    }
   ],
   "source": [
    "response = generate_answer(test_queries[2], retriever)\n",
    "print(response)"
   ]
  },
  {
   "cell_type": "code",
   "execution_count": 103,
   "id": "8cfe1dfd",
   "metadata": {},
   "outputs": [
    {
     "name": "stdout",
     "output_type": "stream",
     "text": [
      "2023년 대한민국의 합계출산율은 0.72명입니다. (여자 1명당 출생아 수 기준)\n"
     ]
    }
   ],
   "source": [
    "response = generate_answer(test_queries[3], retriever)\n",
    "print(response)"
   ]
  },
  {
   "cell_type": "code",
   "execution_count": 104,
   "id": "be9b2f30",
   "metadata": {},
   "outputs": [
    {
     "name": "stdout",
     "output_type": "stream",
     "text": [
      "제공된 자료에 따르면, 한국의 조출생률(Crude Birth Rate, CBR)은 2019년부터 2023년까지 다음과 같이 변화하였습니다.\n",
      "\n",
      "- 2019년: 5.9 (인구 1천 명당 출생아 수)\n",
      "- 2020년: 5.3\n",
      "- 2021년: 5.1\n",
      "- 2022년: 4.9\n",
      "- 2023년: 4.5\n",
      "\n",
      "즉, 2019년 5.9에서 2023년 4.5로 지속적으로 감소하는 추세를 보였습니다. 이는 인구 1천 명당 출생아 수가 점차 줄어들고 있음을 의미합니다.\n"
     ]
    }
   ],
   "source": [
    "response = generate_answer(test_queries[4], retriever)\n",
    "print(response)"
   ]
  },
  {
   "cell_type": "markdown",
   "id": "61d212c0",
   "metadata": {},
   "source": [
    "## 2. `LlamaParse`"
   ]
  },
  {
   "cell_type": "markdown",
   "id": "1c926c24",
   "metadata": {},
   "source": [
    "> - 목표 : 표 형식이 깨지지 않도록 문서 로드 및 `ParentDocumentRetriever`를 활용한 검색기 정의\n",
    "> - 결과 : 표 형식이 깨지지 않았으며, `ParentDocumentRetriever`를 사용하여 자식 청킹에서 표 헤더만으로도 부모 문서에 있는 값을 잘 찾는 것 같음"
   ]
  },
  {
   "cell_type": "markdown",
   "id": "629b3e51",
   "metadata": {},
   "source": [
    "### 1\\) 문서 로드"
   ]
  },
  {
   "cell_type": "code",
   "execution_count": 12,
   "id": "3f99378a",
   "metadata": {},
   "outputs": [
    {
     "name": "stdout",
     "output_type": "stream",
     "text": [
      "Started parsing the file under job_id b14fdf0d-6f0f-44e2-816d-e30c82041526\n",
      "✅ 파싱 완료!\n",
      "   📊 총 페이지: 39\n",
      "   📝 총 문자 수: 2,193,175\n",
      "   🔤 총 단어 수: 291,828\n"
     ]
    }
   ],
   "source": [
    "from llama_parse import LlamaParse\n",
    "\n",
    "# 문서 파서 초기화\n",
    "user_prompt = \"\"\"\n",
    "Please extract data in a structured format that is suitable for demographic analysis. Focus on:\n",
    "1. Tables with clear headers and consistent formatting\n",
    "2. Numerical data with proper alignment and units\n",
    "3. Time series data (years, dates) in chronological order\n",
    "4. Statistical indicators like birth rates, death rates, fertility rates, etc.\n",
    "5. Geographic divisions (cities, provinces, regions) clearly labeled\n",
    "6. Preserve the relationship between data points and their corresponding metadata\n",
    "7. Ensure demographic terminology and classifications are accurately maintained\n",
    "\"\"\"\n",
    "parser = LlamaParse(\n",
    "    result_type=\"markdown\",  # 마크다운 형식으로 출력\n",
    "    verbose=True,            # 상세 로그 출력\n",
    "    language=\"ko\",           # 한국어 설정\n",
    "    user_prompt=user_prompt, # 사용자 정의 프롬프트\n",
    "    num_workers=4\n",
    ")\n",
    "\n",
    "# 문서 파싱\n",
    "documents = parser.load_data(excel_file_path)\n",
    "\n",
    "# 파싱 결과 확인\n",
    "total_pages = len(documents)\n",
    "total_chars = sum(len(doc.text) for doc in documents)\n",
    "total_words = sum(len(doc.text.split()) for doc in documents)\n",
    "\n",
    "print(f\"✅ 파싱 완료!\")\n",
    "print(f\"   📊 총 페이지: {total_pages}\")\n",
    "print(f\"   📝 총 문자 수: {total_chars:,}\")\n",
    "print(f\"   🔤 총 단어 수: {total_words:,}\")"
   ]
  },
  {
   "cell_type": "code",
   "execution_count": 13,
   "id": "9a0f0bea",
   "metadata": {},
   "outputs": [
    {
     "data": {
      "text/plain": [
       "'# 1표\\n\\n| 1 표. 인구동태건수 및 동태율 : 전국, 1970∼2023             |                     |                |                  |                |                                       |                                    |                                       | Table 1. Vital statistics : Whole country, 1970-2023 |            |              |                   |                |                  |                |                                           |\\n| --------------------------------------------- | ------------------- | -------------- | ---------------- | -------------- | ------------------------------------- | ---------------------------------- | ------------------------------------- | ---------------------------------------------------- | ---------- | ------------ | ----------------- | -------------- | ---------------- | -------------- | ----------------------------------------- |\\n|                                               |                     |                |                  |                |                                       |                                    |                                       |                                                      |            |              |                   |                |                  |                |                                           |\\n|                                               |                     |                |                  |                |                                       |                                    | (단위: \\\\* 인구 1천 명당, \\\\*\\\\* 년)             |                                                      |            |              |                   |                |                  |                | (Unit: \\\\* per 1,000 population, \\\\*\\\\* age) |\\n| 연 도<br/><br/>Year                             | 출 생<br/>Live births |                | 사 망<br/>Deaths   |                | 합계출산율 1)<br/>Total fertility<br/>rate | 출생성비 2)<br/>Sex ratio at<br/>birth | 모의 평균<br/>출산연령<br/>Mean age of mother | 출생시 기대여명(평균수명)\\\\*\\\\*<br/>Life expectancy at birth      |            |              | 혼 인<br/>Marriages |                | 이 혼<br/>Divorces |                | 연 도<br/>Year                              |\\n|                                               | 출생아 수<br/>Number    | 조출생률\\\\*<br/>CBR | 사망자 수<br/>Number | 조사망률\\\\*<br/>CDR |                                       |                                    |                                       | 계<br/>Total                                          | 남<br/>Male | 여<br/>Female | 건 수<br/>Number    | 조혼인율\\\\*<br/>CMR | 건 수<br/>Number   | 조이혼율\\\\*<br/>CDR |                                           |\\n|                                               |                     |                |                  |                |                                       |                                    |                                       |                                                      |            |              |                   |                |                  |                |                                           |\\n| 1970                                          | 1 006 645           | 31.2           | 258 589          | 8.0            | 4.53                                  | 109.5                              | -                                     | 62.27                                                | 58.74      | 65.81        | 295 137           | 9.2            | 11 615           | 0.4            | 1970                                      |\\n| 1971                                          | 1 024 773           | 31.2           | 237 528          | 7.2            | 4.54                                  | 109.0                              | -                                     | 62.69                                                | 59.07      | 66.32        | 239 457           | 7.3            | 11 361           | 0.3            | 1971                                      |\\n| 1972                                          | 952 780             | 28.4           | 210 071          | 6.3            | 4.12                                  | 109.5                              | -                                     | 63.10                                                | 59.39      | 66.81        | 244 780           | 7.3            | 12 188           | 0.4            | 1972                                      |\\n| 1973                                          | 965 521             | 28.3           | 267 460          | 7.8            | 4.07                                  | 104.6                              | -                                     | 63.49                                                | 59.70      | 67.29        | 259 112           | 7.6            | 12 719           | 0.4            | 1973                                      |\\n| 1974                                          | 922 823             | 26.6           | 248 807          | 7.2            | 3.77                                  | 109.4                              | -                                     | 63.88                                                | 60.00      | 67.75        | 259 604           | 7.5            | 14 073           | 0.4            | 1974                                      |\\n|                                               |                     |                |                  |                |                                       |                                    | -                                     |                                                      |            |              |                   |                |                  |                |                                           |\\n| 1975                                          | 874 030             | 24.8           | 270 657          | 7.7            | 3.43                                  | 112.4                              | -                                     | 64.25                                                | 60.30      | 68.20        | 283 226           | 8.0            | 16 453           | 0.5            | 1975                                      |\\n| 1976                                          | 796 331             | 22.2           | 266 857          | 7.4            | 3.00                                  | 110.7                              | -                                     | 64.61                                                | 60.59      | 68.63        | 285 910           | 8.0            | 17 178           | 0.5            | 1976                                      |\\n| 1977                                          | 825 339             | 22.7           | 249 254          | 6.8            | 2.99                                  | 104.2                              | -                                     | 64.96                                                | 60.87      | 69.05        | 303 156           | 8.3            | 20 280           | 0.6            | 1977                                      |\\n| 1978                                          | 750 728             | 20.3           | 252 298          | 6.8            | 2.64                                  | 111.3                              | -                                     | 65.30                                                | 61.15      | 69.46        | 343 013           | 9.3            | 19 734           | 0.5            | 1978                                      |\\n| 1979                                          | 862 669             | 23.0           | 239 986          | 6.4            | 2.90                                  | 106.4                              | -                                     | 65.63                                                | 61.42      | 69.85        | 353 824           | 9.4            | 17 178           | 0.5            | 1979                                      |\\n|                                               |                     |                |                  |                |                                       |                                    | -                                     |                                                      |            |              |                   |                |                  |                |                                           |\\n| 1980                                          | 862 835             | 22.6           | 277 284          | 7.3            | 2.82                                  | 105.3                              | -                                     | 66.15                                                | 61.89      | 70.41        | 403 031           | 10.6           | 23 662           | 0.6            | 1980                                      |\\n| 1981                                          | 867 409             | 22.4           | 237 481          | 6.1            | 2.57                                  | 107.1                              | 26.1                                  | 66.66                                                | 62.39      | 70.94        | 406 795           | 10.5           | 24 278           | 0.6            | 1981                                      |\\n| 1982                                          | 848 312             | 21.6           | 245 767          | 6.2            | 2.39                                  | 106.8                              | 26.0                                  | 67.17                                                | 62.89      | 71.45        | 387 468           | 9.9            | 26 124           | 0.7            | 1982                                      |\\n| 1983                                          | 769 155             | 19.3           | 254 563          | 6.4            | 2.06                                  | 107.3                              | 25.9                                  | 67.65                                                | 63.37      | 71.94        | 412 984           | 10.3           | 28 549           | 0.7            | 1983                                      |\\n| 1984                                          | 674 793             | 16.7           | 236 445          | 5.9            | 1.74                                  | 108.3                              | 25.8                                  | 68.30                                                | 64.00      | 72.61        | 385 188           | 9.5            | 35 772           | 0.9            | 1984                                      |\\n|                                               |                     |                |                  |                |                                       |                                    |                                       |                                                      |            |              |                   |                |                  |                |                                           |\\n| 1985                                          | 655 489             | 16.1           | 240 418          | 5.9            | 1.66                                  | 109.4                              | 25.9                                  | 68.91                                                | 64.60      | 73.23        | 384 686           | 9.4            | 38 187           | 0.9            | 1985                                      |\\n| 1986                                          | 636 019             | 15.4           | 239 256          | 5.8            | 1.58                                  | 111.7                              | 26.1                                  | 69.53                                                | 65.27      | 73.80        | 390 229           | 9.5            | 39 132           | 0.9            | 1986                                      |\\n| 1987                                          | 623 831             | 15.0           | 243 504          | 5.9            | 1.53                                  | 108.8                              | 26.3                                  | 70.13                                                | 65.91      | 74.35        | 390 276           | 9.4            | 42 268           | 1.0            | 1987                                      |\\n| 1988                                          | 633 092             | 15.1           | 235 779          | 5.6            | 1.55                                  | 113.2                              | 26.6                                  | 70.65                                                | 66.46      | 74.84        | 410 129           | 9.8            | 42 757           | 1.0            | 1988                                      |\\n| 1989                                          | 639 431             | 15.1           | 236 818          | 5.6            | 1.56                                  | 111.8                              | 26.8                                  | 71.16                                                | 67.00      | 75.31        | 410 708           | 9.7            | 44 017           | 1.0            | 1989                                      |\\n|                                               |                     |                |                  |                |                                       |                                    |                                       |                                                      |            |              |                   |                |                  |                |                                           |\\n| 1990                                          | 649 738             | 15.2           | 241 616          | 5.6            | 1.57                                  | 116.5                              | 27.0                                  | 71.66                                                | 67.46      | 75.87        | 399 312           | 9.3            | 45 694           | 1.1            | 1990                                      |\\n| 1991                                          | 709 275             | 16.4           | 242 270          | 5.6            | 1.71                                  | 112.4                              | 27.2                                  | 72.15                                                | 67.91      | 76.41        | 416 872           | 9.6            | 49 205           | 1.1            | 1991                                      |\\n| 1992                                          | 730 678             | 16.7           | 236 162          | 5.4            | 1.76                                  | 113.6                              | 27.4                                  | 72.61                                                | 68.40      | 76.82        | 419 774           | 9.6            | 53 539           | 1.2            | 1992                                      |\\n| 1993                                          | 715 826             | 16.0           | 234 257          | 5.2            | 1.65                                  | 115.3                              | 27.6                                  | 73.10                                                | 68.88      | 77.33        | 402 593           | 9.0            | 59 313           | 1.3            | 1993                                      |\\n| 1994                                          | 721 185             | 16.0           | 242 439          | 5.4            | 1.66                                  | 115.2                              | 27.8                                  | 73.47                                                | 69.29      | 77.66        | 393 121           | 8.7            | 65 015           | 1.4            | 1994                                      |\\n|                                               |                     |                |                  |                |                                       |                                    |                                       |                                                      |            |              |                   |                |                  |                |                                           |\\n| 1995                                          | 715 020             | 15.7           | 242 838          | 5.3            | 1.63                                  | 113.2                              | 27.9                                  | 73.81                                                | 69.70      | 77.94        | 398 484           | 8.7            | 68 279           | 1.5            | 1995                                      |\\n| 1996                                          | 691 226             | 15.0           | 241 149          | 5.2            | 1.57                                  | 111.5                              | 28.1                                  | 74.24                                                | 70.21      | 78.27        | 434 911           | 9.4            | 79 895           | 1.7            | 1996                                      |\\n| 1997                                          | 675 394             | 14.5           | 244 693          | 5.3            | 1.54                                  | 108.2                              | 28.3                                  | 74.68                                                | 70.71      | 78.66        | 388 960           | 8.4            | 91 160           | 2.0            | 1997                                      |\\n| 1998                                          | 641 594             | 13.7           | 245 825          | 5.2            | 1.46                                  | 110.1                              | 28.5                                  | 75.12                                                | 71.25      | 78.99        | 373 500           | 8.0            | 116 294          | 2.5            | 1998                                      |\\n| 1999                                          | 620 668             | 13.2           | 247 734          | 5.3            | 1.43                                  | 109.5                              | 28.7                                  | 75.49                                                | 71.76      | 79.23        | 360 407           | 7.6            | 117 449          | 2.5            | 1999                                      |\\n|                                               |                     |                |                  |                |                                       |                                    |                                       |                                                      |            |              |                   |                |                  |                |                                           |\\n| 2000                                          | 640 089             | 13.5           | 248 740          | 5.2            | 1.48                                  | 110.1                              | 29.0                                  | 76.01                                                | 72.35      | 79.67        | 332 090           | 7.0            | 119 455          | 2.5            | 2000                                      |\\n| 2001                                          | 559 934             | 11.7           | 243 813          | 5.1            | 1.31                                  | 109.0                              | 29.3                                  | 76.50                                                | 72.91      | 80.08        | 318 407           | 6.7            | 134 608          | 2.8            | 2001                                      |\\n| 2002                                          | 496 911             | 10.3           | 247 524          | 5.1            | 1.18                                  | 109.9                              | 29.5                                  | 76.83                                                | 73.37      | 80.29        | 304 877           | 6.3            | 144 910          | 3.0            | 2002                                      |\\n| 2003                                          | 495 036             | 10.2           | 246 463          | 5.1            | 1.19                                  | 108.6                              | 29.7                                  | 77.27                                                | 73.79      | 80.75        | 302 503           | 6.3            | 166 617          | 3.4            | 2003                                      |\\n| 2004                                          | 476 958             | 9.8            | 246 220          | 5.1            | 1.16                                  | 108.2                              | 30.0                                  | 77.76                                                | 74.30      | 81.23        | 308 598           | 6.4            | 138 932          | 2.9            | 2004                                      |\\n|                                               |                     |                |                  |                |                                       |                                    |                                       |                                                      |            |              |                   |                |                  |                |                                           |\\n| 2005                                          | 438 707             | 9.0            | 245 874          | 5.1            | 1.08                                  | 107.8                              | 30.2                                  | 78.24                                                | 74.89      | 81.60        | 314 304           | 6.5            | 128 035          | 2.6            | 2005                                      |\\n| 2006                                          | 451 759             | 9.2            | 244 162          | 5.0            | 1.13                                  | 107.6                              | 30.4                                  | 78.78                                                | 75.44      | 82.12        | 330 634           | 6.8            | 124 524          | 2.5            | 2006                                      |\\n| 2007                                          | 496 822             | 10.1           | 246 482          | 5.0            | 1.26                                  | 106.2                              | 30.6                                  | 79.16                                                | 75.86      | 82.45        | 343 559           | 7.0            | 124 072          | 2.5            | 2007                                      |\\n| 2008                                          | 465 892             | 9.4            | 246 113          | 5.0            | 1.19                                  | 106.4                              | 30.8                                  | 79.60                                                | 76.25      | 82.96        | 327 715           | 6.6            | 116 535          | 2.4            | 2008                                      |\\n| 2009                                          | 444 849             | 9.0            | 246 942          | 5.0            | 1.15                                  | 106.4                              | 31.0                                  | 80.04                                                | 76.68      | 83.39        | 309 759           | 6.2            | 123 999          | 2.5            | 2009                                      |\\n|                                               |                     |                |                  |                |                                       |                                    |                                       |                                                      |            |              |                   |                |                  |                |                                           |\\n| 2010                                          | 470 171             | 9.4            | 255 405          | 5.1            | 1.23                                  | 106.9                              | 31.3                                  | 80.24                                                | 76.84      | 83.63        | 326 104           | 6.5            | 116 858          | 2.3            | 2010                                      |\\n| 2011                                          | 471 265             | 9.4            | 257 396          | 5.1            | 1.24                                  | 105.7                              | 31.4                                  | 80.62                                                | 77.26      | 83.97        | 329 087           | 6.6            | 114 284          | 2.3            | 2011                                      |\\n| 2012                                          | 484 550             | 9.6            | 267 221          | 5.3            | 1.30                                  | 105.7                              | 31.6                                  | 80.87                                                | 77.57      | 84.17        | 327 073           | 6.5            | 114 316          | 2.3            | 2012                                      |\\n| 2013                                          | 436 455             | 8.6            | 266 257          | 5.3            | 1.19                                  | 105.3                              | 31.8                                  | 81.36                                                | 78.12      | 84.60        | 322 807           | 6.4            | 115 292          | 2.3            | 2013                                      |\\n| 2014                                          | 435 435             | 8.6            | 267 692          | 5.3            | 1.21                                  | 105.3                              | 32.0                                  | 81.80                                                | 78.58      | 85.02        | 305 507           | 6.0            | 115 510          | 2.3            | 2014                                      |\\n|                                               |                     |                |                  |                |                                       |                                    |                                       |                                                      |            |              |                   |                |                  |                |                                           |\\n| 2015                                          | 438 420             | 8.6            | 275 895          | 5.4            | 1.24                                  | 105.3                              | 32.2                                  | 82.06                                                | 78.96      | 85.17        | 302 828           | 5.9            | 109 153          | 2.1            | 2015                                      |\\n| 2016                                          | 406 243             | 7.9            | 280 827          | 5.5            | 1.17                                  | 105.0                              | 32.4                                  | 82.36                                                | 79.30      | 85.41        | 281 635           | 5.5            | 107 328          | 2.1            | 2016                                      |\\n| 2017                                          | 357 771             | 7.0            | 285 534          | 5.6            | 1.05                                  | 106.3                              | 32.6                                  | 82.69                                                | 79.67      | 85.71        | 264 455           | 5.2            | 106 032          | 2.1            | 2017                                      |\\n| 2018                                          | 326 822             | 6.4            | 298 820          | 5.8            | 0.98                                  | 105.4                              | 32.8                                  | 82.74                                                | 79.74      | 85.73        | 257 622           | 5.0            | 108 684          | 2.1            | 2018                                      |\\n| 2019                                          | 302 676             | 5.9            | 295 110          | 5.7            | 0.92                                  | 105.5                              | 33.0                                  | 83.29                                                | 80.27      | 86.30        | 239 159           | 4.7            | 110 831          | 2.2            | 2019                                      |\\n|                                               |                     |                |                  |                |                                       |                                    |                                       |                                                      |            |              |                   |                |                  |                |                                           |\\n| 2020                                          | 272 337             | 5.3            | 304 948          | 5.9            | 0.84                                  | 104.8                              | 33.1                                  | 83.48                                                | 80.49      | 86.47        | 213 502           | 4.2            | 106 500          | 2.1            | 2020                                      |\\n| 2021                                          | 260 562             | 5.1            | 317 680          | 6.2            | 0.81                                  | 105.1                              | 33.4                                  | 83.61                                                | 80.61      | 86.62        | 192 507           | 3.8            | 101 673          | 2.0            | 2021                                      |\\n| 2022                                          | 249 186             | 4.9            | 372 939          | 7.3            | 0.78                                  | 104.7                              | 33.5                                  | 82.74                                                | 79.86      | 85.62        | 191 690           | 3.7            | 93 232           | 1.8            | 2022                                      |\\n| 2023                                          | 230 028             | 4.5            | 352 511          | 6.9            | 0.72                                  | 105.1                              | 33.6                                  | -                                                    | -          | -            | 193 657           | 3.8            | 92 394           | 1.8            | 2023                                      |\\n|                                               |                     |                |                  |                |                                       |                                    |                                       |                                                      |            |              |                   |                |                  |                |                                           |\\n|                                               |                     |                |                  |                |                                       |                                    |                                       |                                                      |            |              |                   |                |                  |                |                                           |\\n| 1) 여자 1명이 가임기간(15-49세)동안 낳을 것으로 예상되는 평균 출생아 수 |                     |                |                  |                |                                       |                                    |                                       |                                                      |            |              |                   |                |                  |                |                                           |\\n| 2) 여아 100명당 남아 수                              |                     |                |                  |                |                                       |                                    |                                       |                                                      |            |              |                   |                |                  |                |                                           |\\n'"
      ]
     },
     "execution_count": 13,
     "metadata": {},
     "output_type": "execute_result"
    }
   ],
   "source": [
    "documents[0].get_content()"
   ]
  },
  {
   "cell_type": "code",
   "execution_count": 15,
   "id": "22260b4f",
   "metadata": {},
   "outputs": [
    {
     "data": {
      "text/markdown": [
       "# 2표\n",
       "\n",
       "| 2 표. 인구동태건수 : 시도, 2004\\~2023      |   |         |         |         |         |         |         |         |         |         |                        | Table 2. Vital statistics (number) : Cities and Provinces, 2004-2023 |         |         |         |         |         |         |         |         |         |   |                       |\n",
       "| --------------------------------- | - | ------- | ------- | ------- | ------- | ------- | ------- | ------- | ------- | ------- | ---------------------- | -------------------------------------------------------------------- | ------- | ------- | ------- | ------- | ------- | ------- | ------- | ------- | ------- | - | --------------------- |\n",
       "|                                   |   |         |         |         |         |         |         |         |         |         |                        |                                                                      |         |         |         |         |         |         |         |         |         |   |                       |\n",
       "|                                   |   |         |         |         |         |         |         |         |         |         | (단위: 출생·사망 명, 혼인·이혼 건) |                                                                      |         |         |         |         |         |         |         |         |         |   | (Unit: persons, case) |\n",
       "| 지 역                               |   | 2023    | 2022    | 2021    | 2020    | 2019    | 2018    | 2017    | 2016    | 2015    | 2014                   | 2013                                                                 | 2012    | 2011    | 2010    | 2009    | 2008    | 2007    | 2006    | 2005    | 2004    |   | Place of residence    |\n",
       "|                                   |   |         |         |         |         |         |         |         |         |         |                        |                                                                      |         |         |         |         |         |         |         |         |         |   |                       |\n",
       "| 전 국                               |   |         |         |         |         |         |         |         |         |         |                        |                                                                      |         |         |         |         |         |         |         |         |         |   | Whole country         |\n",
       "| 출 생                               |   | 230 028 | 249 186 | 260 562 | 272 337 | 302 676 | 326 822 | 357 771 | 406 243 | 438 420 | 435 435                | 436 455                                                              | 484 550 | 471 265 | 470 171 | 444 849 | 465 892 | 496 822 | 451 759 | 438 707 | 476 958 |   | Live births           |\n",
       "| 사 망                               |   | 352 511 | 372 939 | 317 680 | 304 948 | 295 110 | 298 820 | 285 534 | 280 827 | 275 895 | 267 692                | 266 257                                                              | 267 221 | 257 396 | 255 405 | 246 942 | 246 113 | 246 482 | 244 162 | 245 874 | 246 220 |   | Deaths                |\n",
       "| 혼 인                               |   | 193 657 | 191 690 | 192 507 | 213 502 | 239 159 | 257 622 | 264 455 | 281 635 | 302 828 | 305 507                | 322 807                                                              | 327 073 | 329 087 | 326 104 | 309 759 | 327 715 | 343 559 | 330 634 | 314 304 | 308 598 |   | Marriages             |\n",
       "| 이 혼                               |   | 92 394  | 93 232  | 101 673 | 106 500 | 110 831 | 108 684 | 106 032 | 107 328 | 109 153 | 115 510                | 115 292                                                              | 114 316 | 114 284 | 116 858 | 123 999 | 116 535 | 124 072 | 124 524 | 128 035 | 138 932 |   | Divorces              |\n",
       "| 서울특별시                             |   |         |         |         |         |         |         |         |         |         |                        |                                                                      |         |         |         |         |         |         |         |         |         |   | Seoul                 |\n",
       "| 출 생                               |   | 39 456  | 42 602  | 45 531  | 47 445  | 53 673  | 58 074  | 65 389  | 75 536  | 83 005  | 83 711                 | 84 066                                                               | 93 914  | 91 526  | 93 266  | 89 594  | 94 736  | 101 249 | 93 922  | 90 468  | 99 828  |   | Live births           |\n",
       "| 사 망                               |   | 51 446  | 55 296  | 48 798  | 45 522  | 43 829  | 45 219  | 42 932  | 43 540  | 43 053  | 42 153                 | 42 063                                                               | 41 514  | 40 320  | 40 130  | 38 790  | 38 298  | 39 016  | 38 519  | 38 751  | 38 274  |   | Deaths                |\n",
       "| 혼 인                               |   | 36 324  | 35 752  | 37 012  | 44 746  | 48 261  | 52 005  | 53 776  | 57 643  | 64 193  | 64 823                 | 68 819                                                               | 71 695  | 71 519  | 70 466  | 68 841  | 71 753  | 76 399  | 73 924  | 71 286  | 71 553  |   | Marriages             |\n",
       "| 이 혼                               |   | 12 397  | 13 174  | 14 967  | 16 282  | 16 972  | 16 940  | 17 083  | 17 777  | 18 176  | 19 477                 | 20 126                                                               | 20 177  | 20 617  | 21 768  | 23 920  | 23 319  | 24 615  | 24 354  | 25 300  | 26 994  |   | Divorces              |\n",
       "| 부산광역시                             |   |         |         |         |         |         |         |         |         |         |                        |                                                                      |         |         |         |         |         |         |         |         |         |   | Busan                 |\n",
       "| 출 생                               |   | 12 866  | 14 134  | 14 446  | 15 058  | 17 049  | 19 152  | 21 480  | 24 906  | 26 645  | 26 190                 | 25 831                                                               | 28 673  | 27 759  | 27 415  | 25 110  | 26 670  | 28 426  | 25 881  | 25 681  | 28 231  |   | Live births           |\n",
       "| 사 망                               |   | 26 303  | 27 713  | 23 531  | 22 950  | 22 260  | 22 570  | 21 434  | 21 074  | 20 820  | 20 230                 | 20 096                                                               | 20 534  | 19 643  | 19 708  | 18 954  | 19 385  | 19 170  | 18 983  | 18 854  | 18 722  |   | Deaths                |\n",
       "| 혼 인                               |   | 10 303  | 10 618  | 11 081  | 12 128  | 13 780  | 14 781  | 15 677  | 17 113  | 18 553  | 18 927                 | 20 734                                                               | 20 362  | 20 224  | 20 195  | 18 614  | 20 149  | 21 484  | 20 017  | 18 973  | 19 898  |   | Marriages             |\n",
       "| 이 혼                               |   | 5 452   | 5 523   | 6 248   | 6 497   | 6 787   | 6 678   | 6 651   | 6 859   | 6 649   | 7 345                  | 7 444                                                                | 7 501   | 7 514   | 7 645   | 8 550   | 7 908   | 8 677   | 8 953   | 9 905   | 11 334  |   | Divorces              |\n",
       "| 대구광역시                             |   |         |         |         |         |         |         |         |         |         |                        |                                                                      |         |         |         |         |         |         |         |         |         |   | Daegu                 |\n",
       "| 출 생                               |   | 9 410   | 10 134  | 10 661  | 11 193  | 13 233  | 14 400  | 15 946  | 18 298  | 19 438  | 19 361                 | 19 340                                                               | 21 472  | 20 758  | 20 557  | 19 399  | 20 562  | 22 295  | 20 360  | 20 804  | 23 259  |   | Live births           |\n",
       "| 사 망                               |   | 16 556  | 17 592  | 14 560  | 14 460  | 13 752  | 14 070  | 13 629  | 13 502  | 13 081  | 12 642                 | 12 531                                                               | 12 352  | 12 355  | 12 054  | 11 741  | 11 605  | 11 282  | 11 359  | 11 507  | 11 848  |   | Deaths                |\n",
       "| 혼 인                               |   | 8 150   | 7 497   | 7 287   | 8 340   | 9 880   | 10 967  | 11 392  | 12 216  | 12 545  | 12 552                 | 13 601                                                               | 13 642  | 13 813  | 13 479  | 12 844  | 13 743  | 14 655  | 13 892  | 13 152  | 13 792  |   | Marriages             |\n",
       "| 이 혼                               |   | 3 931   | 3 675   | 4 111   | 4 345   | 4 655   | 4 530   | 4 380   | 4 383   | 4 497   | 4 794                  | 4 796                                                                | 4 947   | 4 658   | 5 107   | 5 361   | 5 005   | 5 330   | 5 490   | 5 916   | 6 635   |   | Divorces              |\n",
       "| 인천광역시                             |   |         |         |         |         |         |         |         |         |         |                        |                                                                      |         |         |         |         |         |         |         |         |         |   | Incheon               |\n",
       "| 출 생                               |   | 13 659  | 14 464  | 14 947  | 16 040  | 18 522  | 20 087  | 20 445  | 23 609  | 25 491  | 25 786                 | 25 560                                                               | 27 781  | 26 118  | 25 752  | 24 379  | 25 365  | 26 712  | 23 711  | 23 026  | 25 092  |   | Live births           |\n",
       "| 사 망                               |   | 18 242  | 18 957  | 16 493  | 15 689  | 15 131  | 15 316  | 14 290  | 14 119  | 13 452  | 13 409                 | 13 039                                                               | 12 881  | 12 504  | 12 087  | 11 662  | 11 366  | 11 376  | 11 068  | 11 144  | 11 042  |   | Deaths                |\n",
       "| 혼 인                               |   | 11 621  | 10 849  | 10 881  | 11 574  | 13 401  | 14 850  | 15 235  | 16 092  | 17 118  | 17 251                 | 18 010                                                               | 18 079  | 18 013  | 17 407  | 16 643  | 18 108  | 18 227  | 17 261  | 16 515  | 15 900  |   | Marriages             |\n",
       "| 이 혼                               |   | 6 243   | 6 045   | 6 740   | 6 931   | 7 176   | 7 011   | 6 988   | 7 097   | 7 116   | 7 417                  | 7 253                                                                | 7 306   | 6 840   | 7 354   | 7 880   | 7 414   | 7 854   | 8 132   | 8 646   | 9 546   |   | Divorces              |\n",
       "| 광주광역시                             |   |         |         |         |         |         |         |         |         |         |                        |                                                                      |         |         |         |         |         |         |         |         |         |   | Gwangju               |\n",
       "| 출 생                               |   | 6 172   | 7 446   | 7 956   | 7 318   | 8 364   | 9 105   | 10 120  | 11 580  | 12 441  | 12 729                 | 12 729                                                               | 14 392  | 13 916  | 13 979  | 13 101  | 13 890  | 14 810  | 13 679  | 13 327  | 14 729  |   | Live births           |\n",
       "| 사 망                               |   | 8 866   | 9 350   | 7 981   | 7 785   | 7 635   | 7 781   | 7 560   | 7 247   | 7 443   | 6 935                  | 6 891                                                                | 6 874   | 6 593   | 6 532   | 6 179   | 6 132   | 6 107   | 5 772   | 5 939   | 6 042   |   | Deaths                |\n",
       "| 혼 인                               |   | 5 169   | 4 902   | 4 901   | 5 560   | 6 297   | 6 632   | 7 141   | 7 468   | 7 945   | 8 213                  | 8 820                                                                | 8 596   | 8 946   | 8 566   | 8 088   | 8 472   | 8 858   | 8 487   | 7 827   | 8 012   |   | Marriages             |\n",
       "| 이 혼                               |   | 2 399   | 2 360   | 2 572   | 2 604   | 2 915   | 2 887   | 2 694   | 2 817   | 2 842   | 3 051                  | 2 924                                                                | 2 923   | 2 857   | 3 002   | 3 076   | 2 836   | 2 925   | 2 974   | 3 127   | 3 558   |   | Divorces              |\n",
       "| 대전광역시                             |   |         |         |         |         |         |         |         |         |         |                        |                                                                      |         |         |         |         |         |         |         |         |         |   | Daejeon               |\n",
       "| 출 생                               |   | 7 194   | 7 677   | 7 414   | 7 481   | 8 410   | 9 337   | 10 851  | 12 436  | 13 774  | 13 962                 | 14 099                                                               | 15 279  | 14 808  | 14 314  | 13 915  | 14 856  | 15 780  | 14 489  | 13 950  | 15 024  |   | Live births           |\n",
       "| 사 망                               |   | 8 677   | 9 302   | 7 889   | 7 572   | 7 502   | 7 403   | 7 029   | 6 958   | 6 961   | 6 564                  | 6 634                                                                | 6 580   | 6 336   | 6 313   | 5 949   | 6 105   | 5 991   | 5 952   | 5 779   | 5 951   |   | Deaths                |\n",
       "| 혼 인                               |   | 5 212   | 5 662   | 5 419   | 5 976   | 6 602   | 7 377   | 7 697   | 8 325   | 8 805   | 9 118                  | 9 621                                                                | 9 745   | 9 726   | 9 351   | 8 885   | 9 499   | 9 684   | 9 502   | 9 035   | 8 857   |   | Marriages             |\n",
       "| 이 혼                               |   | 2 471   | 2 492   | 2 754   | 3 009   | 3 097   | 3 008   | 2 855   | 2 890   | 2 999   | 3 221                  | 3 003                                                                | 2 938   | 3 067   | 3 189   | 3 433   | 3 236   | 3 449   | 3 287   | 3 328   | 3 942   |   | Divorces              |\n",
       "| 울산광역시                             |   |         |         |         |         |         |         |         |         |         |                        |                                                                      |         |         |         |         |         |         |         |         |         |   | Ulsan                 |\n",
       "| 출 생                               |   | 5 082   | 5 399   | 6 127   | 6 617   | 7 539   | 8 149   | 9 381   | 10 910  | 11 732  | 11 556                 | 11 330                                                               | 12 160  | 11 542  | 11 432  | 11 033  | 11 365  | 11 955  | 10 740  | 10 469  | 11 151  |   | Live births           |\n",
       "| 사 망                               |   | 6 076   | 6 369   | 5 493   | 5 302   | 5 268   | 5 349   | 4 886   | 4 947   | 4 915   | 4 695                  | 4 871                                                                | 4 567   | 4 462   | 4 328   | 4 318   | 4 172   | 4 131   | 4 104   | 4 108   | 3 969   |   | Deaths                |\n",
       "| 혼 인                               |   | 4 274   | 4 013   | 4 077   | 4 737   | 5 442   | 5 894   | 6 331   | 7 006   | 7 483   | 7 674                  | 7 998                                                                | 7 887   | 7 768   | 7 660   | 7 267   | 7 837   | 7 563   | 7 493   | 6 939   | 6 647   |   | Marriages             |\n",
       "| 이 혼                               |   | 2 060   | 2 165   | 2 425   | 2 460   | 2 534   | 2 658   | 2 519   | 2 520   | 2 406   | 2 731                  | 2 578                                                                | 2 590   | 2 380   | 2 597   | 2 591   | 2 295   | 2 581   | 2 825   | 2 780   | 3 024   |   | Divorces              |\n",
       "| 세종특별자치시                           |   |         |         |         |         |         |         |         |         |         |                        |                                                                      |         |         |         |         |         |         |         |         |         |   | Sejong                |\n",
       "| 출 생                               |   | 2 761   | 3 209   | 3 570   | 3 468   | 3 819   | 3 703   | 3 504   | 3 297   | 2 708   | 1 344                  | 1 111                                                                | 1 054   | -       | -       | -       | -       | -       | -       | -       | -       |   | Live births           |\n",
       "| 사 망                               |   | 1 595   | 1 678   | 1 354   | 1 317   | 1 221   | 1 259   | 1 159   | 1 065   | 979     | 853                    | 812                                                                  | 820     | -       | -       | -       | -       | -       | -       | -       | -       |   | Deaths                |\n",
       "| 혼 인                               |   | 1 705   | 1 664   | 1 627   | 1 854   | 2 039   | 2 038   | 1 728   | 1 612   | 1 498   | 920                    | 743                                                                  | 634     | -       | -       | -       | -       | -       | -       | -       | -       |   | Marriages             |\n",
       "| 이 혼                               |   | 569     | 546     | 624     | 601     | 606     | 485     | 465     | 343     | 324     | 280                    | 240                                                                  | 223     | -       | -       | -       | -       | -       | -       | -       | -       |   | Divorces              |\n",
       "|                                   |   |         |         |         |         |         |         |         |         |         |                        |                                                                      |         |         |         |         |         |         |         |         |         |   |                       |\n",
       "| 1) 본표의 혼인과 이혼건수는 남편의 주소지를 기준으로 집계 |   |         |         |         |         |         |         |         |         |         |                        |                                                                      |         |         |         |         |         |         |         |         |         |   |                       |\n",
       "| 2 표. 인구동태건수 : 시도, 2004\\~2023      |   |         |         |         |         |         |         |         |         |         |                        | Table 2. Vital statistics (number) : Cities and Provinces, 2004-2023 |         |         |         |         |         |         |         |         |         |   |                       |\n",
       "|                                   |   |         |         |         |         |         |         |         |         |         |                        |                                                                      |         |         |         |         |         |         |         |         |         |   |                       |\n",
       "|                                   |   |         |         |         |         |         |         |         |         |         | -계 속-                  |                                                                      |         |         |         |         |         |         |         |         |         |   | -Cont'd-              |\n",
       "| 지 역                               |   | 2023    | 2022    | 2021    | 2020    | 2019    | 2018    | 2017    | 2016    | 2015    | 2014                   | 2013                                                                 | 2012    | 2011    | 2010    | 2009    | 2008    | 2007    | 2006    | 2005    | 2004    |   | Place of residence    |\n",
       "|                                   |   |         |         |         |         |         |         |         |         |         |                        |                                                                      |         |         |         |         |         |         |         |         |         |   |                       |\n",
       "| 경 기 도                             |   |         |         |         |         |         |         |         |         |         |                        |                                                                      |         |         |         |         |         |         |         |         |         |   | Gyeonggi              |\n",
       "| 출 생                               |   | 68 817  | 75 323  | 76 139  | 77 737  | 83 198  | 88 175  | 94 088  | 105 643 | 113 495 | 112 169                | 112 129                                                              | 124 746 | 122 027 | 121 753 | 113 692 | 119 397 | 126 648 | 115 111 | 109 533 | 117 812 |   | Live births           |\n",
       "| 사 망                               |   | 74 949  | 79 010  | 67 399  | 62 794  | 60 568  | 60 050  | 56 852  | 55 215  | 53 005  | 51 425                 | 50 959                                                               | 50 830  | 48 394  | 47 687  | 45 132  | 44 168  | 43 865  | 43 195  | 42 991  | 42 266  |   | Deaths                |\n",
       "| 혼 인                               |   | 54 221  | 54 178  | 54 658  | 57 814  | 62 356  | 66 877  | 66 429  | 70 052  | 73 950  | 74 306                 | 77 649                                                               | 79 449  | 79 137  | 78 471  | 73 403  | 78 004  | 81 248  | 77 231  | 72 431  | 70 236  |   | Marriages             |\n",
       "| 이 혼                               |   | 24 833  | 24 864  | 27 256  | 27 983  | 28 453  | 27 884  | 26 924  | 26 723  | 27 688  | 28 892                 | 28 733                                                               | 28 452  | 28 444  | 27 810  | 29 807  | 28 379  | 29 964  | 30 003  | 30 358  | 31 608  |   | Divorces              |\n",
       "| 강원특별자치도                           |   |         |         |         |         |         |         |         |         |         |                        |                                                                      |         |         |         |         |         |         |         |         |         |   | Gangwon               |\n",
       "| 출 생                               |   | 6 688   | 7 278   | 7 357   | 7 835   | 8 283   | 8 351   | 8 958   | 10 058  | 10 929  | 10 662                 | 10 980                                                               | 12 426  | 12 408  | 12 477  | 12 112  | 12 373  | 13 690  | 12 455  | 12 657  | 13 776  |   | Live births           |\n",
       "| 사 망                               |   | 14 224  | 15 086  | 12 749  | 12 182  | 11 906  | 11 976  | 11 545  | 11 437  | 11 301  | 11 004                 | 10 756                                                               | 11 030  | 10 521  | 10 729  | 10 415  | 10 506  | 10 401  | 10 490  | 10 573  | 10 651  |   | Deaths                |\n",
       "| 혼 인                               |   | 5 494   | 5 572   | 5 622   | 5 868   | 6 762   | 6 994   | 7 295   | 7 468   | 7 876   | 7 785                  | 7 946                                                                | 8 225   | 8 338   | 8 365   | 8 081   | 8 517   | 8 930   | 8 731   | 8 496   | 8 235   |   | Marriages             |\n",
       "| 이 혼                               |   | 2 961   | 3 117   | 3 161   | 3 358   | 3 624   | 3 418   | 3 263   | 3 482   | 3 484   | 3 630                  | 3 725                                                                | 3 550   | 3 562   | 3 579   | 3 742   | 3 394   | 3 818   | 3 985   | 4 105   | 4 322   |   | Divorces              |\n",
       "| 충 청 북 도                           |   |         |         |         |         |         |         |         |         |         |                        |                                                                      |         |         |         |         |         |         |         |         |         |   | Chungbuk              |\n",
       "| 출 생                               |   | 7 580   | 7 452   | 8 190   | 8 607   | 9 333   | 10 586  | 11 394  | 12 742  | 13 563  | 13 366                 | 13 658                                                               | 15 139  | 14 804  | 14 670  | 13 903  | 14 064  | 15 002  | 13 366  | 13 164  | 14 331  |   | Live births           |\n",
       "| 사 망                               |   | 13 463  | 14 108  | 11 941  | 11 594  | 11 363  | 11 334  | 11 104  | 10 787  | 10 638  | 10 174                 | 10 371                                                               | 10 478  | 10 176  | 9 825   | 9 985   | 9 717   | 9 690   | 9 555   | 9 727   | 9 605   |   | Deaths                |\n",
       "| 혼 인                               |   | 6 212   | 6 185   | 5 882   | 6 682   | 7 239   | 7 827   | 7 990   | 8 334   | 8 872   | 8 774                  | 9 307                                                                | 9 275   | 9 542   | 9 171   | 8 666   | 9 512   | 9 834   | 9 291   | 8 390   | 8 534   |   | Marriages             |\n",
       "| 이 혼                               |   | 3 255   | 3 271   | 3 256   | 3 492   | 3 699   | 3 543   | 3 461   | 3 446   | 3 486   | 3 671                  | 3 732                                                                | 3 424   | 3 675   | 3 554   | 3 738   | 3 354   | 3 558   | 3 438   | 3 469   | 3 839   |   | Divorces              |\n",
       "| 충 청 남 도                           |   |         |         |         |         |         |         |         |         |         |                        |                                                                      |         |         |         |         |         |         |         |         |         |   | Chungnam              |\n",
       "| 출 생                               |   | 9 436   | 10 221  | 10 984  | 11 950  | 13 228  | 14 380  | 15 670  | 17 302  | 18 604  | 18 200                 | 18 628                                                               | 20 448  | 20 398  | 20 242  | 19 257  | 19 749  | 20 630  | 18 625  | 17 521  | 18 640  |   | Live births           |\n",
       "| 사 망                               |   | 18 781  | 19 719  | 16 326  | 16 022  | 15 596  | 15 802  | 15 321  | 14 600  | 14 469  | 14 149                 | 13 854                                                               | 13 994  | 14 025  | 14 014  | 13 555  | 13 592  | 13 953  | 13 617  | 14 018  | 14 087  |   | Deaths                |\n",
       "| 혼 인                               |   | 8 264   | 8 017   | 8 016   | 8 493   | 9 826   | 10 970  | 10 961  | 11 792  | 12 331  | 12 040                 | 12 482                                                               | 12 849  | 13 216  | 13 185  | 12 708  | 13 354  | 13 766  | 13 373  | 12 107  | 11 418  |   | Marriages             |\n",
       "| 이 혼                               |   | 4 429   | 4 527   | 4 798   | 5 003   | 5 202   | 4 842   | 4 835   | 4 682   | 4 724   | 4 915                  | 4 820                                                                | 4 685   | 4 819   | 4 756   | 5 178   | 4 472   | 4 703   | 4 647   | 4 594   | 5 148   |   | Divorces              |\n",
       "| 전 라 북 도                           |   |         |         |         |         |         |         |         |         |         |                        |                                                                      |         |         |         |         |         |         |         |         |         |   | Jeonbuk               |\n",
       "| 출 생                               |   | 6 622   | 7 032   | 7 475   | 8 165   | 8 971   | 10 001  | 11 348  | 12 698  | 14 087  | 14 231                 | 14 555                                                               | 16 238  | 16 175  | 16 100  | 15 233  | 15 878  | 17 228  | 15 571  | 15 745  | 17 257  |   | Live births           |\n",
       "| 사 망                               |   | 17 201  | 17 852  | 15 049  | 14 691  | 14 525  | 14 552  | 14 295  | 14 062  | 13 721  | 13 563                 | 13 492                                                               | 13 700  | 13 126  | 13 188  | 12 921  | 13 241  | 13 380  | 13 347  | 13 456  | 13 574  |   | Deaths                |\n",
       "| 혼 인                               |   | 5 483   | 5 394   | 5 325   | 6 053   | 7 005   | 7 219   | 7 817   | 8 216   | 9 060   | 9 211                  | 9 823                                                                | 10 022  | 10 353  | 10 525  | 9 605   | 10 399  | 10 864  | 10 429  | 10 196  | 10 111  |   | Marriages             |\n",
       "| 이 혼                               |   | 3 420   | 3 377   | 3 748   | 3 763   | 4 007   | 3 934   | 3 698   | 3 979   | 3 755   | 4 091                  | 4 144                                                                | 3 856   | 4 176   | 3 910   | 4 285   | 3 784   | 4 417   | 4 448   | 4 471   | 5 086   |   | Divorces              |\n",
       "| 전 라 남 도                           |   |         |         |         |         |         |         |         |         |         |                        |                                                                      |         |         |         |         |         |         |         |         |         |   | Jeonnam               |\n",
       "| 출 생                               |   | 7 828   | 7 888   | 8 430   | 9 738   | 10 832  | 11 238  | 12 354  | 13 980  | 15 061  | 14 817                 | 15 401                                                               | 16 990  | 16 612  | 16 654  | 15 995  | 16 363  | 17 844  | 15 905  | 15 818  | 17 256  |   | Live births           |\n",
       "| 사 망                               |   | 19 786  | 20 876  | 17 568  | 17 436  | 16 787  | 17 219  | 16 848  | 16 561  | 16 543  | 16 053                 | 16 332                                                               | 16 766  | 16 090  | 16 042  | 15 734  | 16 018  | 16 030  | 16 253  | 16 329  | 17 141  |   | Deaths                |\n",
       "| 혼 인                               |   | 6 157   | 6 181   | 6 201   | 6 365   | 7 413   | 7 587   | 8 049   | 8 554   | 9 275   | 9 357                  | 9 995                                                                | 9 827   | 10 266  | 10 461  | 10 051  | 10 480  | 10 854  | 10 507  | 9 984   | 9 675   |   | Marriages             |\n",
       "| 이 혼                               |   | 3 517   | 3 565   | 3 776   | 3 907   | 4 130   | 4 170   | 4 008   | 3 965   | 4 033   | 4 135                  | 4 096                                                                | 4 011   | 4 138   | 4 326   | 4 290   | 4 021   | 4 240   | 4 423   | 4 394   | 4 915   |   | Divorces              |\n",
       "| 경 상 북 도                           |   |         |         |         |         |         |         |         |         |         |                        |                                                                      |         |         |         |         |         |         |         |         |         |   | Gyeongbuk             |\n",
       "| 출 생                               |   | 10 186  | 11 311  | 12 045  | 12 873  | 14 472  | 16 079  | 17 957  | 20 616  | 22 310  | 22 062                 | 22 206                                                               | 24 635  | 24 250  | 23 700  | 22 373  | 23 538  | 25 062  | 22 567  | 22 339  | 23 553  |   | Live births           |\n",
       "| 사 망                               |   | 25 283  | 27 840  | 22 928  | 22 799  | 21 703  | 22 289  | 21 278  | 20 978  | 20 862  | 20 304                 | 20 245                                                               | 20 644  | 20 237  | 20 249  | 19 627  | 19 654  | 19 975  | 19 943  | 20 310  | 20 684  |   | Deaths                |\n",
       "| 혼 인                               |   | 8 128   | 8 180   | 8 163   | 9 046   | 10 637  | 11 687  | 12 190  | 13 363  | 14 273  | 14 183                 | 15 421                                                               | 15 383  | 15 942  | 15 592  | 14 499  | 15 634  | 16 623  | 16 178  | 14 639  | 14 000  |   | Marriages             |\n",
       "| 이 혼                               |   | 4 870   | 4 911   | 5 097   | 5 553   | 5 635   | 5 620   | 5 505   | 5 375   | 5 348   | 5 503                  | 5 410                                                                | 5 562   | 5 322   | 5 476   | 5 523   | 5 287   | 5 571   | 5 604   | 5 828   | 6 376   |   | Divorces              |\n",
       "| 경 상 남 도                           |   |         |         |         |         |         |         |         |         |         |                        |                                                                      |         |         |         |         |         |         |         |         |         |   | Gyeongnam             |\n",
       "| 출 생                               |   | 13 049  | 14 017  | 15 562  | 16 823  | 19 250  | 21 224  | 23 849  | 27 138  | 29 537  | 29 763                 | 29 504                                                               | 33 211  | 32 536  | 32 203  | 30 320  | 31 493  | 33 313  | 29 524  | 28 471  | 30 922  |   | Live births           |\n",
       "| 사 망                               |   | 26 386  | 27 385  | 23 392  | 22 881  | 22 105  | 22 719  | 21 634  | 21 193  | 21 313  | 20 239                 | 19 994                                                               | 20 419  | 19 593  | 19 502  | 19 157  | 19 341  | 19 184  | 18 982  | 19 420  | 19 481  |   | Deaths                |\n",
       "| 혼 인                               |   | 10 232  | 10 504  | 10 531  | 11 900  | 13 613  | 14 996  | 15 978  | 17 580  | 18 671  | 19 056                 | 20 291                                                               | 20 140  | 20 769  | 21 170  | 19 494  | 20 497  | 21 555  | 20 789  | 18 664  | 18 375  |   | Marriages             |\n",
       "| 이 혼                               |   | 6 471   | 6 530   | 7 034   | 7 368   | 7 827   | 7 575   | 7 355   | 7 486   | 7 368   | 7 602                  | 7 547                                                                | 7 427   | 7 207   | 7 503   | 7 476   | 6 981   | 7 493   | 7 603   | 7 844   | 8 547   |   | Divorces              |\n",
       "| 제주특별자치도                           |   |         |         |         |         |         |         |         |         |         |                        |                                                                      |         |         |         |         |         |         |         |         |         |   | Jeju                  |\n",
       "| 출 생                               |   | 3 222   | 3 599   | 3 728   | 3 989   | 4 500   | 4 781   | 5 037   | 5 494   | 5 600   | 5 526                  | 5 328                                                                | 5 992   | 5 628   | 5 657   | 5 433   | 5 593   | 6 178   | 5 853   | 5 734   | 6 097   |   | Live births           |\n",
       "| 사 망                               |   | 4 677   | 4 806   | 4 229   | 3 952   | 3 959   | 3 912   | 3 738   | 3 542   | 3 339   | 3 300                  | 3 317                                                                | 3 238   | 3 021   | 3 017   | 2 823   | 2 813   | 2 931   | 3 023   | 2 968   | 2 883   |   | Deaths                |\n",
       "| 혼 인                               |   | 2 614   | 2 718   | 2 661   | 2 981   | 3 358   | 3 638   | 3 654   | 3 705   | 3 676   | 3 593                  | 3 638                                                                | 3 482   | 3 582   | 3 515   | 3 279   | 3 445   | 3 495   | 3 576   | 3 382   | 3 325   |   | Marriages             |\n",
       "| 이 혼                               |   | 1 493   | 1 564   | 1 490   | 1 744   | 1 716   | 1 607   | 1 530   | 1 552   | 1 447   | 1 530                  | 1 440                                                                | 1 426   | 1 395   | 1 466   | 1 469   | 1 238   | 1 561   | 1 613   | 1 663   | 1 777   |   | Divorces              |\n"
      ],
      "text/plain": [
       "<IPython.core.display.Markdown object>"
      ]
     },
     "metadata": {},
     "output_type": "display_data"
    }
   ],
   "source": [
    "from IPython.display import Markdown, display\n",
    "display(Markdown(documents[1].get_content()))"
   ]
  },
  {
   "cell_type": "code",
   "execution_count": 18,
   "id": "97344158",
   "metadata": {},
   "outputs": [
    {
     "data": {
      "image/png": "[encoded data removed]",
      "text/plain": [
       "<Figure size 640x480 with 1 Axes>"
      ]
     },
     "metadata": {},
     "output_type": "display_data"
    }
   ],
   "source": [
    "# 문서별 글자 수 확인\n",
    "doc_lengths = [len(doc.text) for doc in documents]\n",
    "\n",
    "plt.hist(doc_lengths, bins=50)\n",
    "plt.show()"
   ]
  },
  {
   "cell_type": "code",
   "execution_count": 19,
   "id": "726b1c32",
   "metadata": {},
   "outputs": [
    {
     "data": {
      "image/png": "[encoded data removed]",
      "text/plain": [
       "<Figure size 640x480 with 1 Axes>"
      ]
     },
     "metadata": {},
     "output_type": "display_data"
    }
   ],
   "source": [
    "# 문서별 토큰 수 확인\n",
    "doc_tokens = [len(tokenizer.encode(doc.text)) for doc in documents]\n",
    "plt.hist(doc_tokens, bins=50)\n",
    "plt.xlabel(\"Length\")\n",
    "plt.ylabel(\"Frequency\")\n",
    "plt.show()"
   ]
  },
  {
   "cell_type": "markdown",
   "id": "e70e201e",
   "metadata": {},
   "source": [
    "### 2\\) 인덱싱"
   ]
  },
  {
   "cell_type": "code",
   "execution_count": 25,
   "id": "32204630",
   "metadata": {},
   "outputs": [],
   "source": [
    "# 자식 문서용 텍스트 스플리터 (검색용 작은 청크)\n",
    "child_splitter = RecursiveCharacterTextSplitter.from_tiktoken_encoder(\n",
    "    chunk_size=500,\n",
    "    chunk_overlap=100,\n",
    "    separators=[\"\\n\\n\", \"\\n\", \"|\", \"\"]\n",
    ")\n",
    "\n",
    "# 부모 문서 저장소 정의\n",
    "store = PickleFileStore(\"./population_store_02\")\n",
    "\n",
    "# 벡터 스토어 초기화\n",
    "vectorstore = Chroma(\n",
    "    collection_name=\"population_sections_01\",\n",
    "    embedding_function=embeddings,\n",
    "    persist_directory=\"./population_db\"\n",
    ")\n",
    "\n",
    "# ParentDocumentRetriever 설정\n",
    "retriever = ParentDocumentRetriever(\n",
    "    vectorstore=vectorstore,\n",
    "    docstore=store,\n",
    "    child_splitter=child_splitter,\n",
    ")\n",
    "\n",
    "# 문서 추가\n",
    "retriever.add_documents([Document(page_content=doc.text) for doc in documents])"
   ]
  },
  {
   "cell_type": "code",
   "execution_count": 26,
   "id": "f2be9da4",
   "metadata": {},
   "outputs": [
    {
     "name": "stdout",
     "output_type": "stream",
     "text": [
      "Retrieved 3 documents\n",
      "# 부록 2_출생\n",
      "\n",
      "| 2. 국가, 성ㆍ발생월별 국외 출생 2013\\~2023              |             |          |       |        |         |        |         |        |         |        |         |        |         |         | 2. Live births by sex and month of occurrence : abroad, 2013\\~2023 |        |         |        |         |        |         |        |          |        |          |        |          |        |                        |\n",
      "| ------------------------------------------- | ----------- | -------- | ----- | --\n",
      "----------------------------------------------------------------------------------------------------\n",
      "# 1표\n",
      "\n",
      "| 1 표. 인구동태건수 및 동태율 : 전국, 1970∼2023             |                     |                |                  |                |                                       |                                    |                                       | Table 1. Vital statistics : Whole country, 1970-2023 |            |              |                   |                |                  |                |                                           |\n",
      "| --------------------------------------------- | --\n",
      "----------------------------------------------------------------------------------------------------\n",
      "# 11표\n",
      "\n",
      "| 11 표. 성·출산순위별 출생 : 시군구                                   |                     |         |         |           |        |           |        |                    |        |         |        |                    |\n",
      "| -------------------------------------------------------- | ------------------- | ------- | ------- | --------- | ------ | --------- | ------ | ------------------ | ------ | ------- | ------ | ------------------ |\n",
      "|                                                          |   \n",
      "----------------------------------------------------------------------------------------------------\n"
     ]
    }
   ],
   "source": [
    "# 검색기 테스트\n",
    "retrieved_docs = retriever.invoke(test_queries[0])\n",
    "print(f\"Retrieved {len(retrieved_docs)} documents\")\n",
    "\n",
    "for doc in retrieved_docs:\n",
    "    print(doc.page_content[:500])\n",
    "    print(\"-\" * 100)"
   ]
  },
  {
   "cell_type": "markdown",
   "id": "bb675842",
   "metadata": {},
   "source": [
    "### 3\\) RAG 테스트"
   ]
  },
  {
   "cell_type": "code",
   "execution_count": 27,
   "id": "25d2b1b6",
   "metadata": {},
   "outputs": [
    {
     "name": "stdout",
     "output_type": "stream",
     "text": [
      "2023년 대한민국의 출생아 수는 230,028명이며, 조출생률은 4.5명(인구 1천 명당)입니다.\n"
     ]
    }
   ],
   "source": [
    "response = generate_answer(test_queries[0], retriever)\n",
    "print(response)"
   ]
  },
  {
   "cell_type": "code",
   "execution_count": 28,
   "id": "84a0eb51",
   "metadata": {},
   "outputs": [
    {
     "name": "stdout",
     "output_type": "stream",
     "text": [
      "2020년부터 2023년까지 대한민국의 합계출산율 변화 추이는 다음과 같습니다.\n",
      "\n",
      "- 2020년: 0.84\n",
      "- 2021년: 0.81\n",
      "- 2022년: 0.78\n",
      "- 2023년: 0.72\n",
      "\n",
      "요약하면, 2020년부터 2023년까지 합계출산율은 지속적으로 감소하는 추세를 보이고 있습니다. 2020년 0.84에서 2023년 0.72로 약간의 하락이 있었습니다.\n"
     ]
    }
   ],
   "source": [
    "response = generate_answer(test_queries[1], retriever)\n",
    "print(response)"
   ]
  },
  {
   "cell_type": "code",
   "execution_count": 29,
   "id": "169dc9dd",
   "metadata": {},
   "outputs": [
    {
     "name": "stdout",
     "output_type": "stream",
     "text": [
      "2022년과 2023년의 사망자 수를 비교하면 다음과 같습니다.\n",
      "\n",
      "- 전국 사망자 수:\n",
      "  - 2022년: 372,939명\n",
      "  - 2023년: 352,511명\n",
      "  - 차이: 2023년이 2022년보다 20,428명 감소\n",
      "\n",
      "- 주요 광역시별 사망자 수 변화:\n",
      "  - 서울특별시: 2022년 55,296명 → 2023년 51,446명 (3,850명 감소)\n",
      "  - 부산광역시: 2022년 27,713명 → 2023년 26,303명 (1,410명 감소)\n",
      "  - 대구광역시: 2022년 17,592명 → 2023년 16,556명 (1,036명 감소)\n",
      "  - 인천광역시: 2022년 18,957명 → 2023년 18,242명 (715명 감소)\n",
      "  - 광주광역시: 2022년 9,350명 → 2023년 8,866명 (484명 감소)\n",
      "  - 대전광역시: 2022년 9,302명 → 2023년 8,677명 (625명 감소)\n",
      "  - 울산광역시: 2022년 6,369명 → 2023년 6,076명 (293명 감소)\n",
      "  - 세종특별자치시: 2022년 1,678명 → 2023년 1,595명 (83명 감소)\n",
      "\n",
      "- 경기도 사망자 수:\n",
      "  - 2022년: 79,010명\n",
      "  - 2023년: 74,949명\n",
      "  - 차이: 4,061명 감소\n",
      "\n",
      "전반적으로 2023년의 사망자 수는 2022년에 비해 전국적으로 약 20,000명 이상 감소하였으며, 서울, 부산, 대구, 인천 등 주요 도시에서도 사망자 수가 모두 감소한 것으로 나타났습니다. 이는 2023년에 사망률이 다소 낮아졌음을 의미합니다.\n",
      "\n",
      "요약하면, 2023년은 2022년에 비해 사망자 수가 전국적으로 감소한 해입니다.\n"
     ]
    }
   ],
   "source": [
    "response = generate_answer(test_queries[2], retriever)\n",
    "print(response)"
   ]
  },
  {
   "cell_type": "code",
   "execution_count": 30,
   "id": "5dea4a70",
   "metadata": {},
   "outputs": [
    {
     "name": "stdout",
     "output_type": "stream",
     "text": [
      "2023년 대한민국의 합계출산율은 0.72명입니다.\n"
     ]
    }
   ],
   "source": [
    "response = generate_answer(test_queries[3], retriever)\n",
    "print(response)"
   ]
  },
  {
   "cell_type": "code",
   "execution_count": 31,
   "id": "3632f827",
   "metadata": {},
   "outputs": [
    {
     "name": "stdout",
     "output_type": "stream",
     "text": [
      "제공된 자료에는 2019년부터 2023년까지의 한국의 조출생률(crude birth rate)에 대한 직접적인 수치가 명시되어 있지 않습니다. 다만, 출생 건수와 인구 관련 통계가 포함되어 있어 이를 바탕으로 조출생률 변화를 유추할 수 있습니다.\n",
      "\n",
      "- 2019년 출생자 수: 302,676명\n",
      "- 2020년 출생자 수: 272,337명\n",
      "- 2021년 출생자 수: 260,562명\n",
      "- 2022년 출생자 수: 249,186명\n",
      "- 2023년 출생자 수: 230,028명\n",
      "\n",
      "출생자 수는 2019년 이후 지속적으로 감소하는 추세를 보이고 있습니다. 조출생률은 인구 1,000명당 출생아 수를 의미하므로, 인구 규모 변동에 따라 다소 차이가 있을 수 있으나, 출생자 수 감소는 조출생률 하락으로 이어졌을 가능성이 큽니다.\n",
      "\n",
      "따라서 2019년부터 2023년까지 한국의 조출생률은 전반적으로 감소한 것으로 분석됩니다.\n",
      "\n",
      "요약:\n",
      "- 2019년부터 2023년까지 출생자 수가 꾸준히 감소\n",
      "- 이에 따라 조출생률도 감소 추세로 추정\n",
      "\n",
      "참고: 정확한 조출생률 수치는 제공된 자료에 포함되어 있지 않습니다.\n",
      "\n",
      "필요시 인구 규모 자료와 함께 조출생률을 별도로 계산해야 합니다.\n"
     ]
    }
   ],
   "source": [
    "response = generate_answer(test_queries[4], retriever)\n",
    "print(response)"
   ]
  },
  {
   "cell_type": "code",
   "execution_count": null,
   "id": "65403024",
   "metadata": {},
   "outputs": [],
   "source": []
  }
 ],
 "metadata": {
  "kernelspec": {
   "display_name": ".venv",
   "language": "python",
   "name": "python3"
  },
  "language_info": {
   "codemirror_mode": {
    "name": "ipython",
    "version": 3
   },
   "file_extension": ".py",
   "mimetype": "text/x-python",
   "name": "python",
   "nbconvert_exporter": "python",
   "pygments_lexer": "ipython3",
   "version": "3.12.10"
  }
 },
 "nbformat": 4,
 "nbformat_minor": 5
}
